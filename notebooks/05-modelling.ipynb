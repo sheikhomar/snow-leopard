{
 "cells": [
  {
   "cell_type": "code",
   "execution_count": 1,
   "id": "bf204ff1-1d9a-461c-a7f7-9849d85c8fc6",
   "metadata": {},
   "outputs": [],
   "source": [
    "import matplotlib.pyplot as plt\n",
    "import matplotlib.ticker as ticker\n",
    "import numpy as np\n",
    "import pandas as pd\n",
    "\n",
    "from sklearn.compose import ColumnTransformer\n",
    "from sklearn.decomposition import TruncatedSVD\n",
    "from sklearn.datasets import fetch_openml\n",
    "from sklearn.pipeline import Pipeline\n",
    "from sklearn.preprocessing import StandardScaler, OneHotEncoder"
   ]
  },
  {
   "cell_type": "code",
   "execution_count": 56,
   "id": "c1e566f5-0440-4e40-a5a0-c5e6c948e241",
   "metadata": {
    "tags": []
   },
   "outputs": [],
   "source": [
    "def get_unique_value_lengths(dataframe: pd.DataFrame, col_name: str):\n",
    "    unique_vals = map(lambda r: str(r), dataframe[col_name].unique())\n",
    "    unique_vals = filter(lambda r: r != 'nan', unique_vals)\n",
    "    unique_vals = map(lambda r: len(r), unique_vals)\n",
    "    unique_vals = list(unique_vals)\n",
    "    return np.array(unique_vals)\n",
    "\n",
    "def inferred_type(dataframe: pd.DataFrame, col_name: str, max_cat_value_count: int=1000) -> np.dtype:\n",
    "    is_datetime_col = dataframe[col_name].str.match('(\\d{2,4}(-|\\/|\\\\|\\.| )\\d{2}(-|\\/|\\\\|\\.| )\\d{2,4})+').all()\n",
    "    if is_datetime_col:\n",
    "        return 'datetime'\n",
    "    \n",
    "    is_int32 = dataframe[col_name].str.match('\\d{1,6}$').all()\n",
    "    if is_int32:\n",
    "        return 'int32'\n",
    "    \n",
    "    is_float = dataframe[col_name].str.match(r'\\d{1,6}(\\.\\d{1,5})?$').all()\n",
    "    if is_float:\n",
    "        return 'float'\n",
    "    \n",
    "    unique_vals = dataframe[col_name].unique()\n",
    "    n_unique = unique_vals.shape[0]\n",
    "\n",
    "    if n_unique == 2 or n_unique == 3:\n",
    "        bool_vals = np.array(['(N/A)', 'N', 'Y'], dtype='str')\n",
    "        possible_bool_vals = np.array(pd.DataFrame(unique_vals).fillna('(N/A)')[0])\n",
    "        if np.isin(possible_bool_vals, bool_vals).all():\n",
    "            return 'bool'\n",
    "    \n",
    "    if n_unique >= 2 and n_unique < max_cat_value_count:\n",
    "        unique_val_lengths = get_unique_value_lengths(dataframe, col_name)\n",
    "        if np.max(unique_val_lengths) > 300:\n",
    "            # print(f'{col_name} -> {np.max(unique_val_lengths)}')\n",
    "            return 'object'\n",
    "        return 'category'\n",
    "\n",
    "    return 'object'\n",
    "\n",
    "def filter_rows(dataframe: pd.DataFrame, min_count_per_category: int=50):\n",
    "    # Count number of rows per category\n",
    "    df_count_by_category = dataframe.groupby('category_name').agg({'id': 'count'}).rename(columns={'id': 'n_rows'})\n",
    "\n",
    "    # Find categories with at least N amount of rows\n",
    "    categories = list(df_count_by_category[df_count_by_category.n_rows > min_count_per_category].index)\n",
    "\n",
    "    # Delete rows with few that N amount of rows per category\n",
    "    return dataframe[dataframe.category_name.isin(categories)]\n",
    "\n",
    "def filter_columns(dataframe: pd.DataFrame, min_count_per_feature:int=10):\n",
    "    # Get columns that specify features of the products\n",
    "    product_feature_columns = list(dataframe.columns)[26:]\n",
    "\n",
    "    # Find columns that have too few specified values\n",
    "    n_rows = dataframe.shape[0]\n",
    "    excluded_cols = []\n",
    "    for col in product_feature_columns:\n",
    "        n_filled = n_rows - dataframe[col].isna().sum()\n",
    "        if n_filled < min_count_per_feature:\n",
    "            excluded_cols.append(col)\n",
    "    \n",
    "    # Manually remove columns\n",
    "    excluded_cols += [\n",
    "        'Customs product code (TARIC)',\n",
    "        'Master (outer) case GTIN (EAN/UPC)',\n",
    "        'Bundled software',\n",
    "        'Shipping (inner) case GTIN (EAN/UPC)',\n",
    "        'Dimensions (W x D x H) (imperial)',\n",
    "        'Dimensions printer compartment (W x D x H)',\n",
    "        'Package dimensions (W x D x H)',\n",
    "        'Interior dimensions (W x D x H)',\n",
    "        'Package dimensions (WxDxH)',\n",
    "        'Dimensions (WxDxH)',\n",
    "        'Exterior dimensions (WxDxH)',\n",
    "        'Weight (imperial)',\n",
    "    ]\n",
    "\n",
    "    # Find columns that have enough values\n",
    "    product_features_to_use = [col for col in product_feature_columns if col not in excluded_cols]\n",
    "    \n",
    "    # Create a copy\n",
    "    return dataframe[['supplier_name'] + product_features_to_use].copy()\n",
    "\n",
    "def detect_and_fix_column_types(dataframe: pd.DataFrame):\n",
    "    # Use proper dtypes\n",
    "    for col in df_cleaned.columns:\n",
    "        dtype = inferred_type(df_cleaned, col)\n",
    "        if dtype == 'int32':\n",
    "            df_cleaned[col].fillna(0, inplace=True)\n",
    "        elif dtype == 'float':\n",
    "            df_cleaned[col].fillna(0.0, inplace=True)\n",
    "        elif dtype == 'bool':\n",
    "            df_cleaned[col].fillna('N', inplace=True)\n",
    "            df_cleaned[col] = df_cleaned[col].str.replace('N', '0')\n",
    "            df_cleaned[col] = df_cleaned[col].str.replace('Y', '1')\n",
    "            df_cleaned[col] = df_cleaned[col].astype('int')\n",
    "        elif dtype == 'category':\n",
    "            df_cleaned[col].fillna('(N/A)', inplace=True)\n",
    "        df_cleaned[col] = df_cleaned[col].astype(dtype)\n",
    "    return df_cleaned\n",
    "\n",
    "def split_train_test(df):\n",
    "    train = df.sample(frac=.8, random_state=42)\n",
    "    test = df.loc[~df.index.isin(train.index)]\n",
    "    return train, test\n",
    "\n",
    "def compute_column_stats(dataframe: pd.DataFrame):\n",
    "    dmap = {\n",
    "        'column': [],\n",
    "        'suggested_type': [],\n",
    "        'n_unique': [],\n",
    "        'len_total': [],\n",
    "        'len_min': [],\n",
    "        'len_max': [],\n",
    "        'len_avg': [],\n",
    "        'values': [],\n",
    "        'n_filled': [],\n",
    "    }\n",
    "\n",
    "    n_rows = dataframe.shape[0]\n",
    "\n",
    "    for col in dataframe.columns:\n",
    "        dmap['column'].append(col)\n",
    "        dmap['suggested_type'].append(inferred_type(dataframe, col))\n",
    "\n",
    "        dmap['n_filled'].append( n_rows - dataframe[col].isna().sum() )\n",
    "\n",
    "        dmap['n_unique'].append(dataframe[col].unique().shape[0])\n",
    "        unique_val_lengths = get_unique_value_lengths(dataframe, col)\n",
    "        dmap['len_total'].append(len(unique_val_lengths))\n",
    "        dmap['len_min'].append(np.min(unique_val_lengths))\n",
    "        dmap['len_max'].append(np.max(unique_val_lengths))\n",
    "        dmap['len_avg'].append(np.mean(unique_val_lengths))\n",
    "\n",
    "        vals = ' | '.join([str(s) for s in list(dataframe[col].unique())[0:5]])\n",
    "        dmap['values'].append(vals)\n",
    "\n",
    "    return pd.DataFrame(dmap)\n",
    "\n",
    "def create_variance_scree_plot(variance_ratios):\n",
    "    n_items = len(variance_ratios)\n",
    "    fig, ax = plt.subplots(figsize=(15, 7))\n",
    "    ax.plot(np.arange(1, n_items + 1), np.cumsum(variance_ratios))\n",
    "    ax.bar(np.arange(1, n_items + 1), variance_ratios)\n",
    "    ax.set_xlabel('Number of Components')\n",
    "    ax.set_ylabel('Cumulative Explained Variance');\n",
    "    "
   ]
  },
  {
   "cell_type": "code",
   "execution_count": 57,
   "id": "8c5c133d-7cfb-497e-bfa3-6e5c13c01ec3",
   "metadata": {},
   "outputs": [],
   "source": [
    "# Load data\n",
    "df_data = pd.read_csv('../data/ice-cat-office-products.csv.gz', dtype=str, index_col=0)"
   ]
  },
  {
   "cell_type": "code",
   "execution_count": 58,
   "id": "571e3db4-e593-4fc0-a732-3b6f981f217c",
   "metadata": {},
   "outputs": [],
   "source": [
    "df_cleaned_data = filter_rows(df_data)\n",
    "df_cleaned_data = filter_columns(df_cleaned_data)"
   ]
  },
  {
   "cell_type": "code",
   "execution_count": 59,
   "id": "6ee99c66-8f2d-44ce-aa0f-5167552fa372",
   "metadata": {},
   "outputs": [],
   "source": [
    "df_column_stats = compute_column_stats(df_cleaned_data)"
   ]
  },
  {
   "cell_type": "code",
   "execution_count": 60,
   "id": "3fa747b1-c697-440f-af19-7c514b998686",
   "metadata": {},
   "outputs": [],
   "source": [
    "df_column_stats.to_excel('../data/column-stats.xlsx')"
   ]
  },
  {
   "cell_type": "code",
   "execution_count": 47,
   "id": "5b6bdc36-2285-4c5d-adca-ea40c22c60ac",
   "metadata": {},
   "outputs": [],
   "source": [
    "# Clean data\n",
    "df_cleaned_data = detect_and_fix_column_types(df_cleaned_data)"
   ]
  },
  {
   "cell_type": "code",
   "execution_count": null,
   "id": "a0610382-bd86-44ee-b62d-5190dbdc74e7",
   "metadata": {},
   "outputs": [],
   "source": []
  },
  {
   "cell_type": "code",
   "execution_count": 4,
   "id": "1a5485c6-f9b6-41dd-9520-faa4fa61f21d",
   "metadata": {},
   "outputs": [],
   "source": [
    "# Determine categorical and numerical features\n",
    "dt = df_cleaned_data.dtypes\n",
    "numeric_features = list(dt[dt==int].index) + list(dt[dt==float].index)\n",
    "categorical_features = list(dt[dt==\"category\"].index)\n",
    "\n",
    "# Create data preprocessor\n",
    "numeric_transformer = Pipeline(steps=[\n",
    "    ('scaler', StandardScaler())\n",
    "])\n",
    "categorical_transformer = OneHotEncoder(handle_unknown='ignore')\n",
    "preprocessor = ColumnTransformer(\n",
    "    transformers=[\n",
    "        ('num', numeric_transformer, numeric_features),\n",
    "        ('cat', categorical_transformer, categorical_features)\n",
    "    ]\n",
    ")"
   ]
  },
  {
   "cell_type": "code",
   "execution_count": 5,
   "id": "434e9326-bd36-41c9-bfa8-1c19b3f75a16",
   "metadata": {},
   "outputs": [],
   "source": [
    "# Preprocess data\n",
    "X = preprocessor.fit_transform(df_cleaned_data)"
   ]
  },
  {
   "cell_type": "code",
   "execution_count": 44,
   "id": "11272c93-8249-4462-9add-ad8b402a97cf",
   "metadata": {},
   "outputs": [
    {
     "data": {
      "text/plain": [
       "(7269, 3005)"
      ]
     },
     "execution_count": 44,
     "metadata": {},
     "output_type": "execute_result"
    }
   ],
   "source": [
    "X.shape"
   ]
  },
  {
   "cell_type": "code",
   "execution_count": 6,
   "id": "8fa7208c-b121-41a0-a689-85781f4c67de",
   "metadata": {},
   "outputs": [
    {
     "data": {
      "image/png": "[encoded data removed]",
      "text/plain": [
       "<Figure size 1080x504 with 1 Axes>"
      ]
     },
     "metadata": {
      "needs_background": "light"
     },
     "output_type": "display_data"
    }
   ],
   "source": [
    "# Reduce number of dimensionality\n",
    "svd = TruncatedSVD(n_components=1000, n_iter=10, random_state=42)\n",
    "X_transformed = svd.fit_transform(X)\n",
    "\n",
    "# Generate scree plot\n",
    "create_variance_scree_plot(svd.explained_variance_ratio_)"
   ]
  },
  {
   "cell_type": "code",
   "execution_count": null,
   "id": "6e5a0a0d-4418-4f27-bed3-ac35f578fb39",
   "metadata": {},
   "outputs": [],
   "source": []
  },
  {
   "cell_type": "code",
   "execution_count": 7,
   "id": "554a2aa0-0ab2-4eec-a998-dd2fc3612c44",
   "metadata": {},
   "outputs": [
    {
     "data": {
      "image/png": "[encoded data removed]",
      "text/plain": [
       "<Figure size 1080x504 with 1 Axes>"
      ]
     },
     "metadata": {
      "needs_background": "light"
     },
     "output_type": "display_data"
    }
   ],
   "source": [
    "# Further dimensionality reduction\n",
    "svd = TruncatedSVD(n_components=200, n_iter=10, random_state=42)\n",
    "X_transformed = svd.fit_transform(X)\n",
    "\n",
    "# Generate scree plot\n",
    "create_variance_scree_plot(svd.explained_variance_ratio_)"
   ]
  },
  {
   "cell_type": "code",
   "execution_count": 45,
   "id": "5f719bce-6f07-4ed4-8f86-2d194910ef64",
   "metadata": {},
   "outputs": [
    {
     "data": {
      "text/plain": [
       "array([[ 1.38546065e+01, -3.44040811e-01, -1.89845161e-01, ...,\n",
       "        -3.25545620e-02,  1.71551783e-02,  1.02478289e-05],\n",
       "       [ 1.38416415e+01, -3.66408757e-01,  7.61598582e-02, ...,\n",
       "        -2.48185531e-02,  8.40721558e-03, -3.01608662e-02],\n",
       "       [ 1.38546065e+01, -3.44040811e-01, -1.89845161e-01, ...,\n",
       "        -3.25545620e-02,  1.71551783e-02,  1.02478289e-05],\n",
       "       ...,\n",
       "       [ 1.37341989e+01,  7.61808065e-01, -4.49139611e-02, ...,\n",
       "        -8.38310089e-03, -5.02824053e-03, -5.21974308e-02],\n",
       "       [ 1.37305982e+01,  7.64911098e-01, -4.34168450e-02, ...,\n",
       "        -8.42314601e-03, -4.24036407e-02, -4.43376010e-03],\n",
       "       [ 1.36432791e+01, -1.45305234e-01, -3.78891286e-01, ...,\n",
       "        -2.16658693e-02, -2.67347854e-02, -1.87826877e-02]])"
      ]
     },
     "execution_count": 45,
     "metadata": {},
     "output_type": "execute_result"
    }
   ],
   "source": [
    "X_transformed"
   ]
  },
  {
   "cell_type": "code",
   "execution_count": 8,
   "id": "aa6df9a5-241e-4fd7-a72a-8f1819184710",
   "metadata": {},
   "outputs": [],
   "source": [
    "from sklearn.cluster import SpectralClustering"
   ]
  },
  {
   "cell_type": "code",
   "execution_count": 9,
   "id": "a27b247a-9ab2-479d-8f84-569ed33fe5e5",
   "metadata": {},
   "outputs": [
    {
     "data": {
      "text/html": [
       "<div>\n",
       "<style scoped>\n",
       "    .dataframe tbody tr th:only-of-type {\n",
       "        vertical-align: middle;\n",
       "    }\n",
       "\n",
       "    .dataframe tbody tr th {\n",
       "        vertical-align: top;\n",
       "    }\n",
       "\n",
       "    .dataframe thead th {\n",
       "        text-align: right;\n",
       "    }\n",
       "</style>\n",
       "<table border=\"1\" class=\"dataframe\">\n",
       "  <thead>\n",
       "    <tr style=\"text-align: right;\">\n",
       "      <th></th>\n",
       "      <th>supplier_name</th>\n",
       "      <th>AC input frequency</th>\n",
       "      <th>AC input voltage</th>\n",
       "      <th>Accessory storage tray</th>\n",
       "      <th>Accuracy touch</th>\n",
       "      <th>Adhesion</th>\n",
       "      <th>Adhesive type</th>\n",
       "      <th>Adjustable angle</th>\n",
       "      <th>Adjustable armrest</th>\n",
       "      <th>Adjustable backrest</th>\n",
       "      <th>...</th>\n",
       "      <th>Weight (without accessories)</th>\n",
       "      <th>Wi-Fi</th>\n",
       "      <th>Width</th>\n",
       "      <th>Width (imperial)</th>\n",
       "      <th>Window</th>\n",
       "      <th>Windows operating systems supported</th>\n",
       "      <th>Working area</th>\n",
       "      <th>Working width</th>\n",
       "      <th>Writing colours</th>\n",
       "      <th>Zoom capability</th>\n",
       "    </tr>\n",
       "  </thead>\n",
       "  <tbody>\n",
       "    <tr>\n",
       "      <th>2</th>\n",
       "      <td>HP</td>\n",
       "      <td>(N/A)</td>\n",
       "      <td>(N/A)</td>\n",
       "      <td>False</td>\n",
       "      <td>(N/A)</td>\n",
       "      <td>(N/A)</td>\n",
       "      <td>(N/A)</td>\n",
       "      <td>False</td>\n",
       "      <td>False</td>\n",
       "      <td>False</td>\n",
       "      <td>...</td>\n",
       "      <td>0.0</td>\n",
       "      <td>False</td>\n",
       "      <td>0.0</td>\n",
       "      <td>0.0</td>\n",
       "      <td>False</td>\n",
       "      <td>NaN</td>\n",
       "      <td>(N/A)</td>\n",
       "      <td>0.0</td>\n",
       "      <td>(N/A)</td>\n",
       "      <td>(N/A)</td>\n",
       "    </tr>\n",
       "    <tr>\n",
       "      <th>3</th>\n",
       "      <td>HP</td>\n",
       "      <td>(N/A)</td>\n",
       "      <td>(N/A)</td>\n",
       "      <td>False</td>\n",
       "      <td>(N/A)</td>\n",
       "      <td>(N/A)</td>\n",
       "      <td>(N/A)</td>\n",
       "      <td>False</td>\n",
       "      <td>False</td>\n",
       "      <td>False</td>\n",
       "      <td>...</td>\n",
       "      <td>0.0</td>\n",
       "      <td>False</td>\n",
       "      <td>541.0</td>\n",
       "      <td>0.0</td>\n",
       "      <td>False</td>\n",
       "      <td>NaN</td>\n",
       "      <td>(N/A)</td>\n",
       "      <td>0.0</td>\n",
       "      <td>(N/A)</td>\n",
       "      <td>(N/A)</td>\n",
       "    </tr>\n",
       "    <tr>\n",
       "      <th>4</th>\n",
       "      <td>HP</td>\n",
       "      <td>(N/A)</td>\n",
       "      <td>(N/A)</td>\n",
       "      <td>False</td>\n",
       "      <td>(N/A)</td>\n",
       "      <td>(N/A)</td>\n",
       "      <td>(N/A)</td>\n",
       "      <td>False</td>\n",
       "      <td>False</td>\n",
       "      <td>False</td>\n",
       "      <td>...</td>\n",
       "      <td>0.0</td>\n",
       "      <td>False</td>\n",
       "      <td>0.0</td>\n",
       "      <td>0.0</td>\n",
       "      <td>False</td>\n",
       "      <td>NaN</td>\n",
       "      <td>(N/A)</td>\n",
       "      <td>0.0</td>\n",
       "      <td>(N/A)</td>\n",
       "      <td>(N/A)</td>\n",
       "    </tr>\n",
       "    <tr>\n",
       "      <th>5</th>\n",
       "      <td>Epson</td>\n",
       "      <td>(N/A)</td>\n",
       "      <td>(N/A)</td>\n",
       "      <td>False</td>\n",
       "      <td>(N/A)</td>\n",
       "      <td>(N/A)</td>\n",
       "      <td>(N/A)</td>\n",
       "      <td>False</td>\n",
       "      <td>False</td>\n",
       "      <td>False</td>\n",
       "      <td>...</td>\n",
       "      <td>0.0</td>\n",
       "      <td>False</td>\n",
       "      <td>0.0</td>\n",
       "      <td>0.0</td>\n",
       "      <td>False</td>\n",
       "      <td>NaN</td>\n",
       "      <td>(N/A)</td>\n",
       "      <td>0.0</td>\n",
       "      <td>(N/A)</td>\n",
       "      <td>(N/A)</td>\n",
       "    </tr>\n",
       "    <tr>\n",
       "      <th>6</th>\n",
       "      <td>Epson</td>\n",
       "      <td>(N/A)</td>\n",
       "      <td>(N/A)</td>\n",
       "      <td>False</td>\n",
       "      <td>(N/A)</td>\n",
       "      <td>(N/A)</td>\n",
       "      <td>(N/A)</td>\n",
       "      <td>False</td>\n",
       "      <td>False</td>\n",
       "      <td>False</td>\n",
       "      <td>...</td>\n",
       "      <td>0.0</td>\n",
       "      <td>False</td>\n",
       "      <td>0.0</td>\n",
       "      <td>0.0</td>\n",
       "      <td>False</td>\n",
       "      <td>NaN</td>\n",
       "      <td>(N/A)</td>\n",
       "      <td>0.0</td>\n",
       "      <td>(N/A)</td>\n",
       "      <td>(N/A)</td>\n",
       "    </tr>\n",
       "    <tr>\n",
       "      <th>...</th>\n",
       "      <td>...</td>\n",
       "      <td>...</td>\n",
       "      <td>...</td>\n",
       "      <td>...</td>\n",
       "      <td>...</td>\n",
       "      <td>...</td>\n",
       "      <td>...</td>\n",
       "      <td>...</td>\n",
       "      <td>...</td>\n",
       "      <td>...</td>\n",
       "      <td>...</td>\n",
       "      <td>...</td>\n",
       "      <td>...</td>\n",
       "      <td>...</td>\n",
       "      <td>...</td>\n",
       "      <td>...</td>\n",
       "      <td>...</td>\n",
       "      <td>...</td>\n",
       "      <td>...</td>\n",
       "      <td>...</td>\n",
       "      <td>...</td>\n",
       "    </tr>\n",
       "    <tr>\n",
       "      <th>7962</th>\n",
       "      <td>Legamaster</td>\n",
       "      <td>(N/A)</td>\n",
       "      <td>(N/A)</td>\n",
       "      <td>False</td>\n",
       "      <td>(N/A)</td>\n",
       "      <td>(N/A)</td>\n",
       "      <td>(N/A)</td>\n",
       "      <td>False</td>\n",
       "      <td>False</td>\n",
       "      <td>False</td>\n",
       "      <td>...</td>\n",
       "      <td>0.0</td>\n",
       "      <td>False</td>\n",
       "      <td>1195.0</td>\n",
       "      <td>0.0</td>\n",
       "      <td>False</td>\n",
       "      <td>NaN</td>\n",
       "      <td>(N/A)</td>\n",
       "      <td>0.0</td>\n",
       "      <td>(N/A)</td>\n",
       "      <td>(N/A)</td>\n",
       "    </tr>\n",
       "    <tr>\n",
       "      <th>7963</th>\n",
       "      <td>Legamaster</td>\n",
       "      <td>(N/A)</td>\n",
       "      <td>(N/A)</td>\n",
       "      <td>False</td>\n",
       "      <td>(N/A)</td>\n",
       "      <td>(N/A)</td>\n",
       "      <td>(N/A)</td>\n",
       "      <td>False</td>\n",
       "      <td>False</td>\n",
       "      <td>False</td>\n",
       "      <td>...</td>\n",
       "      <td>0.0</td>\n",
       "      <td>False</td>\n",
       "      <td>1195.0</td>\n",
       "      <td>0.0</td>\n",
       "      <td>False</td>\n",
       "      <td>NaN</td>\n",
       "      <td>(N/A)</td>\n",
       "      <td>0.0</td>\n",
       "      <td>(N/A)</td>\n",
       "      <td>(N/A)</td>\n",
       "    </tr>\n",
       "    <tr>\n",
       "      <th>7964</th>\n",
       "      <td>Legamaster</td>\n",
       "      <td>(N/A)</td>\n",
       "      <td>(N/A)</td>\n",
       "      <td>False</td>\n",
       "      <td>(N/A)</td>\n",
       "      <td>(N/A)</td>\n",
       "      <td>(N/A)</td>\n",
       "      <td>False</td>\n",
       "      <td>False</td>\n",
       "      <td>False</td>\n",
       "      <td>...</td>\n",
       "      <td>0.0</td>\n",
       "      <td>False</td>\n",
       "      <td>595.0</td>\n",
       "      <td>0.0</td>\n",
       "      <td>False</td>\n",
       "      <td>NaN</td>\n",
       "      <td>(N/A)</td>\n",
       "      <td>0.0</td>\n",
       "      <td>(N/A)</td>\n",
       "      <td>(N/A)</td>\n",
       "    </tr>\n",
       "    <tr>\n",
       "      <th>7965</th>\n",
       "      <td>Legamaster</td>\n",
       "      <td>(N/A)</td>\n",
       "      <td>(N/A)</td>\n",
       "      <td>False</td>\n",
       "      <td>(N/A)</td>\n",
       "      <td>(N/A)</td>\n",
       "      <td>(N/A)</td>\n",
       "      <td>False</td>\n",
       "      <td>False</td>\n",
       "      <td>False</td>\n",
       "      <td>...</td>\n",
       "      <td>0.0</td>\n",
       "      <td>False</td>\n",
       "      <td>595.0</td>\n",
       "      <td>0.0</td>\n",
       "      <td>False</td>\n",
       "      <td>NaN</td>\n",
       "      <td>(N/A)</td>\n",
       "      <td>0.0</td>\n",
       "      <td>(N/A)</td>\n",
       "      <td>(N/A)</td>\n",
       "    </tr>\n",
       "    <tr>\n",
       "      <th>7968</th>\n",
       "      <td>3M</td>\n",
       "      <td>(N/A)</td>\n",
       "      <td>(N/A)</td>\n",
       "      <td>False</td>\n",
       "      <td>(N/A)</td>\n",
       "      <td>(N/A)</td>\n",
       "      <td>(N/A)</td>\n",
       "      <td>False</td>\n",
       "      <td>False</td>\n",
       "      <td>False</td>\n",
       "      <td>...</td>\n",
       "      <td>0.0</td>\n",
       "      <td>False</td>\n",
       "      <td>19.0</td>\n",
       "      <td>0.0</td>\n",
       "      <td>False</td>\n",
       "      <td>NaN</td>\n",
       "      <td>(N/A)</td>\n",
       "      <td>0.0</td>\n",
       "      <td>(N/A)</td>\n",
       "      <td>(N/A)</td>\n",
       "    </tr>\n",
       "  </tbody>\n",
       "</table>\n",
       "<p>7269 rows × 558 columns</p>\n",
       "</div>"
      ],
      "text/plain": [
       "     supplier_name AC input frequency AC input voltage  \\\n",
       "2               HP              (N/A)            (N/A)   \n",
       "3               HP              (N/A)            (N/A)   \n",
       "4               HP              (N/A)            (N/A)   \n",
       "5            Epson              (N/A)            (N/A)   \n",
       "6            Epson              (N/A)            (N/A)   \n",
       "...            ...                ...              ...   \n",
       "7962    Legamaster              (N/A)            (N/A)   \n",
       "7963    Legamaster              (N/A)            (N/A)   \n",
       "7964    Legamaster              (N/A)            (N/A)   \n",
       "7965    Legamaster              (N/A)            (N/A)   \n",
       "7968            3M              (N/A)            (N/A)   \n",
       "\n",
       "      Accessory storage tray Accuracy touch Adhesion Adhesive type  \\\n",
       "2                      False          (N/A)    (N/A)         (N/A)   \n",
       "3                      False          (N/A)    (N/A)         (N/A)   \n",
       "4                      False          (N/A)    (N/A)         (N/A)   \n",
       "5                      False          (N/A)    (N/A)         (N/A)   \n",
       "6                      False          (N/A)    (N/A)         (N/A)   \n",
       "...                      ...            ...      ...           ...   \n",
       "7962                   False          (N/A)    (N/A)         (N/A)   \n",
       "7963                   False          (N/A)    (N/A)         (N/A)   \n",
       "7964                   False          (N/A)    (N/A)         (N/A)   \n",
       "7965                   False          (N/A)    (N/A)         (N/A)   \n",
       "7968                   False          (N/A)    (N/A)         (N/A)   \n",
       "\n",
       "      Adjustable angle  Adjustable armrest  Adjustable backrest  ...  \\\n",
       "2                False               False                False  ...   \n",
       "3                False               False                False  ...   \n",
       "4                False               False                False  ...   \n",
       "5                False               False                False  ...   \n",
       "6                False               False                False  ...   \n",
       "...                ...                 ...                  ...  ...   \n",
       "7962             False               False                False  ...   \n",
       "7963             False               False                False  ...   \n",
       "7964             False               False                False  ...   \n",
       "7965             False               False                False  ...   \n",
       "7968             False               False                False  ...   \n",
       "\n",
       "      Weight (without accessories)  Wi-Fi   Width  Width (imperial)  Window  \\\n",
       "2                              0.0  False     0.0               0.0   False   \n",
       "3                              0.0  False   541.0               0.0   False   \n",
       "4                              0.0  False     0.0               0.0   False   \n",
       "5                              0.0  False     0.0               0.0   False   \n",
       "6                              0.0  False     0.0               0.0   False   \n",
       "...                            ...    ...     ...               ...     ...   \n",
       "7962                           0.0  False  1195.0               0.0   False   \n",
       "7963                           0.0  False  1195.0               0.0   False   \n",
       "7964                           0.0  False   595.0               0.0   False   \n",
       "7965                           0.0  False   595.0               0.0   False   \n",
       "7968                           0.0  False    19.0               0.0   False   \n",
       "\n",
       "      Windows operating systems supported Working area Working width  \\\n",
       "2                                     NaN        (N/A)           0.0   \n",
       "3                                     NaN        (N/A)           0.0   \n",
       "4                                     NaN        (N/A)           0.0   \n",
       "5                                     NaN        (N/A)           0.0   \n",
       "6                                     NaN        (N/A)           0.0   \n",
       "...                                   ...          ...           ...   \n",
       "7962                                  NaN        (N/A)           0.0   \n",
       "7963                                  NaN        (N/A)           0.0   \n",
       "7964                                  NaN        (N/A)           0.0   \n",
       "7965                                  NaN        (N/A)           0.0   \n",
       "7968                                  NaN        (N/A)           0.0   \n",
       "\n",
       "      Writing colours  Zoom capability  \n",
       "2               (N/A)            (N/A)  \n",
       "3               (N/A)            (N/A)  \n",
       "4               (N/A)            (N/A)  \n",
       "5               (N/A)            (N/A)  \n",
       "6               (N/A)            (N/A)  \n",
       "...               ...              ...  \n",
       "7962            (N/A)            (N/A)  \n",
       "7963            (N/A)            (N/A)  \n",
       "7964            (N/A)            (N/A)  \n",
       "7965            (N/A)            (N/A)  \n",
       "7968            (N/A)            (N/A)  \n",
       "\n",
       "[7269 rows x 558 columns]"
      ]
     },
     "execution_count": 9,
     "metadata": {},
     "output_type": "execute_result"
    }
   ],
   "source": [
    "df_cleaned_data"
   ]
  },
  {
   "cell_type": "code",
   "execution_count": 17,
   "id": "b785c78b-cb98-491c-9533-b9ce9cf5e7e6",
   "metadata": {},
   "outputs": [],
   "source": [
    "n_labels = len(df_data.category_name.unique())"
   ]
  },
  {
   "cell_type": "code",
   "execution_count": 18,
   "id": "cf2edcd3-f942-4faf-8855-7e8e40f67b9a",
   "metadata": {},
   "outputs": [],
   "source": [
    "clustering = SpectralClustering(\n",
    "    n_clusters=n_labels,\n",
    "    assign_labels='discretize',\n",
    "    affinity='rbf',\n",
    "    random_state=42,\n",
    "    verbose=True\n",
    ")"
   ]
  },
  {
   "cell_type": "code",
   "execution_count": 19,
   "id": "8313de16-a687-4836-869b-c1a18f7e1ea2",
   "metadata": {},
   "outputs": [
    {
     "name": "stderr",
     "output_type": "stream",
     "text": [
      "/home/omar/.cache/pypoetry/virtualenvs/snow-leopard-O1gqMmLm-py3.8/lib/python3.8/site-packages/sklearn/manifold/_spectral_embedding.py:245: UserWarning: Graph is not fully connected, spectral embedding may not work as expected.\n",
      "  warnings.warn(\"Graph is not fully connected, spectral embedding\"\n"
     ]
    },
    {
     "name": "stdout",
     "output_type": "stream",
     "text": [
      "Computing label assignment using discretize\n"
     ]
    },
    {
     "data": {
      "text/plain": [
       "SpectralClustering(assign_labels='discretize', n_clusters=190, random_state=42,\n",
       "                   verbose=True)"
      ]
     },
     "execution_count": 19,
     "metadata": {},
     "output_type": "execute_result"
    }
   ],
   "source": [
    "clustering.fit(X_transformed)"
   ]
  },
  {
   "cell_type": "code",
   "execution_count": 21,
   "id": "f26878b1-9bff-44bb-a445-58fd2a484643",
   "metadata": {},
   "outputs": [
    {
     "data": {
      "text/plain": [
       "7269"
      ]
     },
     "execution_count": 21,
     "metadata": {},
     "output_type": "execute_result"
    }
   ],
   "source": [
    "len(clustering.labels_)"
   ]
  },
  {
   "cell_type": "code",
   "execution_count": 22,
   "id": "4116e864-e4ed-4dd7-a70e-3e9ef2f7837a",
   "metadata": {},
   "outputs": [
    {
     "data": {
      "text/plain": [
       "(7269, 200)"
      ]
     },
     "execution_count": 22,
     "metadata": {},
     "output_type": "execute_result"
    }
   ],
   "source": [
    "X_transformed.shape"
   ]
  },
  {
   "cell_type": "code",
   "execution_count": 23,
   "id": "25687ac8-38f5-4fcc-aed6-78aac32558e1",
   "metadata": {},
   "outputs": [
    {
     "data": {
      "text/plain": [
       "(7969, 1230)"
      ]
     },
     "execution_count": 23,
     "metadata": {},
     "output_type": "execute_result"
    }
   ],
   "source": [
    "df_data.shape"
   ]
  },
  {
   "cell_type": "code",
   "execution_count": 25,
   "id": "ba77ed4c-0841-4134-bb75-cef0d96cf379",
   "metadata": {},
   "outputs": [],
   "source": [
    "df_data['cluster'] = None"
   ]
  },
  {
   "cell_type": "code",
   "execution_count": 27,
   "id": "cf84894f-581c-4f9d-9eba-a83c902f6e60",
   "metadata": {},
   "outputs": [
    {
     "data": {
      "text/plain": [
       "(7269, 558)"
      ]
     },
     "execution_count": 27,
     "metadata": {},
     "output_type": "execute_result"
    }
   ],
   "source": [
    "df_cleaned_data.shape"
   ]
  },
  {
   "cell_type": "code",
   "execution_count": 28,
   "id": "db52c939-03f2-45c0-8f8e-eb8fa2930dc4",
   "metadata": {},
   "outputs": [],
   "source": [
    "df_cleaned_data['cluster'] = clustering.labels_"
   ]
  },
  {
   "cell_type": "code",
   "execution_count": 40,
   "id": "0ce8e4e7-d1c2-46ad-ab50-90e79b68c029",
   "metadata": {},
   "outputs": [
    {
     "data": {
      "text/plain": [
       "'0,0,0,0,0,0,0,0,0,0,0,0,0,0,0,0,0,0,35,0,0,0,0,0,0,0,0,0,0,35,0,35,35,0,0,0,0,0,0,12,0,0,0,0,0,0,0,0,0,0,0,0,0,0,61,0,0,0,61,0,0,0,0,0,0,0,0,0,0,0,0,0,0,12,0,0,0,0,0,0,0,0,0,0,0,0,0,0,0,0,0,0,0,0,0,0,0,0,0,0'"
      ]
     },
     "execution_count": 40,
     "metadata": {},
     "output_type": "execute_result"
    }
   ],
   "source": [
    "','.join([str(i) for i in clustering.labels_[0:100]])"
   ]
  },
  {
   "cell_type": "code",
   "execution_count": 36,
   "id": "9bc8f511-6bf4-430c-b137-84bf20f920ac",
   "metadata": {},
   "outputs": [],
   "source": [
    "df_data['cluster'] = df_cleaned_data['cluster'].astype(int)"
   ]
  },
  {
   "cell_type": "code",
   "execution_count": 42,
   "id": "b4ecfd2b-e778-4b93-b133-bf1006103b23",
   "metadata": {},
   "outputs": [],
   "source": [
    "df_export_data = df_data[['title', 'supplier_name', 'model_name', 'description_short',  'category_name', 'cluster']]"
   ]
  },
  {
   "cell_type": "code",
   "execution_count": 43,
   "id": "554b55f2-2273-4b4b-878b-b084d9eba753",
   "metadata": {},
   "outputs": [],
   "source": [
    "df_export_data.to_excel('../data/ice-cat-products-clusters.xlsx')"
   ]
  },
  {
   "cell_type": "code",
   "execution_count": null,
   "id": "e2e71098-ed89-45e9-9790-f0813788f607",
   "metadata": {},
   "outputs": [],
   "source": []
  }
 ],
 "metadata": {
  "kernelspec": {
   "display_name": "Python 3",
   "language": "python",
   "name": "python3"
  },
  "language_info": {
   "codemirror_mode": {
    "name": "ipython",
    "version": 3
   },
   "file_extension": ".py",
   "mimetype": "text/x-python",
   "name": "python",
   "nbconvert_exporter": "python",
   "pygments_lexer": "ipython3",
   "version": "3.8.8"
  }
 },
 "nbformat": 4,
 "nbformat_minor": 5
}
