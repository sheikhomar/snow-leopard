{
 "cells": [
  {
   "cell_type": "code",
   "execution_count": 1,
   "id": "bf204ff1-1d9a-461c-a7f7-9849d85c8fc6",
   "metadata": {},
   "outputs": [],
   "source": [
    "import matplotlib.pyplot as plt\n",
    "import matplotlib.ticker as ticker\n",
    "import numpy as np\n",
    "import pandas as pd\n",
    "\n",
    "from sklearn.compose import ColumnTransformer\n",
    "from sklearn.cluster import SpectralClustering\n",
    "from sklearn.decomposition import TruncatedSVD\n",
    "from sklearn.datasets import fetch_openml\n",
    "from sklearn.pipeline import Pipeline\n",
    "from sklearn.preprocessing import StandardScaler, OneHotEncoder"
   ]
  },
  {
   "cell_type": "code",
   "execution_count": 2,
   "id": "c1e566f5-0440-4e40-a5a0-c5e6c948e241",
   "metadata": {
    "tags": []
   },
   "outputs": [],
   "source": [
    "def get_unique_value_lengths(dataframe: pd.DataFrame, col_name: str):\n",
    "    unique_vals = map(lambda r: str(r), dataframe[col_name].unique())\n",
    "    unique_vals = filter(lambda r: r != 'nan', unique_vals)\n",
    "    unique_vals = map(lambda r: len(r), unique_vals)\n",
    "    unique_vals = list(unique_vals)\n",
    "    return np.array(unique_vals)\n",
    "\n",
    "def inferred_type(dataframe: pd.DataFrame, col_name: str, max_cat_value_count: int=1000) -> np.dtype:\n",
    "    is_datetime_col = dataframe[col_name].str.match('(\\d{2,4}(-|\\/|\\\\|\\.| )\\d{2}(-|\\/|\\\\|\\.| )\\d{2,4})+').all()\n",
    "    if is_datetime_col:\n",
    "        return 'datetime'\n",
    "    \n",
    "    is_int32 = dataframe[col_name].str.match('\\d{1,6}$').all()\n",
    "    if is_int32:\n",
    "        return 'int32'\n",
    "    \n",
    "    is_float = dataframe[col_name].str.match(r'\\d{1,6}(\\.\\d{1,5})?$').all()\n",
    "    if is_float:\n",
    "        return 'float'\n",
    "    \n",
    "    unique_vals = dataframe[col_name].unique()\n",
    "    n_unique = unique_vals.shape[0]\n",
    "\n",
    "    if n_unique == 2 or n_unique == 3:\n",
    "        bool_vals = np.array(['(N/A)', 'N', 'Y'], dtype='str')\n",
    "        possible_bool_vals = np.array(pd.DataFrame(unique_vals).fillna('(N/A)')[0])\n",
    "        if np.isin(possible_bool_vals, bool_vals).all():\n",
    "            return 'bool'\n",
    "    \n",
    "    if n_unique >= 2 and n_unique < max_cat_value_count:\n",
    "        unique_val_lengths = get_unique_value_lengths(dataframe, col_name)\n",
    "        if np.max(unique_val_lengths) > 300:\n",
    "            # print(f'{col_name} -> {np.max(unique_val_lengths)}')\n",
    "            return 'object'\n",
    "        return 'category'\n",
    "\n",
    "    return 'object'\n",
    "\n",
    "def filter_rows(dataframe: pd.DataFrame, min_count_per_category: int=50):\n",
    "    # Count number of rows per category\n",
    "    df_count_by_category = dataframe.groupby('category_name').agg({'id': 'count'}).rename(columns={'id': 'n_rows'})\n",
    "\n",
    "    # Find categories with at least N amount of rows\n",
    "    categories = list(df_count_by_category[df_count_by_category.n_rows > min_count_per_category].index)\n",
    "\n",
    "    # Delete rows with few that N amount of rows per category\n",
    "    return dataframe[dataframe.category_name.isin(categories)]\n",
    "\n",
    "def filter_columns(dataframe: pd.DataFrame, min_count_per_feature:int=10):\n",
    "    # Get columns that specify features of the products\n",
    "    product_feature_columns = list(dataframe.columns)[26:]\n",
    "\n",
    "    # Find columns that have too few specified values\n",
    "    n_rows = dataframe.shape[0]\n",
    "    excluded_cols = []\n",
    "    for col in product_feature_columns:\n",
    "        n_filled = n_rows - dataframe[col].isna().sum()\n",
    "        if n_filled < min_count_per_feature:\n",
    "            excluded_cols.append(col)\n",
    "        else:\n",
    "            # For categorical attributes apply a heuristic that filters\n",
    "            # out product features with low fill/unique ratios\n",
    "            dtype = inferred_type(dataframe, col)\n",
    "            if dtype == 'category':\n",
    "                n_unique = len(dataframe[col].unique())\n",
    "                fill_unique_ratio = n_filled / n_unique\n",
    "                if fill_unique_ratio < 2.0:\n",
    "                    excluded_cols.append(col)\n",
    "    \n",
    "    # Manually exclude certains columns if they were not caught by the\n",
    "    # heuristic above.\n",
    "    excluded_cols += [\n",
    "        'Customs product code (TARIC)',\n",
    "        'Master (outer) case GTIN (EAN/UPC)',\n",
    "        'Bundled software',\n",
    "        'Shipping (inner) case GTIN (EAN/UPC)',\n",
    "        'Dimensions (W x D x H) (imperial)',\n",
    "        'Dimensions printer compartment (W x D x H)',\n",
    "        'Package dimensions (W x D x H)',\n",
    "        'Interior dimensions (W x D x H)',\n",
    "        'Package dimensions (WxDxH)',\n",
    "        'Dimensions (WxDxH)',\n",
    "        'Exterior dimensions (WxDxH)',\n",
    "        'Weight (imperial)',\n",
    "    ]\n",
    "\n",
    "    # Find columns that have enough values\n",
    "    product_features_to_use = [col for col in product_feature_columns if col not in excluded_cols]\n",
    "    \n",
    "    # Create a copy\n",
    "    return dataframe[['supplier_name'] + product_features_to_use].copy()\n",
    "\n",
    "def detect_and_fix_column_types(dataframe: pd.DataFrame):\n",
    "    df_cleaned = dataframe.copy()\n",
    "    # Use proper dtypes\n",
    "    for col in df_cleaned.columns:\n",
    "        dtype = inferred_type(df_cleaned, col)\n",
    "        if dtype == 'int32':\n",
    "            df_cleaned[col].fillna(0, inplace=True)\n",
    "        elif dtype == 'float':\n",
    "            df_cleaned[col].fillna(0.0, inplace=True)\n",
    "        elif dtype == 'bool':\n",
    "            df_cleaned[col].fillna('N', inplace=True)\n",
    "            df_cleaned[col] = df_cleaned[col].str.replace('N', '0')\n",
    "            df_cleaned[col] = df_cleaned[col].str.replace('Y', '1')\n",
    "            df_cleaned[col] = df_cleaned[col].astype('int')\n",
    "        elif dtype == 'category':\n",
    "            df_cleaned[col].fillna('(N/A)', inplace=True)\n",
    "        df_cleaned[col] = df_cleaned[col].astype(dtype)\n",
    "    return df_cleaned\n",
    "\n",
    "def split_train_test(df):\n",
    "    train = df.sample(frac=.8, random_state=42)\n",
    "    test = df.loc[~df.index.isin(train.index)]\n",
    "    return train, test\n",
    "\n",
    "def compute_column_stats(dataframe: pd.DataFrame):\n",
    "    dmap = {\n",
    "        'column': [],\n",
    "        'suggested_type': [],\n",
    "        'n_unique': [],\n",
    "        'len_total': [],\n",
    "        'len_min': [],\n",
    "        'len_max': [],\n",
    "        'len_avg': [],\n",
    "        'values': [],\n",
    "        'n_filled': [],\n",
    "    }\n",
    "\n",
    "    n_rows = dataframe.shape[0]\n",
    "\n",
    "    for col in dataframe.columns:\n",
    "        dmap['column'].append(col)\n",
    "        dmap['suggested_type'].append(inferred_type(dataframe, col))\n",
    "\n",
    "        dmap['n_filled'].append( n_rows - dataframe[col].isna().sum() )\n",
    "\n",
    "        dmap['n_unique'].append(dataframe[col].unique().shape[0])\n",
    "        unique_val_lengths = get_unique_value_lengths(dataframe, col)\n",
    "        dmap['len_total'].append(len(unique_val_lengths))\n",
    "        dmap['len_min'].append(np.min(unique_val_lengths))\n",
    "        dmap['len_max'].append(np.max(unique_val_lengths))\n",
    "        dmap['len_avg'].append(np.mean(unique_val_lengths))\n",
    "\n",
    "        vals = ' | '.join([str(s) for s in list(dataframe[col].unique())[0:5]])\n",
    "        dmap['values'].append(vals)\n",
    "\n",
    "    return pd.DataFrame(dmap)\n",
    "\n",
    "def create_variance_scree_plot(variance_ratios):\n",
    "    n_items = len(variance_ratios)\n",
    "    fig, ax = plt.subplots(figsize=(15, 7))\n",
    "    ax.plot(np.arange(1, n_items + 1), np.cumsum(variance_ratios))\n",
    "    ax.bar(np.arange(1, n_items + 1), variance_ratios)\n",
    "    ax.set_xlabel('Number of Components')\n",
    "    ax.set_ylabel('Cumulative Explained Variance');\n",
    "\n",
    "def find_top_n_categories(dataframe: pd.DataFrame, top_n: int=10):\n",
    "    return list(dataframe\n",
    "        .groupby(['category_name'])\n",
    "        .count()[['id']]\n",
    "        .sort_values('id', ascending=False)\n",
    "        .head(top_n)\n",
    "        .index\n",
    "    )"
   ]
  },
  {
   "cell_type": "code",
   "execution_count": 3,
   "id": "8c5c133d-7cfb-497e-bfa3-6e5c13c01ec3",
   "metadata": {},
   "outputs": [],
   "source": [
    "# Load data\n",
    "df_data = pd.read_csv('../data/ice-cat-office-products.csv.gz', dtype=str, index_col=0)"
   ]
  },
  {
   "cell_type": "code",
   "execution_count": 4,
   "id": "4f521a2d-b376-4cea-99e2-0234a8352161",
   "metadata": {},
   "outputs": [
    {
     "data": {
      "text/plain": [
       "(7969, 1230)"
      ]
     },
     "execution_count": 4,
     "metadata": {},
     "output_type": "execute_result"
    }
   ],
   "source": [
    "df_data.shape"
   ]
  },
  {
   "cell_type": "code",
   "execution_count": 5,
   "id": "59b696d1-3df0-4245-b975-db7b89805454",
   "metadata": {},
   "outputs": [
    {
     "data": {
      "text/plain": [
       "['Folders',\n",
       " 'Self-Adhesive Labels',\n",
       " 'Multimedia Carts & Stands',\n",
       " 'Calculators',\n",
       " 'Writing Notebooks',\n",
       " 'Ring Binders',\n",
       " 'Printer Cabinets & Stands',\n",
       " 'Whiteboards',\n",
       " 'Fax Machines',\n",
       " 'File Storage Boxes']"
      ]
     },
     "execution_count": 5,
     "metadata": {},
     "output_type": "execute_result"
    }
   ],
   "source": [
    "top_10_categories = find_top_n_categories(df_data, top_n=10)\n",
    "top_10_categories"
   ]
  },
  {
   "cell_type": "code",
   "execution_count": 6,
   "id": "5077d19a-8bb1-410d-857d-c2042781c218",
   "metadata": {},
   "outputs": [],
   "source": [
    "# Filter out small product categories\n",
    "df_data = df_data[df_data.category_name.isin(top_10_categories)]"
   ]
  },
  {
   "cell_type": "code",
   "execution_count": 7,
   "id": "aa1d9a7e-8ac6-4f72-bd43-95bdfeb7c6da",
   "metadata": {},
   "outputs": [
    {
     "data": {
      "text/plain": [
       "(3075, 1230)"
      ]
     },
     "execution_count": 7,
     "metadata": {},
     "output_type": "execute_result"
    }
   ],
   "source": [
    "df_data.shape"
   ]
  },
  {
   "cell_type": "code",
   "execution_count": 8,
   "id": "571e3db4-e593-4fc0-a732-3b6f981f217c",
   "metadata": {},
   "outputs": [],
   "source": [
    "df_cleaned_data = filter_rows(df_data)\n",
    "df_cleaned_data = filter_columns(df_cleaned_data)"
   ]
  },
  {
   "cell_type": "code",
   "execution_count": 9,
   "id": "6ee99c66-8f2d-44ce-aa0f-5167552fa372",
   "metadata": {},
   "outputs": [],
   "source": [
    "df_column_stats = compute_column_stats(df_cleaned_data)"
   ]
  },
  {
   "cell_type": "code",
   "execution_count": 10,
   "id": "3fa747b1-c697-440f-af19-7c514b998686",
   "metadata": {},
   "outputs": [],
   "source": [
    "df_column_stats.to_excel('../data/column-stats.xlsx')"
   ]
  },
  {
   "cell_type": "code",
   "execution_count": 11,
   "id": "5b6bdc36-2285-4c5d-adca-ea40c22c60ac",
   "metadata": {},
   "outputs": [],
   "source": [
    "# Clean data\n",
    "df_cleaned_data = detect_and_fix_column_types(df_cleaned_data)"
   ]
  },
  {
   "cell_type": "code",
   "execution_count": 12,
   "id": "0c311821-2ccc-4ffe-b54e-231ee6f165cf",
   "metadata": {},
   "outputs": [
    {
     "data": {
      "text/plain": [
       "(3075, 255)"
      ]
     },
     "execution_count": 12,
     "metadata": {},
     "output_type": "execute_result"
    }
   ],
   "source": [
    "df_cleaned_data.shape"
   ]
  },
  {
   "cell_type": "markdown",
   "id": "f19c706e-0ddc-4054-8d3e-5298ae7d8272",
   "metadata": {},
   "source": [
    "## Vectorise Tabular Data"
   ]
  },
  {
   "cell_type": "code",
   "execution_count": 13,
   "id": "1a5485c6-f9b6-41dd-9520-faa4fa61f21d",
   "metadata": {},
   "outputs": [],
   "source": [
    "# Determine categorical and numerical features\n",
    "dt = df_cleaned_data.dtypes\n",
    "numeric_features = list(dt[dt==int].index) + list(dt[dt==float].index)\n",
    "categorical_features = list(dt[dt==\"category\"].index)\n",
    "\n",
    "# Create data preprocessor\n",
    "numeric_transformer = Pipeline(steps=[\n",
    "    ('scaler', StandardScaler())\n",
    "])\n",
    "categorical_transformer = OneHotEncoder(handle_unknown='ignore')\n",
    "preprocessor = ColumnTransformer(\n",
    "    transformers=[\n",
    "        ('num', numeric_transformer, numeric_features),\n",
    "        ('cat', categorical_transformer, categorical_features)\n",
    "    ]\n",
    ")"
   ]
  },
  {
   "cell_type": "code",
   "execution_count": 14,
   "id": "434e9326-bd36-41c9-bfa8-1c19b3f75a16",
   "metadata": {},
   "outputs": [],
   "source": [
    "# Preprocess data\n",
    "X = preprocessor.fit_transform(df_cleaned_data)"
   ]
  },
  {
   "cell_type": "code",
   "execution_count": 15,
   "id": "11272c93-8249-4462-9add-ad8b402a97cf",
   "metadata": {},
   "outputs": [
    {
     "data": {
      "text/plain": [
       "(3075, 875)"
      ]
     },
     "execution_count": 15,
     "metadata": {},
     "output_type": "execute_result"
    }
   ],
   "source": [
    "X.shape"
   ]
  },
  {
   "cell_type": "markdown",
   "id": "54cacc37-fa52-40e7-989d-6d636dde2073",
   "metadata": {},
   "source": [
    "## Dimenstionality Reduction"
   ]
  },
  {
   "cell_type": "code",
   "execution_count": 16,
   "id": "8fa7208c-b121-41a0-a689-85781f4c67de",
   "metadata": {},
   "outputs": [
    {
     "data": {
      "image/png": "[encoded data removed]",
      "text/plain": [
       "<Figure size 1080x504 with 1 Axes>"
      ]
     },
     "metadata": {
      "needs_background": "light"
     },
     "output_type": "display_data"
    }
   ],
   "source": [
    "# Reduce number of dimensionality\n",
    "svd = TruncatedSVD(n_components=400, n_iter=10, random_state=42)\n",
    "X_transformed = svd.fit_transform(X)\n",
    "\n",
    "# Generate scree plot\n",
    "create_variance_scree_plot(svd.explained_variance_ratio_)"
   ]
  },
  {
   "cell_type": "code",
   "execution_count": null,
   "id": "6e5a0a0d-4418-4f27-bed3-ac35f578fb39",
   "metadata": {},
   "outputs": [],
   "source": []
  },
  {
   "cell_type": "code",
   "execution_count": 17,
   "id": "554a2aa0-0ab2-4eec-a998-dd2fc3612c44",
   "metadata": {},
   "outputs": [
    {
     "data": {
      "image/png": "[encoded data removed]",
      "text/plain": [
       "<Figure size 1080x504 with 1 Axes>"
      ]
     },
     "metadata": {
      "needs_background": "light"
     },
     "output_type": "display_data"
    }
   ],
   "source": [
    "# Further dimensionality reduction\n",
    "svd = TruncatedSVD(n_components=100, n_iter=10, random_state=42)\n",
    "X_transformed = svd.fit_transform(X)\n",
    "\n",
    "# Generate scree plot\n",
    "create_variance_scree_plot(svd.explained_variance_ratio_)"
   ]
  },
  {
   "cell_type": "code",
   "execution_count": 18,
   "id": "5f719bce-6f07-4ed4-8f86-2d194910ef64",
   "metadata": {},
   "outputs": [
    {
     "data": {
      "text/plain": [
       "array([[ 9.30659817e+00, -5.35651093e-01,  1.34431738e-01, ...,\n",
       "        -1.02715760e-01,  1.30921191e-01,  4.62044205e-02],\n",
       "       [ 9.29634546e+00,  6.06759038e-01, -2.48940954e-01, ...,\n",
       "        -2.94038636e-02,  8.56435385e-03,  9.80306263e-02],\n",
       "       [ 9.30397528e+00, -5.39078835e-01,  1.33973051e-01, ...,\n",
       "        -3.38431195e-01, -2.14416582e-01, -7.45469613e-03],\n",
       "       ...,\n",
       "       [ 8.79447521e+00,  3.41786877e+00,  5.95006180e-01, ...,\n",
       "        -1.00291752e-01, -1.02366689e-01, -2.46057115e-01],\n",
       "       [ 8.89333377e+00,  4.65590550e+00,  8.40286628e-01, ...,\n",
       "        -1.12657148e-01, -2.71891426e-01, -7.60372091e-02],\n",
       "       [ 8.79355884e+00,  4.13456806e+00,  6.76421739e-01, ...,\n",
       "        -1.19290495e-01, -1.34864709e-01, -2.70498171e-01]])"
      ]
     },
     "execution_count": 18,
     "metadata": {},
     "output_type": "execute_result"
    }
   ],
   "source": [
    "X_transformed"
   ]
  },
  {
   "cell_type": "code",
   "execution_count": 19,
   "id": "497cb251-e20c-4193-b7ba-a99c45023565",
   "metadata": {},
   "outputs": [
    {
     "data": {
      "text/plain": [
       "(3075, 100)"
      ]
     },
     "execution_count": 19,
     "metadata": {},
     "output_type": "execute_result"
    }
   ],
   "source": [
    "X_transformed.shape"
   ]
  },
  {
   "cell_type": "markdown",
   "id": "04972b6e-a2d9-47ce-b0e5-aefb084579ca",
   "metadata": {},
   "source": [
    "## Clustering"
   ]
  },
  {
   "cell_type": "code",
   "execution_count": 20,
   "id": "b785c78b-cb98-491c-9533-b9ce9cf5e7e6",
   "metadata": {},
   "outputs": [
    {
     "data": {
      "text/plain": [
       "10"
      ]
     },
     "execution_count": 20,
     "metadata": {},
     "output_type": "execute_result"
    }
   ],
   "source": [
    "n_labels = len(df_data.category_name.unique())\n",
    "n_labels"
   ]
  },
  {
   "cell_type": "code",
   "execution_count": 21,
   "id": "cf2edcd3-f942-4faf-8855-7e8e40f67b9a",
   "metadata": {},
   "outputs": [],
   "source": [
    "clustering = SpectralClustering(\n",
    "    n_clusters=n_labels,\n",
    "    assign_labels='discretize',\n",
    "    affinity='rbf',\n",
    "    random_state=42,\n",
    "    verbose=10\n",
    ")"
   ]
  },
  {
   "cell_type": "code",
   "execution_count": 22,
   "id": "8313de16-a687-4836-869b-c1a18f7e1ea2",
   "metadata": {},
   "outputs": [
    {
     "name": "stderr",
     "output_type": "stream",
     "text": [
      "/home/omar/.cache/pypoetry/virtualenvs/snow-leopard-O1gqMmLm-py3.8/lib/python3.8/site-packages/sklearn/manifold/_spectral_embedding.py:245: UserWarning: Graph is not fully connected, spectral embedding may not work as expected.\n",
      "  warnings.warn(\"Graph is not fully connected, spectral embedding\"\n"
     ]
    },
    {
     "name": "stdout",
     "output_type": "stream",
     "text": [
      "Computing label assignment using discretize\n"
     ]
    },
    {
     "data": {
      "text/plain": [
       "SpectralClustering(assign_labels='discretize', n_clusters=10, random_state=42,\n",
       "                   verbose=10)"
      ]
     },
     "execution_count": 22,
     "metadata": {},
     "output_type": "execute_result"
    }
   ],
   "source": [
    "clustering.fit(X_transformed)"
   ]
  },
  {
   "cell_type": "code",
   "execution_count": 23,
   "id": "f26878b1-9bff-44bb-a445-58fd2a484643",
   "metadata": {},
   "outputs": [
    {
     "data": {
      "text/plain": [
       "3075"
      ]
     },
     "execution_count": 23,
     "metadata": {},
     "output_type": "execute_result"
    }
   ],
   "source": [
    "len(clustering.labels_)"
   ]
  },
  {
   "cell_type": "code",
   "execution_count": 24,
   "id": "b20f4450-67e8-4199-a3da-0a8e8122ee57",
   "metadata": {},
   "outputs": [],
   "source": [
    "# Set cluster assignments on the DataFrame containing training data\n",
    "df_cleaned_data['cluster'] = clustering.labels_"
   ]
  },
  {
   "cell_type": "code",
   "execution_count": 25,
   "id": "ba77ed4c-0841-4134-bb75-cef0d96cf379",
   "metadata": {},
   "outputs": [],
   "source": [
    "# Create a new column in the original DataFrame\n",
    "df_data['cluster'] = None\n",
    "\n",
    "# Copy cluster assignments from training DataFrame\n",
    "df_data['cluster'] = df_cleaned_data['cluster'].astype(int)"
   ]
  },
  {
   "cell_type": "markdown",
   "id": "94583416-18b5-4664-ae86-7a0206b1380d",
   "metadata": {},
   "source": [
    "## Analysis of Cluster Results"
   ]
  },
  {
   "cell_type": "code",
   "execution_count": 26,
   "id": "db52c939-03f2-45c0-8f8e-eb8fa2930dc4",
   "metadata": {},
   "outputs": [],
   "source": [
    "# Export data for analysis in Excel\n",
    "export_cols = [\n",
    "    'title', 'supplier_name', 'model_name',\n",
    "    'description_short',  'category_name', 'cluster'\n",
    "]\n",
    "df_data[export_cols].to_excel('../data/ice-cat-products-clusters.xlsx')"
   ]
  },
  {
   "cell_type": "code",
   "execution_count": 38,
   "id": "c4fe0ec9-9d3d-4d42-a4c9-9443e5b6d459",
   "metadata": {},
   "outputs": [
    {
     "data": {
      "text/html": [
       "<div>\n",
       "<style scoped>\n",
       "    .dataframe tbody tr th:only-of-type {\n",
       "        vertical-align: middle;\n",
       "    }\n",
       "\n",
       "    .dataframe tbody tr th {\n",
       "        vertical-align: top;\n",
       "    }\n",
       "\n",
       "    .dataframe thead th {\n",
       "        text-align: right;\n",
       "    }\n",
       "</style>\n",
       "<table border=\"1\" class=\"dataframe\">\n",
       "  <thead>\n",
       "    <tr style=\"text-align: right;\">\n",
       "      <th></th>\n",
       "      <th>id</th>\n",
       "    </tr>\n",
       "    <tr>\n",
       "      <th>cluster</th>\n",
       "      <th></th>\n",
       "    </tr>\n",
       "  </thead>\n",
       "  <tbody>\n",
       "    <tr>\n",
       "      <th>1</th>\n",
       "      <td>1</td>\n",
       "    </tr>\n",
       "    <tr>\n",
       "      <th>2</th>\n",
       "      <td>3039</td>\n",
       "    </tr>\n",
       "    <tr>\n",
       "      <th>3</th>\n",
       "      <td>20</td>\n",
       "    </tr>\n",
       "    <tr>\n",
       "      <th>6</th>\n",
       "      <td>15</td>\n",
       "    </tr>\n",
       "  </tbody>\n",
       "</table>\n",
       "</div>"
      ],
      "text/plain": [
       "           id\n",
       "cluster      \n",
       "1           1\n",
       "2        3039\n",
       "3          20\n",
       "6          15"
      ]
     },
     "execution_count": 38,
     "metadata": {},
     "output_type": "execute_result"
    }
   ],
   "source": [
    "df_data.groupby('cluster').agg({'id': 'count'})"
   ]
  },
  {
   "cell_type": "code",
   "execution_count": 41,
   "id": "b4f4e1e0-6c6e-4429-9fde-a1012d531a18",
   "metadata": {},
   "outputs": [
    {
     "data": {
      "text/html": [
       "<div>\n",
       "<style scoped>\n",
       "    .dataframe tbody tr th:only-of-type {\n",
       "        vertical-align: middle;\n",
       "    }\n",
       "\n",
       "    .dataframe tbody tr th {\n",
       "        vertical-align: top;\n",
       "    }\n",
       "\n",
       "    .dataframe thead th {\n",
       "        text-align: right;\n",
       "    }\n",
       "</style>\n",
       "<table border=\"1\" class=\"dataframe\">\n",
       "  <thead>\n",
       "    <tr style=\"text-align: right;\">\n",
       "      <th></th>\n",
       "      <th></th>\n",
       "      <th>id</th>\n",
       "    </tr>\n",
       "    <tr>\n",
       "      <th>category_name</th>\n",
       "      <th>cluster</th>\n",
       "      <th></th>\n",
       "    </tr>\n",
       "  </thead>\n",
       "  <tbody>\n",
       "    <tr>\n",
       "      <th rowspan=\"2\" valign=\"top\">Calculators</th>\n",
       "      <th>1</th>\n",
       "      <td>1</td>\n",
       "    </tr>\n",
       "    <tr>\n",
       "      <th>2</th>\n",
       "      <td>304</td>\n",
       "    </tr>\n",
       "    <tr>\n",
       "      <th rowspan=\"3\" valign=\"top\">Fax Machines</th>\n",
       "      <th>2</th>\n",
       "      <td>200</td>\n",
       "    </tr>\n",
       "    <tr>\n",
       "      <th>3</th>\n",
       "      <td>6</td>\n",
       "    </tr>\n",
       "    <tr>\n",
       "      <th>6</th>\n",
       "      <td>4</td>\n",
       "    </tr>\n",
       "    <tr>\n",
       "      <th rowspan=\"2\" valign=\"top\">File Storage Boxes</th>\n",
       "      <th>2</th>\n",
       "      <td>191</td>\n",
       "    </tr>\n",
       "    <tr>\n",
       "      <th>6</th>\n",
       "      <td>1</td>\n",
       "    </tr>\n",
       "    <tr>\n",
       "      <th>Folders</th>\n",
       "      <th>2</th>\n",
       "      <td>645</td>\n",
       "    </tr>\n",
       "    <tr>\n",
       "      <th rowspan=\"3\" valign=\"top\">Multimedia Carts &amp; Stands</th>\n",
       "      <th>2</th>\n",
       "      <td>299</td>\n",
       "    </tr>\n",
       "    <tr>\n",
       "      <th>3</th>\n",
       "      <td>13</td>\n",
       "    </tr>\n",
       "    <tr>\n",
       "      <th>6</th>\n",
       "      <td>5</td>\n",
       "    </tr>\n",
       "    <tr>\n",
       "      <th rowspan=\"2\" valign=\"top\">Printer Cabinets &amp; Stands</th>\n",
       "      <th>2</th>\n",
       "      <td>250</td>\n",
       "    </tr>\n",
       "    <tr>\n",
       "      <th>6</th>\n",
       "      <td>2</td>\n",
       "    </tr>\n",
       "    <tr>\n",
       "      <th>Ring Binders</th>\n",
       "      <th>2</th>\n",
       "      <td>298</td>\n",
       "    </tr>\n",
       "    <tr>\n",
       "      <th rowspan=\"2\" valign=\"top\">Self-Adhesive Labels</th>\n",
       "      <th>2</th>\n",
       "      <td>321</td>\n",
       "    </tr>\n",
       "    <tr>\n",
       "      <th>6</th>\n",
       "      <td>3</td>\n",
       "    </tr>\n",
       "    <tr>\n",
       "      <th>Whiteboards</th>\n",
       "      <th>2</th>\n",
       "      <td>232</td>\n",
       "    </tr>\n",
       "    <tr>\n",
       "      <th rowspan=\"2\" valign=\"top\">Writing Notebooks</th>\n",
       "      <th>2</th>\n",
       "      <td>299</td>\n",
       "    </tr>\n",
       "    <tr>\n",
       "      <th>3</th>\n",
       "      <td>1</td>\n",
       "    </tr>\n",
       "  </tbody>\n",
       "</table>\n",
       "</div>"
      ],
      "text/plain": [
       "                                    id\n",
       "category_name             cluster     \n",
       "Calculators               1          1\n",
       "                          2        304\n",
       "Fax Machines              2        200\n",
       "                          3          6\n",
       "                          6          4\n",
       "File Storage Boxes        2        191\n",
       "                          6          1\n",
       "Folders                   2        645\n",
       "Multimedia Carts & Stands 2        299\n",
       "                          3         13\n",
       "                          6          5\n",
       "Printer Cabinets & Stands 2        250\n",
       "                          6          2\n",
       "Ring Binders              2        298\n",
       "Self-Adhesive Labels      2        321\n",
       "                          6          3\n",
       "Whiteboards               2        232\n",
       "Writing Notebooks         2        299\n",
       "                          3          1"
      ]
     },
     "execution_count": 41,
     "metadata": {},
     "output_type": "execute_result"
    }
   ],
   "source": [
    "df_data.groupby(['category_name', 'cluster']).agg({'id': 'count'})"
   ]
  },
  {
   "cell_type": "code",
   "execution_count": null,
   "id": "f0524800-c703-42e9-a1bb-0f0de0fdc8d4",
   "metadata": {},
   "outputs": [],
   "source": []
  }
 ],
 "metadata": {
  "kernelspec": {
   "display_name": "Python 3",
   "language": "python",
   "name": "python3"
  },
  "language_info": {
   "codemirror_mode": {
    "name": "ipython",
    "version": 3
   },
   "file_extension": ".py",
   "mimetype": "text/x-python",
   "name": "python",
   "nbconvert_exporter": "python",
   "pygments_lexer": "ipython3",
   "version": "3.8.8"
  }
 },
 "nbformat": 4,
 "nbformat_minor": 5
}
