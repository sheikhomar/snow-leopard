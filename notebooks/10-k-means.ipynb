{
 "cells": [
  {
   "cell_type": "markdown",
   "id": "6c0a5206-7e29-4822-8fac-1452574bf41a",
   "metadata": {},
   "source": [
    "# k-Means Clustering"
   ]
  },
  {
   "cell_type": "code",
   "execution_count": 1,
   "id": "87c91c3f-5885-4530-8ba3-7e50813d45ee",
   "metadata": {},
   "outputs": [],
   "source": [
    "import matplotlib.pyplot as plt\n",
    "import networkx as nx\n",
    "import numpy as np\n",
    "import pandas as pd\n",
    "import plotly.express as px\n",
    "import plotly.graph_objects as go\n",
    "import seaborn as sns\n",
    "\n",
    "from fast_pagerank import pagerank\n",
    "from fast_pagerank import pagerank_power\n",
    "from scipy import sparse\n",
    "from sklearn.cluster import SpectralClustering, KMeans\n",
    "from sklearn.decomposition import TruncatedSVD, PCA\n",
    "from sklearn.manifold import TSNE\n",
    "from sklearn.metrics import silhouette_score, calinski_harabasz_score, davies_bouldin_score\n",
    "from sklearn.metrics.pairwise import rbf_kernel, cosine_similarity\n",
    "from sklearn.cluster import SpectralClustering\n",
    "from sklearn.preprocessing import MinMaxScaler\n",
    "from tqdm.notebook import tqdm\n",
    "\n",
    "import utils"
   ]
  },
  {
   "cell_type": "code",
   "execution_count": 2,
   "id": "8ab2d1ca-a239-4bf4-b592-c835568517a6",
   "metadata": {},
   "outputs": [],
   "source": [
    "# Load data\n",
    "df_data = pd.read_csv('../data/ice-cat-office-products.csv.gz', dtype=str, index_col=0)\n",
    "\n",
    "# Filter out small product categories\n",
    "# top_categories = utils.find_top_n_categories(df_data, top_n=3)\n",
    "top_categories = [\n",
    "#     'Folders',                     # N=645\n",
    "#     'Self-Adhesive Labels',        # N=324\n",
    "#     'Multimedia Carts & Stands',   # N=317\n",
    "#     'Calculators',                 # N=305\n",
    "#     'Writing Notebooks'            # N=300\n",
    "#     'Ring Binders',                # N=298\n",
    "#     'Printer Cabinets & Stands',   # N=252\n",
    "    'Whiteboards',                 # N=232\n",
    "#     'Fax Machines',                # N=210\n",
    "    'File Storage Boxes'           # N=192\n",
    "#     'Binding Covers',              # N=190\n",
    "#     'Self-Adhesive Note Paper',    # N=172\n",
    "#     'Staplers',                    # N=162\n",
    "#     'Desk Trays/Organizers',       # N=159\n",
    "#     'Board Accessories',           # N=154\n",
    "#     'Seals',                       # N=145\n",
    "#     'Computer Desks',              # N=144\n",
    "#     'Hole Punches',                # N=136\n",
    "#     'Hanging Folders',             # N=132\n",
    "#     'Interactive Whiteboards',     # N=131\n",
    "#     'Laminator Pouches',           # N=128\n",
    "#     'Stationery Tapes',            # N=124\n",
    "#     'Bulletin Boards',             # N=123\n",
    "#     'Tab Indexes',                 # N=114\n",
    "#     'Folder Binding Accessories',  # N=109\n",
    "#     'Non-Adhesive Labels',         # N=103\n",
    "]\n",
    "df_data = df_data[df_data.category_name.isin(top_categories)]\n",
    "\n",
    "# Sort by category for later visualisation\n",
    "df_data.sort_values('category_name', inplace=True)\n",
    "\n",
    "product_features = utils.get_product_feature_columns_for_training(df_data)\n",
    "\n",
    "df_play_data = df_data[['category_name'] + product_features].copy()\n",
    "\n",
    "fill_ratios = utils.get_fill_ratios_for_product_features_per_category(df_play_data)\n",
    "valid_cats_per_feat = utils.get_valid_categories_per_product_feature(fill_ratios)"
   ]
  },
  {
   "cell_type": "code",
   "execution_count": 3,
   "id": "bbd96240-59ba-4502-809c-ad861320bf68",
   "metadata": {},
   "outputs": [
    {
     "data": {
      "text/plain": [
       "(424, 171)"
      ]
     },
     "execution_count": 3,
     "metadata": {},
     "output_type": "execute_result"
    }
   ],
   "source": [
    "X_raw = utils.preprocess_dataframe(df_play_data, valid_cats_per_feat)\n",
    "X_raw.shape"
   ]
  },
  {
   "cell_type": "code",
   "execution_count": 4,
   "id": "b749a62f-00c6-4141-b22c-ef1c107c77c8",
   "metadata": {},
   "outputs": [
    {
     "data": {
      "text/plain": [
       "(424, 19)"
      ]
     },
     "execution_count": 4,
     "metadata": {},
     "output_type": "execute_result"
    }
   ],
   "source": [
    "# Reduce to number of dimensions so the remaining dimensions\n",
    "# explain at least 90 percent of the variance.\n",
    "svd = PCA(n_components=0.9, random_state=42)\n",
    "X_pca = svd.fit_transform(X_raw)\n",
    "X_pca.shape"
   ]
  },
  {
   "cell_type": "code",
   "execution_count": 5,
   "id": "b58f423f-8a21-4f64-b599-ff42b34c67cb",
   "metadata": {},
   "outputs": [
    {
     "data": {
      "application/vnd.jupyter.widget-view+json": {
       "model_id": "15d837b2c9374e6e987c235f3e96217e",
       "version_major": 2,
       "version_minor": 0
      },
      "text/plain": [
       "  0%|          | 0/48 [00:00<?, ?it/s]"
      ]
     },
     "metadata": {},
     "output_type": "display_data"
    }
   ],
   "source": [
    "scores = []\n",
    "k_range = range(2, 50)\n",
    "for k in tqdm(k_range):\n",
    "    kmeans = KMeans(n_clusters=k)\n",
    "    kmeans.fit(X_pca)\n",
    "    \n",
    "    clustering_labels = kmeans.labels_\n",
    "    \n",
    "    scores.append({\n",
    "        'k': k,\n",
    "        \n",
    "        # Inertia: sum of squared distances of samples to their closest cluster center.\n",
    "        'inertia': kmeans.inertia_,\n",
    "        \n",
    "        'davies_bouldin': davies_bouldin_score(X_pca, clustering_labels),\n",
    "        'calinski_harabasz': calinski_harabasz_score(X_pca, clustering_labels),\n",
    "        'silhouette': silhouette_score(X_pca, clustering_labels),\n",
    "    })"
   ]
  },
  {
   "cell_type": "code",
   "execution_count": 6,
   "id": "2adb42c3-0208-43cc-acac-3520c2b5866b",
   "metadata": {},
   "outputs": [],
   "source": [
    "df_clustering_scores = pd.DataFrame(scores).set_index('k')"
   ]
  },
  {
   "cell_type": "code",
   "execution_count": 7,
   "id": "1243b234-b190-4920-bf54-f5c53859b014",
   "metadata": {},
   "outputs": [
    {
     "data": {
      "text/plain": [
       "<AxesSubplot:xlabel='k'>"
      ]
     },
     "execution_count": 7,
     "metadata": {},
     "output_type": "execute_result"
    },
    {
     "data": {
      "image/png": "[encoded data removed]",
      "text/plain": [
       "<Figure size 432x288 with 1 Axes>"
      ]
     },
     "metadata": {
      "needs_background": "light"
     },
     "output_type": "display_data"
    }
   ],
   "source": [
    "df_clustering_scores[\"silhouette\"].plot()"
   ]
  },
  {
   "cell_type": "code",
   "execution_count": 8,
   "id": "194ae991-2d75-479c-b065-487b5bdaa5fc",
   "metadata": {},
   "outputs": [
    {
     "data": {
      "text/plain": [
       "<AxesSubplot:xlabel='k'>"
      ]
     },
     "execution_count": 8,
     "metadata": {},
     "output_type": "execute_result"
    },
    {
     "data": {
      "image/png": "[encoded data removed]",
      "text/plain": [
       "<Figure size 432x288 with 1 Axes>"
      ]
     },
     "metadata": {
      "needs_background": "light"
     },
     "output_type": "display_data"
    }
   ],
   "source": [
    "df_clustering_scores[\"davies_bouldin\"].plot()"
   ]
  },
  {
   "cell_type": "code",
   "execution_count": 9,
   "id": "a2887a43-b4d8-4c16-b134-e749dc998071",
   "metadata": {},
   "outputs": [
    {
     "data": {
      "text/plain": [
       "<AxesSubplot:xlabel='k'>"
      ]
     },
     "execution_count": 9,
     "metadata": {},
     "output_type": "execute_result"
    },
    {
     "data": {
      "image/png": "[encoded data removed]",
      "text/plain": [
       "<Figure size 432x288 with 1 Axes>"
      ]
     },
     "metadata": {
      "needs_background": "light"
     },
     "output_type": "display_data"
    }
   ],
   "source": [
    "df_clustering_scores[\"inertia\"].plot()"
   ]
  },
  {
   "cell_type": "code",
   "execution_count": 10,
   "id": "05b4eb45-df25-475d-99ee-7a57a92577ff",
   "metadata": {},
   "outputs": [
    {
     "data": {
      "text/plain": [
       "<AxesSubplot:xlabel='k'>"
      ]
     },
     "execution_count": 10,
     "metadata": {},
     "output_type": "execute_result"
    },
    {
     "data": {
      "image/png": "[encoded data removed]",
      "text/plain": [
       "<Figure size 432x288 with 1 Axes>"
      ]
     },
     "metadata": {
      "needs_background": "light"
     },
     "output_type": "display_data"
    }
   ],
   "source": [
    "df_clustering_scores['davies_bouldin'].plot()"
   ]
  },
  {
   "cell_type": "code",
   "execution_count": 11,
   "id": "c273930a-bb88-4bed-aa1e-74b85c136522",
   "metadata": {},
   "outputs": [
    {
     "data": {
      "text/plain": [
       "KMeans(n_clusters=40, random_state=42)"
      ]
     },
     "execution_count": 11,
     "metadata": {},
     "output_type": "execute_result"
    }
   ],
   "source": [
    "kmeans = KMeans(n_clusters=40, init=\"k-means++\", random_state=42)\n",
    "kmeans.fit(X_pca)"
   ]
  },
  {
   "cell_type": "code",
   "execution_count": 12,
   "id": "0bdfc4c0-060a-40bb-b95e-4addeb1a14cd",
   "metadata": {},
   "outputs": [],
   "source": [
    "df_cleaned_data, features_by_type = utils.prepare_for_preprocessing(df_data)\n",
    "\n",
    "# Add extra columns\n",
    "df_cleaned_data['title'] = df_data['title']\n",
    "\n",
    "# Assign clusters to the original data\n",
    "df_cleaned_data['cluster'] = kmeans.labels_\n",
    "df_cleaned_data['cluster'] = df_cleaned_data['cluster'].astype(str)"
   ]
  },
  {
   "cell_type": "code",
   "execution_count": 13,
   "id": "67ed11b0-7eb9-47e0-b552-7258d23ea067",
   "metadata": {},
   "outputs": [
    {
     "data": {
      "text/html": [
       "<div>\n",
       "<style scoped>\n",
       "    .dataframe tbody tr th:only-of-type {\n",
       "        vertical-align: middle;\n",
       "    }\n",
       "\n",
       "    .dataframe tbody tr th {\n",
       "        vertical-align: top;\n",
       "    }\n",
       "\n",
       "    .dataframe thead th {\n",
       "        text-align: right;\n",
       "    }\n",
       "</style>\n",
       "<table border=\"1\" class=\"dataframe\">\n",
       "  <thead>\n",
       "    <tr style=\"text-align: right;\">\n",
       "      <th></th>\n",
       "      <th>cluster</th>\n",
       "      <th>category_name</th>\n",
       "      <th>n_rows</th>\n",
       "    </tr>\n",
       "  </thead>\n",
       "  <tbody>\n",
       "    <tr>\n",
       "      <th>0</th>\n",
       "      <td>0</td>\n",
       "      <td>Whiteboards</td>\n",
       "      <td>9</td>\n",
       "    </tr>\n",
       "    <tr>\n",
       "      <th>1</th>\n",
       "      <td>1</td>\n",
       "      <td>File Storage Boxes</td>\n",
       "      <td>23</td>\n",
       "    </tr>\n",
       "    <tr>\n",
       "      <th>2</th>\n",
       "      <td>10</td>\n",
       "      <td>Whiteboards</td>\n",
       "      <td>11</td>\n",
       "    </tr>\n",
       "    <tr>\n",
       "      <th>3</th>\n",
       "      <td>11</td>\n",
       "      <td>Whiteboards</td>\n",
       "      <td>1</td>\n",
       "    </tr>\n",
       "    <tr>\n",
       "      <th>4</th>\n",
       "      <td>12</td>\n",
       "      <td>Whiteboards</td>\n",
       "      <td>14</td>\n",
       "    </tr>\n",
       "    <tr>\n",
       "      <th>5</th>\n",
       "      <td>13</td>\n",
       "      <td>Whiteboards</td>\n",
       "      <td>12</td>\n",
       "    </tr>\n",
       "    <tr>\n",
       "      <th>6</th>\n",
       "      <td>14</td>\n",
       "      <td>Whiteboards</td>\n",
       "      <td>3</td>\n",
       "    </tr>\n",
       "    <tr>\n",
       "      <th>7</th>\n",
       "      <td>15</td>\n",
       "      <td>File Storage Boxes</td>\n",
       "      <td>6</td>\n",
       "    </tr>\n",
       "    <tr>\n",
       "      <th>8</th>\n",
       "      <td>16</td>\n",
       "      <td>File Storage Boxes</td>\n",
       "      <td>34</td>\n",
       "    </tr>\n",
       "    <tr>\n",
       "      <th>9</th>\n",
       "      <td>17</td>\n",
       "      <td>Whiteboards</td>\n",
       "      <td>11</td>\n",
       "    </tr>\n",
       "    <tr>\n",
       "      <th>10</th>\n",
       "      <td>18</td>\n",
       "      <td>Whiteboards</td>\n",
       "      <td>2</td>\n",
       "    </tr>\n",
       "    <tr>\n",
       "      <th>11</th>\n",
       "      <td>19</td>\n",
       "      <td>File Storage Boxes</td>\n",
       "      <td>2</td>\n",
       "    </tr>\n",
       "    <tr>\n",
       "      <th>12</th>\n",
       "      <td>2</td>\n",
       "      <td>Whiteboards</td>\n",
       "      <td>23</td>\n",
       "    </tr>\n",
       "    <tr>\n",
       "      <th>13</th>\n",
       "      <td>20</td>\n",
       "      <td>File Storage Boxes</td>\n",
       "      <td>10</td>\n",
       "    </tr>\n",
       "    <tr>\n",
       "      <th>14</th>\n",
       "      <td>21</td>\n",
       "      <td>Whiteboards</td>\n",
       "      <td>13</td>\n",
       "    </tr>\n",
       "    <tr>\n",
       "      <th>15</th>\n",
       "      <td>22</td>\n",
       "      <td>Whiteboards</td>\n",
       "      <td>10</td>\n",
       "    </tr>\n",
       "    <tr>\n",
       "      <th>16</th>\n",
       "      <td>23</td>\n",
       "      <td>File Storage Boxes</td>\n",
       "      <td>10</td>\n",
       "    </tr>\n",
       "    <tr>\n",
       "      <th>17</th>\n",
       "      <td>24</td>\n",
       "      <td>File Storage Boxes</td>\n",
       "      <td>12</td>\n",
       "    </tr>\n",
       "    <tr>\n",
       "      <th>18</th>\n",
       "      <td>25</td>\n",
       "      <td>Whiteboards</td>\n",
       "      <td>7</td>\n",
       "    </tr>\n",
       "    <tr>\n",
       "      <th>19</th>\n",
       "      <td>26</td>\n",
       "      <td>Whiteboards</td>\n",
       "      <td>12</td>\n",
       "    </tr>\n",
       "    <tr>\n",
       "      <th>20</th>\n",
       "      <td>27</td>\n",
       "      <td>Whiteboards</td>\n",
       "      <td>8</td>\n",
       "    </tr>\n",
       "    <tr>\n",
       "      <th>21</th>\n",
       "      <td>28</td>\n",
       "      <td>Whiteboards</td>\n",
       "      <td>16</td>\n",
       "    </tr>\n",
       "    <tr>\n",
       "      <th>22</th>\n",
       "      <td>29</td>\n",
       "      <td>Whiteboards</td>\n",
       "      <td>4</td>\n",
       "    </tr>\n",
       "    <tr>\n",
       "      <th>23</th>\n",
       "      <td>3</td>\n",
       "      <td>File Storage Boxes</td>\n",
       "      <td>23</td>\n",
       "    </tr>\n",
       "    <tr>\n",
       "      <th>24</th>\n",
       "      <td>30</td>\n",
       "      <td>File Storage Boxes</td>\n",
       "      <td>8</td>\n",
       "    </tr>\n",
       "    <tr>\n",
       "      <th>25</th>\n",
       "      <td>31</td>\n",
       "      <td>Whiteboards</td>\n",
       "      <td>6</td>\n",
       "    </tr>\n",
       "    <tr>\n",
       "      <th>26</th>\n",
       "      <td>32</td>\n",
       "      <td>Whiteboards</td>\n",
       "      <td>12</td>\n",
       "    </tr>\n",
       "    <tr>\n",
       "      <th>27</th>\n",
       "      <td>33</td>\n",
       "      <td>Whiteboards</td>\n",
       "      <td>5</td>\n",
       "    </tr>\n",
       "    <tr>\n",
       "      <th>28</th>\n",
       "      <td>34</td>\n",
       "      <td>File Storage Boxes</td>\n",
       "      <td>2</td>\n",
       "    </tr>\n",
       "    <tr>\n",
       "      <th>29</th>\n",
       "      <td>35</td>\n",
       "      <td>File Storage Boxes</td>\n",
       "      <td>1</td>\n",
       "    </tr>\n",
       "    <tr>\n",
       "      <th>30</th>\n",
       "      <td>36</td>\n",
       "      <td>Whiteboards</td>\n",
       "      <td>25</td>\n",
       "    </tr>\n",
       "    <tr>\n",
       "      <th>31</th>\n",
       "      <td>37</td>\n",
       "      <td>File Storage Boxes</td>\n",
       "      <td>3</td>\n",
       "    </tr>\n",
       "    <tr>\n",
       "      <th>32</th>\n",
       "      <td>38</td>\n",
       "      <td>File Storage Boxes</td>\n",
       "      <td>8</td>\n",
       "    </tr>\n",
       "    <tr>\n",
       "      <th>33</th>\n",
       "      <td>39</td>\n",
       "      <td>File Storage Boxes</td>\n",
       "      <td>3</td>\n",
       "    </tr>\n",
       "    <tr>\n",
       "      <th>34</th>\n",
       "      <td>4</td>\n",
       "      <td>Whiteboards</td>\n",
       "      <td>17</td>\n",
       "    </tr>\n",
       "    <tr>\n",
       "      <th>35</th>\n",
       "      <td>5</td>\n",
       "      <td>File Storage Boxes</td>\n",
       "      <td>17</td>\n",
       "    </tr>\n",
       "    <tr>\n",
       "      <th>36</th>\n",
       "      <td>6</td>\n",
       "      <td>Whiteboards</td>\n",
       "      <td>11</td>\n",
       "    </tr>\n",
       "    <tr>\n",
       "      <th>37</th>\n",
       "      <td>7</td>\n",
       "      <td>File Storage Boxes</td>\n",
       "      <td>6</td>\n",
       "    </tr>\n",
       "    <tr>\n",
       "      <th>38</th>\n",
       "      <td>8</td>\n",
       "      <td>File Storage Boxes</td>\n",
       "      <td>12</td>\n",
       "    </tr>\n",
       "    <tr>\n",
       "      <th>39</th>\n",
       "      <td>9</td>\n",
       "      <td>File Storage Boxes</td>\n",
       "      <td>12</td>\n",
       "    </tr>\n",
       "  </tbody>\n",
       "</table>\n",
       "</div>"
      ],
      "text/plain": [
       "   cluster       category_name  n_rows\n",
       "0        0         Whiteboards       9\n",
       "1        1  File Storage Boxes      23\n",
       "2       10         Whiteboards      11\n",
       "3       11         Whiteboards       1\n",
       "4       12         Whiteboards      14\n",
       "5       13         Whiteboards      12\n",
       "6       14         Whiteboards       3\n",
       "7       15  File Storage Boxes       6\n",
       "8       16  File Storage Boxes      34\n",
       "9       17         Whiteboards      11\n",
       "10      18         Whiteboards       2\n",
       "11      19  File Storage Boxes       2\n",
       "12       2         Whiteboards      23\n",
       "13      20  File Storage Boxes      10\n",
       "14      21         Whiteboards      13\n",
       "15      22         Whiteboards      10\n",
       "16      23  File Storage Boxes      10\n",
       "17      24  File Storage Boxes      12\n",
       "18      25         Whiteboards       7\n",
       "19      26         Whiteboards      12\n",
       "20      27         Whiteboards       8\n",
       "21      28         Whiteboards      16\n",
       "22      29         Whiteboards       4\n",
       "23       3  File Storage Boxes      23\n",
       "24      30  File Storage Boxes       8\n",
       "25      31         Whiteboards       6\n",
       "26      32         Whiteboards      12\n",
       "27      33         Whiteboards       5\n",
       "28      34  File Storage Boxes       2\n",
       "29      35  File Storage Boxes       1\n",
       "30      36         Whiteboards      25\n",
       "31      37  File Storage Boxes       3\n",
       "32      38  File Storage Boxes       8\n",
       "33      39  File Storage Boxes       3\n",
       "34       4         Whiteboards      17\n",
       "35       5  File Storage Boxes      17\n",
       "36       6         Whiteboards      11\n",
       "37       7  File Storage Boxes       6\n",
       "38       8  File Storage Boxes      12\n",
       "39       9  File Storage Boxes      12"
      ]
     },
     "execution_count": 13,
     "metadata": {},
     "output_type": "execute_result"
    }
   ],
   "source": [
    "# Count number of rows where clustering and known ground truths differ/agree\n",
    "utils.group_clusters_per_category(df_cleaned_data)"
   ]
  },
  {
   "cell_type": "code",
   "execution_count": 14,
   "id": "8b894cb7-3eeb-4866-94cd-95c90a4e282e",
   "metadata": {},
   "outputs": [
    {
     "data": {
      "text/html": [
       "<div>\n",
       "<style scoped>\n",
       "    .dataframe tbody tr th:only-of-type {\n",
       "        vertical-align: middle;\n",
       "    }\n",
       "\n",
       "    .dataframe tbody tr th {\n",
       "        vertical-align: top;\n",
       "    }\n",
       "\n",
       "    .dataframe thead th {\n",
       "        text-align: right;\n",
       "    }\n",
       "</style>\n",
       "<table border=\"1\" class=\"dataframe\">\n",
       "  <thead>\n",
       "    <tr style=\"text-align: right;\">\n",
       "      <th></th>\n",
       "      <th>pred_category</th>\n",
       "      <th>category_name</th>\n",
       "      <th>n_rows</th>\n",
       "    </tr>\n",
       "  </thead>\n",
       "  <tbody>\n",
       "    <tr>\n",
       "      <th>0</th>\n",
       "      <td>File Storage Boxes</td>\n",
       "      <td>File Storage Boxes</td>\n",
       "      <td>192</td>\n",
       "    </tr>\n",
       "    <tr>\n",
       "      <th>1</th>\n",
       "      <td>Whiteboards</td>\n",
       "      <td>Whiteboards</td>\n",
       "      <td>232</td>\n",
       "    </tr>\n",
       "  </tbody>\n",
       "</table>\n",
       "</div>"
      ],
      "text/plain": [
       "        pred_category       category_name  n_rows\n",
       "0  File Storage Boxes  File Storage Boxes     192\n",
       "1         Whiteboards         Whiteboards     232"
      ]
     },
     "execution_count": 14,
     "metadata": {},
     "output_type": "execute_result"
    }
   ],
   "source": [
    "# Combine clusters that agree with the ground truths (given product categories)\n",
    "df_cleaned_data = utils.combined_similar_clusters(df_cleaned_data)\n",
    "\n",
    "# Count number of rows where clustering and known ground truths differ/agree\n",
    "utils.group_clusters_per_category(df_cleaned_data, attr_name='pred_category')"
   ]
  },
  {
   "cell_type": "code",
   "execution_count": null,
   "id": "6bb2330c-da33-41ab-8e64-acc4b44cbe7a",
   "metadata": {},
   "outputs": [],
   "source": []
  }
 ],
 "metadata": {
  "kernelspec": {
   "display_name": "Python 3",
   "language": "python",
   "name": "python3"
  },
  "language_info": {
   "codemirror_mode": {
    "name": "ipython",
    "version": 3
   },
   "file_extension": ".py",
   "mimetype": "text/x-python",
   "name": "python",
   "nbconvert_exporter": "python",
   "pygments_lexer": "ipython3",
   "version": "3.8.8"
  }
 },
 "nbformat": 4,
 "nbformat_minor": 5
}
