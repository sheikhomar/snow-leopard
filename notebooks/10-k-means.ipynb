{
 "cells": [
  {
   "cell_type": "markdown",
   "id": "6c0a5206-7e29-4822-8fac-1452574bf41a",
   "metadata": {},
   "source": [
    "# k-Means Clustering"
   ]
  },
  {
   "cell_type": "code",
   "execution_count": 13,
   "id": "87c91c3f-5885-4530-8ba3-7e50813d45ee",
   "metadata": {},
   "outputs": [],
   "source": [
    "import matplotlib.pyplot as plt\n",
    "import networkx as nx\n",
    "import numpy as np\n",
    "import pandas as pd\n",
    "import plotly.express as px\n",
    "import plotly.graph_objects as go\n",
    "import seaborn as sns\n",
    "\n",
    "from fast_pagerank import pagerank\n",
    "from fast_pagerank import pagerank_power\n",
    "from scipy import sparse\n",
    "from sklearn.cluster import SpectralClustering, KMeans\n",
    "from sklearn.decomposition import TruncatedSVD, PCA\n",
    "from sklearn.manifold import TSNE\n",
    "from sklearn.metrics import silhouette_score, calinski_harabasz_score, davies_bouldin_score\n",
    "from sklearn.metrics.pairwise import rbf_kernel, cosine_similarity\n",
    "from sklearn.cluster import SpectralClustering\n",
    "from sklearn.preprocessing import MinMaxScaler\n",
    "from tqdm.notebook import tqdm\n",
    "\n",
    "import utils"
   ]
  },
  {
   "cell_type": "code",
   "execution_count": 5,
   "id": "8ab2d1ca-a239-4bf4-b592-c835568517a6",
   "metadata": {},
   "outputs": [],
   "source": [
    "# Load data\n",
    "df_data = pd.read_csv('../data/ice-cat-office-products.csv.gz', dtype=str, index_col=0)\n",
    "\n",
    "# Filter out small product categories\n",
    "# top_categories = utils.find_top_n_categories(df_data, top_n=3)\n",
    "top_categories = [\n",
    "     'Folders',                         # N=645\n",
    "     'Self-Adhesive Labels',            # N=324\n",
    "     'Multimedia Carts & Stands',       # N=317\n",
    "#     'Calculators',                     # N=305\n",
    "#     'Writing Notebooks'                # N=300\n",
    "     'Ring Binders',                    # N=298\n",
    "     'Printer Cabinets & Stands',       # N=252\n",
    "#     'Whiteboards',                     # N=232\n",
    "#     'Fax Machines',                    # N=210\n",
    "#     'File Storage Boxes'               # N=192\n",
    "]\n",
    "df_data = df_data[df_data.category_name.isin(top_categories)]\n",
    "\n",
    "# Sort by category for later visualisation\n",
    "df_data.sort_values('category_name', inplace=True)\n",
    "\n",
    "product_features = utils.get_product_feature_columns_for_training(df_data)\n",
    "\n",
    "df_play_data = df_data[['category_name'] + product_features].copy()\n",
    "\n",
    "fill_ratios = utils.get_fill_ratios_for_product_features_per_category(df_play_data)\n",
    "valid_cats_per_feat = utils.get_valid_categories_per_product_feature(fill_ratios)"
   ]
  },
  {
   "cell_type": "code",
   "execution_count": 6,
   "id": "bbd96240-59ba-4502-809c-ad861320bf68",
   "metadata": {},
   "outputs": [
    {
     "data": {
      "text/plain": [
       "(1836, 462)"
      ]
     },
     "execution_count": 6,
     "metadata": {},
     "output_type": "execute_result"
    }
   ],
   "source": [
    "X_raw = utils.preprocess_dataframe(df_play_data, valid_cats_per_feat)\n",
    "X_raw.shape"
   ]
  },
  {
   "cell_type": "code",
   "execution_count": 7,
   "id": "b749a62f-00c6-4141-b22c-ef1c107c77c8",
   "metadata": {},
   "outputs": [
    {
     "data": {
      "text/plain": [
       "(1836, 33)"
      ]
     },
     "execution_count": 7,
     "metadata": {},
     "output_type": "execute_result"
    }
   ],
   "source": [
    "# Reduce to number of dimensions so the remaining dimensions\n",
    "# explain at least 90 percent of the variance.\n",
    "svd = PCA(n_components=0.9, random_state=42)\n",
    "X_pca = svd.fit_transform(X_raw)\n",
    "X_pca.shape"
   ]
  },
  {
   "cell_type": "code",
   "execution_count": 8,
   "id": "b58f423f-8a21-4f64-b599-ff42b34c67cb",
   "metadata": {},
   "outputs": [
    {
     "data": {
      "application/vnd.jupyter.widget-view+json": {
       "model_id": "1a95bedb512440da8b2322b710c458d2",
       "version_major": 2,
       "version_minor": 0
      },
      "text/plain": [
       "  0%|          | 0/48 [00:00<?, ?it/s]"
      ]
     },
     "metadata": {},
     "output_type": "display_data"
    }
   ],
   "source": [
    "scores = []\n",
    "k_range = range(2, 50)\n",
    "for k in tqdm(k_range):\n",
    "    kmeans = KMeans(n_clusters=k)\n",
    "    kmeans.fit(X_pca)\n",
    "    \n",
    "    clustering_labels = kmeans.labels_\n",
    "    \n",
    "    scores.append({\n",
    "        'k': k,\n",
    "        \n",
    "        # Inertia: sum of squared distances of samples to their closest cluster center.\n",
    "        'inertia': kmeans.inertia_,\n",
    "        \n",
    "        'davies_bouldin': davies_bouldin_score(X_pca, clustering_labels),\n",
    "        'calinski_harabasz': calinski_harabasz_score(X_pca, clustering_labels),\n",
    "        'silhouette': silhouette_score(X_pca, clustering_labels),\n",
    "    })"
   ]
  },
  {
   "cell_type": "code",
   "execution_count": 9,
   "id": "2adb42c3-0208-43cc-acac-3520c2b5866b",
   "metadata": {},
   "outputs": [],
   "source": [
    "df_clustering_scores = pd.DataFrame(scores).set_index('k')"
   ]
  },
  {
   "cell_type": "code",
   "execution_count": 15,
   "id": "1243b234-b190-4920-bf54-f5c53859b014",
   "metadata": {},
   "outputs": [
    {
     "data": {
      "text/plain": [
       "<AxesSubplot:xlabel='k'>"
      ]
     },
     "execution_count": 15,
     "metadata": {},
     "output_type": "execute_result"
    },
    {
     "data": {
      "image/png": "[encoded data removed]",
      "text/plain": [
       "<Figure size 432x288 with 1 Axes>"
      ]
     },
     "metadata": {
      "needs_background": "light"
     },
     "output_type": "display_data"
    }
   ],
   "source": [
    "df_clustering_scores[\"silhouette\"].plot()"
   ]
  },
  {
   "cell_type": "code",
   "execution_count": 16,
   "id": "194ae991-2d75-479c-b065-487b5bdaa5fc",
   "metadata": {},
   "outputs": [
    {
     "data": {
      "text/plain": [
       "<AxesSubplot:xlabel='k'>"
      ]
     },
     "execution_count": 16,
     "metadata": {},
     "output_type": "execute_result"
    },
    {
     "data": {
      "image/png": "[encoded data removed]",
      "text/plain": [
       "<Figure size 432x288 with 1 Axes>"
      ]
     },
     "metadata": {
      "needs_background": "light"
     },
     "output_type": "display_data"
    }
   ],
   "source": [
    "df_clustering_scores[\"davies_bouldin\"].plot()"
   ]
  },
  {
   "cell_type": "code",
   "execution_count": 17,
   "id": "a2887a43-b4d8-4c16-b134-e749dc998071",
   "metadata": {},
   "outputs": [
    {
     "data": {
      "text/plain": [
       "<AxesSubplot:xlabel='k'>"
      ]
     },
     "execution_count": 17,
     "metadata": {},
     "output_type": "execute_result"
    },
    {
     "data": {
      "image/png": "[encoded data removed]",
      "text/plain": [
       "<Figure size 432x288 with 1 Axes>"
      ]
     },
     "metadata": {
      "needs_background": "light"
     },
     "output_type": "display_data"
    }
   ],
   "source": [
    "df_clustering_scores[\"inertia\"].plot()"
   ]
  },
  {
   "cell_type": "code",
   "execution_count": 18,
   "id": "05b4eb45-df25-475d-99ee-7a57a92577ff",
   "metadata": {},
   "outputs": [
    {
     "data": {
      "text/plain": [
       "<AxesSubplot:xlabel='k'>"
      ]
     },
     "execution_count": 18,
     "metadata": {},
     "output_type": "execute_result"
    },
    {
     "data": {
      "image/png": "[encoded data removed]",
      "text/plain": [
       "<Figure size 432x288 with 1 Axes>"
      ]
     },
     "metadata": {
      "needs_background": "light"
     },
     "output_type": "display_data"
    }
   ],
   "source": [
    "df_clustering_scores['davies_bouldin'].plot()"
   ]
  },
  {
   "cell_type": "code",
   "execution_count": 19,
   "id": "c273930a-bb88-4bed-aa1e-74b85c136522",
   "metadata": {},
   "outputs": [
    {
     "data": {
      "text/plain": [
       "KMeans(n_clusters=30, random_state=42)"
      ]
     },
     "execution_count": 19,
     "metadata": {},
     "output_type": "execute_result"
    }
   ],
   "source": [
    "kmeans = KMeans(n_clusters=30, init=\"k-means++\", random_state=42)\n",
    "kmeans.fit(X_pca)"
   ]
  },
  {
   "cell_type": "code",
   "execution_count": 20,
   "id": "0bdfc4c0-060a-40bb-b95e-4addeb1a14cd",
   "metadata": {},
   "outputs": [],
   "source": [
    "df_cleaned_data, features_by_type = utils.prepare_for_preprocessing(df_data)\n",
    "\n",
    "# Add extra columns\n",
    "df_cleaned_data['title'] = df_data['title']\n",
    "\n",
    "# Assign clusters to the original data\n",
    "df_cleaned_data['cluster'] = kmeans.labels_\n",
    "df_cleaned_data['cluster'] = df_cleaned_data['cluster'].astype(str)"
   ]
  },
  {
   "cell_type": "code",
   "execution_count": 21,
   "id": "67ed11b0-7eb9-47e0-b552-7258d23ea067",
   "metadata": {},
   "outputs": [
    {
     "data": {
      "text/html": [
       "<div>\n",
       "<style scoped>\n",
       "    .dataframe tbody tr th:only-of-type {\n",
       "        vertical-align: middle;\n",
       "    }\n",
       "\n",
       "    .dataframe tbody tr th {\n",
       "        vertical-align: top;\n",
       "    }\n",
       "\n",
       "    .dataframe thead th {\n",
       "        text-align: right;\n",
       "    }\n",
       "</style>\n",
       "<table border=\"1\" class=\"dataframe\">\n",
       "  <thead>\n",
       "    <tr style=\"text-align: right;\">\n",
       "      <th></th>\n",
       "      <th>cluster</th>\n",
       "      <th>category_name</th>\n",
       "      <th>n_rows</th>\n",
       "    </tr>\n",
       "  </thead>\n",
       "  <tbody>\n",
       "    <tr>\n",
       "      <th>0</th>\n",
       "      <td>0</td>\n",
       "      <td>Ring Binders</td>\n",
       "      <td>63</td>\n",
       "    </tr>\n",
       "    <tr>\n",
       "      <th>1</th>\n",
       "      <td>1</td>\n",
       "      <td>Folders</td>\n",
       "      <td>81</td>\n",
       "    </tr>\n",
       "    <tr>\n",
       "      <th>2</th>\n",
       "      <td>10</td>\n",
       "      <td>Multimedia Carts &amp; Stands</td>\n",
       "      <td>4</td>\n",
       "    </tr>\n",
       "    <tr>\n",
       "      <th>3</th>\n",
       "      <td>11</td>\n",
       "      <td>Multimedia Carts &amp; Stands</td>\n",
       "      <td>8</td>\n",
       "    </tr>\n",
       "    <tr>\n",
       "      <th>4</th>\n",
       "      <td>11</td>\n",
       "      <td>Printer Cabinets &amp; Stands</td>\n",
       "      <td>1</td>\n",
       "    </tr>\n",
       "    <tr>\n",
       "      <th>6</th>\n",
       "      <td>12</td>\n",
       "      <td>Printer Cabinets &amp; Stands</td>\n",
       "      <td>39</td>\n",
       "    </tr>\n",
       "    <tr>\n",
       "      <th>5</th>\n",
       "      <td>12</td>\n",
       "      <td>Multimedia Carts &amp; Stands</td>\n",
       "      <td>11</td>\n",
       "    </tr>\n",
       "    <tr>\n",
       "      <th>7</th>\n",
       "      <td>13</td>\n",
       "      <td>Multimedia Carts &amp; Stands</td>\n",
       "      <td>1</td>\n",
       "    </tr>\n",
       "    <tr>\n",
       "      <th>8</th>\n",
       "      <td>14</td>\n",
       "      <td>Self-Adhesive Labels</td>\n",
       "      <td>51</td>\n",
       "    </tr>\n",
       "    <tr>\n",
       "      <th>9</th>\n",
       "      <td>15</td>\n",
       "      <td>Printer Cabinets &amp; Stands</td>\n",
       "      <td>15</td>\n",
       "    </tr>\n",
       "    <tr>\n",
       "      <th>10</th>\n",
       "      <td>16</td>\n",
       "      <td>Self-Adhesive Labels</td>\n",
       "      <td>1</td>\n",
       "    </tr>\n",
       "    <tr>\n",
       "      <th>11</th>\n",
       "      <td>17</td>\n",
       "      <td>Ring Binders</td>\n",
       "      <td>12</td>\n",
       "    </tr>\n",
       "    <tr>\n",
       "      <th>12</th>\n",
       "      <td>18</td>\n",
       "      <td>Multimedia Carts &amp; Stands</td>\n",
       "      <td>8</td>\n",
       "    </tr>\n",
       "    <tr>\n",
       "      <th>13</th>\n",
       "      <td>19</td>\n",
       "      <td>Multimedia Carts &amp; Stands</td>\n",
       "      <td>8</td>\n",
       "    </tr>\n",
       "    <tr>\n",
       "      <th>14</th>\n",
       "      <td>2</td>\n",
       "      <td>Self-Adhesive Labels</td>\n",
       "      <td>253</td>\n",
       "    </tr>\n",
       "    <tr>\n",
       "      <th>15</th>\n",
       "      <td>20</td>\n",
       "      <td>Multimedia Carts &amp; Stands</td>\n",
       "      <td>106</td>\n",
       "    </tr>\n",
       "    <tr>\n",
       "      <th>16</th>\n",
       "      <td>21</td>\n",
       "      <td>Folders</td>\n",
       "      <td>8</td>\n",
       "    </tr>\n",
       "    <tr>\n",
       "      <th>17</th>\n",
       "      <td>22</td>\n",
       "      <td>Folders</td>\n",
       "      <td>4</td>\n",
       "    </tr>\n",
       "    <tr>\n",
       "      <th>18</th>\n",
       "      <td>23</td>\n",
       "      <td>Folders</td>\n",
       "      <td>158</td>\n",
       "    </tr>\n",
       "    <tr>\n",
       "      <th>19</th>\n",
       "      <td>24</td>\n",
       "      <td>Self-Adhesive Labels</td>\n",
       "      <td>1</td>\n",
       "    </tr>\n",
       "    <tr>\n",
       "      <th>20</th>\n",
       "      <td>25</td>\n",
       "      <td>Multimedia Carts &amp; Stands</td>\n",
       "      <td>11</td>\n",
       "    </tr>\n",
       "    <tr>\n",
       "      <th>21</th>\n",
       "      <td>25</td>\n",
       "      <td>Printer Cabinets &amp; Stands</td>\n",
       "      <td>6</td>\n",
       "    </tr>\n",
       "    <tr>\n",
       "      <th>22</th>\n",
       "      <td>26</td>\n",
       "      <td>Self-Adhesive Labels</td>\n",
       "      <td>1</td>\n",
       "    </tr>\n",
       "    <tr>\n",
       "      <th>23</th>\n",
       "      <td>27</td>\n",
       "      <td>Printer Cabinets &amp; Stands</td>\n",
       "      <td>12</td>\n",
       "    </tr>\n",
       "    <tr>\n",
       "      <th>24</th>\n",
       "      <td>28</td>\n",
       "      <td>Folders</td>\n",
       "      <td>6</td>\n",
       "    </tr>\n",
       "    <tr>\n",
       "      <th>25</th>\n",
       "      <td>29</td>\n",
       "      <td>Self-Adhesive Labels</td>\n",
       "      <td>15</td>\n",
       "    </tr>\n",
       "    <tr>\n",
       "      <th>26</th>\n",
       "      <td>3</td>\n",
       "      <td>Multimedia Carts &amp; Stands</td>\n",
       "      <td>50</td>\n",
       "    </tr>\n",
       "    <tr>\n",
       "      <th>27</th>\n",
       "      <td>4</td>\n",
       "      <td>Multimedia Carts &amp; Stands</td>\n",
       "      <td>102</td>\n",
       "    </tr>\n",
       "    <tr>\n",
       "      <th>28</th>\n",
       "      <td>5</td>\n",
       "      <td>Self-Adhesive Labels</td>\n",
       "      <td>2</td>\n",
       "    </tr>\n",
       "    <tr>\n",
       "      <th>29</th>\n",
       "      <td>6</td>\n",
       "      <td>Printer Cabinets &amp; Stands</td>\n",
       "      <td>179</td>\n",
       "    </tr>\n",
       "    <tr>\n",
       "      <th>30</th>\n",
       "      <td>7</td>\n",
       "      <td>Folders</td>\n",
       "      <td>388</td>\n",
       "    </tr>\n",
       "    <tr>\n",
       "      <th>31</th>\n",
       "      <td>8</td>\n",
       "      <td>Ring Binders</td>\n",
       "      <td>223</td>\n",
       "    </tr>\n",
       "    <tr>\n",
       "      <th>32</th>\n",
       "      <td>9</td>\n",
       "      <td>Multimedia Carts &amp; Stands</td>\n",
       "      <td>8</td>\n",
       "    </tr>\n",
       "  </tbody>\n",
       "</table>\n",
       "</div>"
      ],
      "text/plain": [
       "   cluster              category_name  n_rows\n",
       "0        0               Ring Binders      63\n",
       "1        1                    Folders      81\n",
       "2       10  Multimedia Carts & Stands       4\n",
       "3       11  Multimedia Carts & Stands       8\n",
       "4       11  Printer Cabinets & Stands       1\n",
       "6       12  Printer Cabinets & Stands      39\n",
       "5       12  Multimedia Carts & Stands      11\n",
       "7       13  Multimedia Carts & Stands       1\n",
       "8       14       Self-Adhesive Labels      51\n",
       "9       15  Printer Cabinets & Stands      15\n",
       "10      16       Self-Adhesive Labels       1\n",
       "11      17               Ring Binders      12\n",
       "12      18  Multimedia Carts & Stands       8\n",
       "13      19  Multimedia Carts & Stands       8\n",
       "14       2       Self-Adhesive Labels     253\n",
       "15      20  Multimedia Carts & Stands     106\n",
       "16      21                    Folders       8\n",
       "17      22                    Folders       4\n",
       "18      23                    Folders     158\n",
       "19      24       Self-Adhesive Labels       1\n",
       "20      25  Multimedia Carts & Stands      11\n",
       "21      25  Printer Cabinets & Stands       6\n",
       "22      26       Self-Adhesive Labels       1\n",
       "23      27  Printer Cabinets & Stands      12\n",
       "24      28                    Folders       6\n",
       "25      29       Self-Adhesive Labels      15\n",
       "26       3  Multimedia Carts & Stands      50\n",
       "27       4  Multimedia Carts & Stands     102\n",
       "28       5       Self-Adhesive Labels       2\n",
       "29       6  Printer Cabinets & Stands     179\n",
       "30       7                    Folders     388\n",
       "31       8               Ring Binders     223\n",
       "32       9  Multimedia Carts & Stands       8"
      ]
     },
     "execution_count": 21,
     "metadata": {},
     "output_type": "execute_result"
    }
   ],
   "source": [
    "# Count number of rows where clustering and known ground truths differ/agree\n",
    "utils.group_clusters_per_category(df_cleaned_data)"
   ]
  },
  {
   "cell_type": "code",
   "execution_count": 22,
   "id": "8b894cb7-3eeb-4866-94cd-95c90a4e282e",
   "metadata": {},
   "outputs": [
    {
     "data": {
      "text/html": [
       "<div>\n",
       "<style scoped>\n",
       "    .dataframe tbody tr th:only-of-type {\n",
       "        vertical-align: middle;\n",
       "    }\n",
       "\n",
       "    .dataframe tbody tr th {\n",
       "        vertical-align: top;\n",
       "    }\n",
       "\n",
       "    .dataframe thead th {\n",
       "        text-align: right;\n",
       "    }\n",
       "</style>\n",
       "<table border=\"1\" class=\"dataframe\">\n",
       "  <thead>\n",
       "    <tr style=\"text-align: right;\">\n",
       "      <th></th>\n",
       "      <th>pred_category</th>\n",
       "      <th>category_name</th>\n",
       "      <th>n_rows</th>\n",
       "    </tr>\n",
       "  </thead>\n",
       "  <tbody>\n",
       "    <tr>\n",
       "      <th>0</th>\n",
       "      <td>Folders</td>\n",
       "      <td>Folders</td>\n",
       "      <td>645</td>\n",
       "    </tr>\n",
       "    <tr>\n",
       "      <th>1</th>\n",
       "      <td>Multimedia Carts &amp; Stands</td>\n",
       "      <td>Multimedia Carts &amp; Stands</td>\n",
       "      <td>306</td>\n",
       "    </tr>\n",
       "    <tr>\n",
       "      <th>2</th>\n",
       "      <td>Multimedia Carts &amp; Stands</td>\n",
       "      <td>Printer Cabinets &amp; Stands</td>\n",
       "      <td>7</td>\n",
       "    </tr>\n",
       "    <tr>\n",
       "      <th>4</th>\n",
       "      <td>Printer Cabinets &amp; Stands</td>\n",
       "      <td>Printer Cabinets &amp; Stands</td>\n",
       "      <td>245</td>\n",
       "    </tr>\n",
       "    <tr>\n",
       "      <th>3</th>\n",
       "      <td>Printer Cabinets &amp; Stands</td>\n",
       "      <td>Multimedia Carts &amp; Stands</td>\n",
       "      <td>11</td>\n",
       "    </tr>\n",
       "    <tr>\n",
       "      <th>5</th>\n",
       "      <td>Ring Binders</td>\n",
       "      <td>Ring Binders</td>\n",
       "      <td>298</td>\n",
       "    </tr>\n",
       "    <tr>\n",
       "      <th>6</th>\n",
       "      <td>Self-Adhesive Labels</td>\n",
       "      <td>Self-Adhesive Labels</td>\n",
       "      <td>324</td>\n",
       "    </tr>\n",
       "  </tbody>\n",
       "</table>\n",
       "</div>"
      ],
      "text/plain": [
       "               pred_category              category_name  n_rows\n",
       "0                    Folders                    Folders     645\n",
       "1  Multimedia Carts & Stands  Multimedia Carts & Stands     306\n",
       "2  Multimedia Carts & Stands  Printer Cabinets & Stands       7\n",
       "4  Printer Cabinets & Stands  Printer Cabinets & Stands     245\n",
       "3  Printer Cabinets & Stands  Multimedia Carts & Stands      11\n",
       "5               Ring Binders               Ring Binders     298\n",
       "6       Self-Adhesive Labels       Self-Adhesive Labels     324"
      ]
     },
     "execution_count": 22,
     "metadata": {},
     "output_type": "execute_result"
    }
   ],
   "source": [
    "# Combine clusters that agree with the ground truths (given product categories)\n",
    "df_cleaned_data = utils.combined_similar_clusters(df_cleaned_data)\n",
    "\n",
    "# Count number of rows where clustering and known ground truths differ/agree\n",
    "utils.group_clusters_per_category(df_cleaned_data, attr_name='pred_category')"
   ]
  },
  {
   "cell_type": "code",
   "execution_count": null,
   "id": "6bb2330c-da33-41ab-8e64-acc4b44cbe7a",
   "metadata": {},
   "outputs": [],
   "source": []
  }
 ],
 "metadata": {
  "kernelspec": {
   "display_name": "Python 3",
   "language": "python",
   "name": "python3"
  },
  "language_info": {
   "codemirror_mode": {
    "name": "ipython",
    "version": 3
   },
   "file_extension": ".py",
   "mimetype": "text/x-python",
   "name": "python",
   "nbconvert_exporter": "python",
   "pygments_lexer": "ipython3",
   "version": "3.8.8"
  }
 },
 "nbformat": 4,
 "nbformat_minor": 5
}
