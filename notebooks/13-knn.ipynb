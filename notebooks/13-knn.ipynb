{
 "cells": [
  {
   "cell_type": "code",
   "execution_count": 1,
   "id": "ae12281d-0398-4863-a15c-a51cd8cb5663",
   "metadata": {},
   "outputs": [],
   "source": [
    "from itertools import chain\n",
    "\n",
    "import matplotlib.pyplot as plt\n",
    "import networkx as nx\n",
    "import numpy as np\n",
    "import pandas as pd\n",
    "import plotly.express as px\n",
    "import plotly.graph_objects as go\n",
    "import seaborn as sns\n",
    "import scipy\n",
    "\n",
    "\n",
    "from scipy.sparse.csgraph import laplacian\n",
    "\n",
    "from sklearn.cluster import SpectralClustering\n",
    "from sklearn.decomposition import TruncatedSVD, PCA\n",
    "from sklearn.manifold import TSNE\n",
    "from sklearn.metrics.pairwise import rbf_kernel, cosine_similarity\n",
    "from sklearn.cluster import SpectralClustering\n",
    "from sklearn.gaussian_process import GaussianProcessClassifier\n",
    "from sklearn.linear_model import LogisticRegression\n",
    "from sklearn.gaussian_process.kernels import RBF\n",
    "from sklearn.model_selection import RepeatedStratifiedKFold, cross_val_score\n",
    "from sklearn.preprocessing import LabelEncoder\n",
    "from sklearn.metrics import roc_curve, auc, roc_auc_score, ConfusionMatrixDisplay, confusion_matrix, make_scorer, f1_score\n",
    "from sklearn.metrics import classification_report\n",
    "from sklearn.metrics import pairwise_distances\n",
    "from sklearn.neighbors import KNeighborsClassifier\n",
    "\n",
    "\n",
    "from sklearn.model_selection import train_test_split\n",
    "\n",
    "import feature, utils"
   ]
  },
  {
   "cell_type": "code",
   "execution_count": 2,
   "id": "6dfa4ec6-7564-4f82-aa28-b21e34731a48",
   "metadata": {},
   "outputs": [
    {
     "name": "stdout",
     "output_type": "stream",
     "text": [
      "Number of categories: 22\n"
     ]
    }
   ],
   "source": [
    "# Load data\n",
    "df_data = pd.read_csv('../data/ice-cat-office-products.csv.gz', dtype=str, index_col=0)\n",
    "\n",
    "category_counts = df_data[\"category_name\"].value_counts()\n",
    "large_enough_categories = category_counts[category_counts > 20].index.tolist()\n",
    "\n",
    "df_data = df_data[df_data.category_name.isin(large_enough_categories)]\n",
    "\n",
    "# Filter out small product categories\n",
    "# top_categories = utils.find_top_n_categories(df_data, top_n=3)\n",
    "top_categories = [\n",
    "    'Folders',                     # N=645\n",
    "    'Self-Adhesive Labels',        # N=324\n",
    "    'Multimedia Carts & Stands',   # N=317\n",
    "    'Calculators',                 # N=305\n",
    "    'Writing Notebooks'            # N=300\n",
    "    'Ring Binders',                # N=298\n",
    "    'Printer Cabinets & Stands',   # N=252\n",
    "    'Whiteboards',                 # N=232\n",
    "    'Fax Machines',                # N=210\n",
    "    'File Storage Boxes'           # N=192\n",
    "    'Binding Covers',              # N=190\n",
    "    'Self-Adhesive Note Paper',    # N=172\n",
    "    'Staplers',                    # N=162\n",
    "    'Desk Trays/Organizers',       # N=159\n",
    "    'Board Accessories',           # N=154\n",
    "    'Seals',                       # N=145\n",
    "    'Computer Desks',              # N=144\n",
    "    'Hole Punches',                # N=136\n",
    "    'Hanging Folders',             # N=132\n",
    "    'Interactive Whiteboards',     # N=131\n",
    "    'Laminator Pouches',           # N=128\n",
    "    'Stationery Tapes',            # N=124\n",
    "    'Bulletin Boards',             # N=123\n",
    "    'Tab Indexes',                 # N=114\n",
    "    'Folder Binding Accessories',  # N=109\n",
    "    'Non-Adhesive Labels',         # N=103\n",
    "]\n",
    "df_data = df_data[df_data.category_name.isin(top_categories)]\n",
    "print(f\"Number of categories: {len(df_data.category_name.unique())}\")"
   ]
  },
  {
   "cell_type": "code",
   "execution_count": 3,
   "id": "edbb766f-143c-4784-9621-a3d9419de3b8",
   "metadata": {},
   "outputs": [],
   "source": [
    "df_train, df_test = utils.split_train_test(df_data)"
   ]
  },
  {
   "cell_type": "code",
   "execution_count": 4,
   "id": "e582a0cc-9519-4b63-b366-0dc7774a0595",
   "metadata": {},
   "outputs": [],
   "source": [
    "feateure_transformer = feature.BasicIceCatFeatureTransformer(output_size=128)"
   ]
  },
  {
   "cell_type": "code",
   "execution_count": 5,
   "id": "02f96fca-139d-40e6-84a5-e9d7ff5562f3",
   "metadata": {},
   "outputs": [
    {
     "name": "stdout",
     "output_type": "stream",
     "text": [
      "Number of sparsely populated columns: 847\n",
      "Pseudo-key Columns: \n",
      "set()\n",
      "Number of valid columns: 339\n",
      "Number of columns: 1358\n"
     ]
    },
    {
     "data": {
      "text/plain": [
       "BasicIceCatFeatureTransformer()"
      ]
     },
     "execution_count": 5,
     "metadata": {},
     "output_type": "execute_result"
    }
   ],
   "source": [
    "feateure_transformer.fit(df_train)"
   ]
  },
  {
   "cell_type": "code",
   "execution_count": 6,
   "id": "86c25ecd-0e86-4254-87a3-0ca92be696a3",
   "metadata": {},
   "outputs": [],
   "source": [
    "X_train = feateure_transformer.transform(df_train)"
   ]
  },
  {
   "cell_type": "code",
   "execution_count": 7,
   "id": "0e75aecf-93fc-47af-9b95-0a69c3a4c97b",
   "metadata": {},
   "outputs": [
    {
     "data": {
      "text/plain": [
       "(3456, 128)"
      ]
     },
     "execution_count": 7,
     "metadata": {},
     "output_type": "execute_result"
    }
   ],
   "source": [
    "X_train.shape"
   ]
  },
  {
   "cell_type": "code",
   "execution_count": 8,
   "id": "151dd611-075d-4502-b1d6-b18ebf41ea6a",
   "metadata": {},
   "outputs": [
    {
     "name": "stderr",
     "output_type": "stream",
     "text": [
      "/home/omar/.cache/pypoetry/virtualenvs/snow-leopard-O1gqMmLm-py3.8/lib/python3.8/site-packages/sklearn/preprocessing/_label.py:860: UserWarning: unknown class(es) ['16', '250'] will be ignored\n",
      "  warnings.warn('unknown class(es) {0} will be ignored'\n",
      "/home/omar/.cache/pypoetry/virtualenvs/snow-leopard-O1gqMmLm-py3.8/lib/python3.8/site-packages/sklearn/preprocessing/_label.py:860: UserWarning: unknown class(es) ['Bordeaux', 'Lavender'] will be ignored\n",
      "  warnings.warn('unknown class(es) {0} will be ignored'\n",
      "/home/omar/.cache/pypoetry/virtualenvs/snow-leopard-O1gqMmLm-py3.8/lib/python3.8/site-packages/sklearn/preprocessing/_label.py:860: UserWarning: unknown class(es) ['300 x 200', '400 x 300', '400 x 700'] will be ignored\n",
      "  warnings.warn('unknown class(es) {0} will be ignored'\n",
      "/home/omar/.cache/pypoetry/virtualenvs/snow-leopard-O1gqMmLm-py3.8/lib/python3.8/site-packages/sklearn/preprocessing/_label.py:860: UserWarning: unknown class(es) ['105 x 57', '2.43\" x 3.87\"', '4\" x 6\"', 'Key Card (64x99mm)'] will be ignored\n",
      "  warnings.warn('unknown class(es) {0} will be ignored'\n",
      "/home/omar/.cache/pypoetry/virtualenvs/snow-leopard-O1gqMmLm-py3.8/lib/python3.8/site-packages/sklearn/preprocessing/_label.py:860: UserWarning: unknown class(es) ['4 x AAA + CR2032'] will be ignored\n",
      "  warnings.warn('unknown class(es) {0} will be ignored'\n"
     ]
    }
   ],
   "source": [
    "X_test = feateure_transformer.transform(df_test)"
   ]
  },
  {
   "cell_type": "code",
   "execution_count": 9,
   "id": "a19ea634-6619-41c9-8afc-84ab8d7c3141",
   "metadata": {},
   "outputs": [
    {
     "data": {
      "text/plain": [
       "(865, 128)"
      ]
     },
     "execution_count": 9,
     "metadata": {},
     "output_type": "execute_result"
    }
   ],
   "source": [
    "X_test.shape"
   ]
  },
  {
   "cell_type": "code",
   "execution_count": null,
   "id": "60f129f9-e9c3-4223-95fc-b13d176e05a7",
   "metadata": {},
   "outputs": [],
   "source": []
  },
  {
   "cell_type": "code",
   "execution_count": 10,
   "id": "756c26ab-04cf-4f84-96c7-2c2b5c09ac74",
   "metadata": {},
   "outputs": [],
   "source": [
    "label_encoder = LabelEncoder()"
   ]
  },
  {
   "cell_type": "code",
   "execution_count": 11,
   "id": "83e18fc8-9a55-4f2d-812d-4123ffc571e6",
   "metadata": {},
   "outputs": [
    {
     "data": {
      "text/plain": [
       "LabelEncoder()"
      ]
     },
     "execution_count": 11,
     "metadata": {},
     "output_type": "execute_result"
    }
   ],
   "source": [
    "label_encoder.fit(df_train.category_name)"
   ]
  },
  {
   "cell_type": "code",
   "execution_count": null,
   "id": "7195693a-b60a-4fdd-b496-ea71cdf71490",
   "metadata": {},
   "outputs": [],
   "source": []
  },
  {
   "cell_type": "code",
   "execution_count": 12,
   "id": "3ae04e97-05ee-42ff-997d-fd42d2236ada",
   "metadata": {},
   "outputs": [],
   "source": [
    "y_train = label_encoder.transform(df_train.category_name)\n",
    "y_test = label_encoder.transform(df_test.category_name)"
   ]
  },
  {
   "cell_type": "code",
   "execution_count": 13,
   "id": "231f171d-308a-4f8b-a0f1-8f27c3e8b4da",
   "metadata": {},
   "outputs": [],
   "source": [
    "knn = KNeighborsClassifier(n_neighbors=1)\n",
    "knn.fit(X_train, y_train)\n",
    "y_pred = knn.predict(X_test)"
   ]
  },
  {
   "cell_type": "code",
   "execution_count": 14,
   "id": "f371772c-74ed-401a-97d4-9b17b30a9456",
   "metadata": {},
   "outputs": [
    {
     "name": "stdout",
     "output_type": "stream",
     "text": [
      "                            precision    recall  f1-score   support\n",
      "\n",
      "         Board Accessories       0.90      0.87      0.89        31\n",
      "           Bulletin Boards       0.86      0.96      0.91        25\n",
      "               Calculators       1.00      0.98      0.99        61\n",
      "            Computer Desks       0.87      0.90      0.88        29\n",
      "     Desk Trays/Organizers       0.92      0.72      0.81        32\n",
      "              Fax Machines       0.93      0.95      0.94        42\n",
      "Folder Binding Accessories       0.89      0.77      0.83        22\n",
      "                   Folders       0.93      0.86      0.90       129\n",
      "           Hanging Folders       0.83      0.96      0.89        26\n",
      "              Hole Punches       0.96      0.93      0.94        27\n",
      "   Interactive Whiteboards       0.96      1.00      0.98        26\n",
      "         Laminator Pouches       0.81      0.96      0.88        26\n",
      " Multimedia Carts & Stands       0.98      0.95      0.97        64\n",
      "       Non-Adhesive Labels       0.95      0.95      0.95        21\n",
      " Printer Cabinets & Stands       0.79      0.90      0.84        50\n",
      "                     Seals       0.97      1.00      0.98        29\n",
      "      Self-Adhesive Labels       0.89      0.97      0.93        65\n",
      "  Self-Adhesive Note Paper       0.92      1.00      0.96        34\n",
      "                  Staplers       0.93      0.88      0.90        32\n",
      "          Stationery Tapes       0.96      1.00      0.98        25\n",
      "               Tab Indexes       1.00      0.78      0.88        23\n",
      "               Whiteboards       0.93      0.91      0.92        46\n",
      "\n",
      "                  accuracy                           0.92       865\n",
      "                 macro avg       0.92      0.92      0.92       865\n",
      "              weighted avg       0.92      0.92      0.92       865\n",
      "\n"
     ]
    }
   ],
   "source": [
    "print(classification_report(y_true=y_test, y_pred=y_pred, target_names=label_encoder.classes_))"
   ]
  },
  {
   "cell_type": "code",
   "execution_count": 15,
   "id": "37b24450-822d-411d-90d0-1b525572fd3c",
   "metadata": {},
   "outputs": [
    {
     "name": "stdout",
     "output_type": "stream",
     "text": [
      "                            precision    recall  f1-score   support\n",
      "\n",
      "         Board Accessories       0.83      0.97      0.90        31\n",
      "           Bulletin Boards       0.89      0.96      0.92        25\n",
      "               Calculators       1.00      0.93      0.97        61\n",
      "            Computer Desks       0.83      0.86      0.85        29\n",
      "     Desk Trays/Organizers       1.00      0.88      0.93        32\n",
      "              Fax Machines       1.00      0.95      0.98        42\n",
      "Folder Binding Accessories       0.92      0.55      0.69        22\n",
      "                   Folders       0.86      0.96      0.91       129\n",
      "           Hanging Folders       0.96      0.92      0.94        26\n",
      "              Hole Punches       1.00      1.00      1.00        27\n",
      "   Interactive Whiteboards       1.00      1.00      1.00        26\n",
      "         Laminator Pouches       0.93      1.00      0.96        26\n",
      " Multimedia Carts & Stands       0.97      0.97      0.97        64\n",
      "       Non-Adhesive Labels       1.00      1.00      1.00        21\n",
      " Printer Cabinets & Stands       0.82      0.98      0.89        50\n",
      "                     Seals       0.97      1.00      0.98        29\n",
      "      Self-Adhesive Labels       1.00      0.95      0.98        65\n",
      "  Self-Adhesive Note Paper       1.00      1.00      1.00        34\n",
      "                  Staplers       1.00      0.88      0.93        32\n",
      "          Stationery Tapes       0.96      0.96      0.96        25\n",
      "               Tab Indexes       0.95      0.87      0.91        23\n",
      "               Whiteboards       0.97      0.83      0.89        46\n",
      "\n",
      "                  accuracy                           0.94       865\n",
      "                 macro avg       0.95      0.93      0.93       865\n",
      "              weighted avg       0.94      0.94      0.94       865\n",
      "\n"
     ]
    }
   ],
   "source": [
    "lr = LogisticRegression(max_iter=1000)\n",
    "lr.fit(X_train, y_train)\n",
    "y_pred = lr.predict(X_test)\n",
    "print(classification_report(y_true=y_test, y_pred=y_pred, target_names=label_encoder.classes_))"
   ]
  },
  {
   "cell_type": "code",
   "execution_count": null,
   "id": "782f3384-d807-4def-b614-978d05f56fcc",
   "metadata": {},
   "outputs": [],
   "source": []
  },
  {
   "cell_type": "code",
   "execution_count": null,
   "id": "8e9636c9-3a08-451e-97ef-4279c8183f15",
   "metadata": {},
   "outputs": [],
   "source": []
  },
  {
   "cell_type": "code",
   "execution_count": null,
   "id": "e43b3785-2ab6-40a0-a39e-383fbf6debc7",
   "metadata": {},
   "outputs": [],
   "source": []
  }
 ],
 "metadata": {
  "kernelspec": {
   "display_name": "Python 3",
   "language": "python",
   "name": "python3"
  },
  "language_info": {
   "codemirror_mode": {
    "name": "ipython",
    "version": 3
   },
   "file_extension": ".py",
   "mimetype": "text/x-python",
   "name": "python",
   "nbconvert_exporter": "python",
   "pygments_lexer": "ipython3",
   "version": "3.8.8"
  }
 },
 "nbformat": 4,
 "nbformat_minor": 5
}
