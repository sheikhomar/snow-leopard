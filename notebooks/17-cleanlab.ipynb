{
 "cells": [
  {
   "cell_type": "code",
   "execution_count": 1,
   "id": "6b88fd8e-8354-40dc-af1f-d9973e99f7ee",
   "metadata": {},
   "outputs": [],
   "source": [
    "import warnings\n",
    "\n",
    "from itertools import chain\n",
    "\n",
    "import matplotlib.pyplot as plt\n",
    "import numpy as np\n",
    "import pandas as pd\n",
    "import plotly.express as px\n",
    "import plotly.graph_objects as go\n",
    "import seaborn as sns\n",
    "import cleanlab\n",
    "\n",
    "\n",
    "from cleanlab.latent_estimation import compute_confident_joint, estimate_latent\n",
    "from sklearn.linear_model import LogisticRegression\n",
    "from sklearn.gaussian_process import GaussianProcessClassifier\n",
    "from sklearn.gaussian_process.kernels import RBF\n",
    "from sklearn.model_selection import StratifiedKFold, cross_val_score\n",
    "from sklearn.preprocessing import LabelEncoder\n",
    "from sklearn.metrics import roc_curve, auc, roc_auc_score, ConfusionMatrixDisplay, confusion_matrix, make_scorer, f1_score\n",
    "from sklearn.metrics import classification_report, pairwise_distances\n",
    "from sklearn.model_selection import train_test_split\n",
    "from tqdm.notebook import trange, tqdm\n",
    "\n",
    "import feature, utils"
   ]
  },
  {
   "cell_type": "code",
   "execution_count": 2,
   "id": "37057eb6-b2a7-499d-9252-44943ef84931",
   "metadata": {},
   "outputs": [],
   "source": [
    "def compute_out_of_sample_predicted_probabilities(\n",
    "        df: pd.DataFrame,\n",
    "        fn_create_model,\n",
    "        label_attr_name: str = \"category_name\",\n",
    "        n_folds: int = 3,\n",
    "        n_repetitions: int = 2,\n",
    "    \n",
    "    ):\n",
    "    pbar = tqdm(total=n_folds*n_repetitions)\n",
    "\n",
    "    n_data = df.shape[0]\n",
    "    n_classes = df[label_attr_name].unique().shape[0]\n",
    "    pred_probas = np.zeros(shape=(n_repetitions, n_data, n_classes))\n",
    "    \n",
    "    label_encoder = LabelEncoder()\n",
    "    label_encoder.fit(df[label_attr_name])\n",
    "\n",
    "    skf = StratifiedKFold(n_splits=n_folds, shuffle=True)\n",
    "    for repetition in range(n_repetitions):\n",
    "        for fold, (train_index, test_index) in enumerate(skf.split(X=df, y=df[label_attr_name])):\n",
    "            pbar.set_description(f\"Iteration {repetition+1} fold {fold+1}\")\n",
    "            \n",
    "            df_train = df.iloc[train_index]\n",
    "            df_test = df.iloc[test_index]\n",
    "\n",
    "            feateure_transformer = feature.BasicIceCatFeatureTransformer(output_size=0.99)\n",
    "            feateure_transformer.fit(df_train)\n",
    "            \n",
    "            X_train = feateure_transformer.transform(df_train)\n",
    "            X_test = feateure_transformer.transform(df_test)\n",
    "            y_train = label_encoder.transform(df_train[label_attr_name])\n",
    "            y_test = label_encoder.transform(df_test[label_attr_name])\n",
    "\n",
    "            model = fn_create_model()\n",
    "            model.fit(X_train, y_train)\n",
    "\n",
    "            y_pred_proba = model.predict_proba(X_test)\n",
    "\n",
    "            pred_probas[repetition, test_index] = y_pred_proba\n",
    "            \n",
    "            pbar.update()\n",
    "    return pred_probas, label_encoder"
   ]
  },
  {
   "cell_type": "code",
   "execution_count": 3,
   "id": "29c36657-985b-40c7-b69c-8e9ad6fc58e6",
   "metadata": {},
   "outputs": [
    {
     "name": "stdout",
     "output_type": "stream",
     "text": [
      "Number of categories: 2\n"
     ]
    }
   ],
   "source": [
    "# Load data\n",
    "df_data = pd.read_csv('../data/ice-cat-office-products.csv.gz', dtype=str, index_col=0)\n",
    "\n",
    "category_counts = df_data[\"category_name\"].value_counts()\n",
    "large_enough_categories = category_counts[category_counts > 20].index.tolist()\n",
    "\n",
    "df_data = df_data[df_data.category_name.isin(large_enough_categories)]\n",
    "\n",
    "# Filter out small product categories\n",
    "# top_categories = utils.find_top_n_categories(df_data, top_n=3)\n",
    "top_categories = [\n",
    "    'Folders',                                           # N=645\n",
    "#     'Self-Adhesive Labels',                              # N=324\n",
    "#     'Multimedia Carts & Stands',                         # N=317\n",
    "#     'Calculators',                                       # N=305\n",
    "#     'Writing Notebooks',                                 # N=300\n",
    "#     'Ring Binders',                                      # N=298\n",
    "#     'Printer Cabinets & Stands',                         # N=252\n",
    "#     'Whiteboards',                                       # N=232\n",
    "#     'Fax Machines',                                      # N=210\n",
    "#     'File Storage Boxes',                                # N=192\n",
    "    'Binding Covers',                                    # N=190\n",
    "#     'Self-Adhesive Note Paper',                          # N=172\n",
    "#     'Staplers',                                          # N=162\n",
    "#     'Desk Trays/Organizers',                             # N=159\n",
    "#     'Board Accessories',                                 # N=154\n",
    "#     'Seals',                                             # N=145\n",
    "#     'Computer Desks',                                    # N=144\n",
    "#     'Hole Punches',                                      # N=136\n",
    "#     'Hanging Folders',                                   # N=132\n",
    "#     'Interactive Whiteboards',                           # N=131\n",
    "#     'Laminator Pouches',                                 # N=128\n",
    "#     'Stationery Tapes',                                  # N=124\n",
    "#     'Bulletin Boards',                                   # N=123\n",
    "#     'Tab Indexes',                                       # N=114\n",
    "#     'Folder Binding Accessories',                        # N=109\n",
    "#     'Non-Adhesive Labels',                               # N=103\n",
    "#     'Office & Computer Chairs',                          # N=91\n",
    "#     'Pencil Cases',                                      # N=88\n",
    "#     'Staples',                                           # N=87\n",
    "#     'Document Holders',                                  # N=85\n",
    "#     'Markers',                                           # N=82\n",
    "#     'Planning Boards',                                   # N=77\n",
    "#     'Laminators',                                        # N=76\n",
    "#     'Smart Card Readers',                                # N=75\n",
    "#     'Stationery & Craft Scissors',                       # N=63\n",
    "#     'Foot Rests',                                        # N=60\n",
    "#     'Paper Shredders',                                   # N=60\n",
    "#     'Felt Pens',                                         # N=56\n",
    "#     'Lamination Films',                                  # N=55\n",
    "#     'Sheet Protectors',                                  # N=53\n",
    "#     'Lecterns',                                          # N=51\n",
    "#     'Tape Dispensers',                                   # N=50\n",
    "#     'Pencil Sharpeners',                                 # N=46\n",
    "#     'Desk Drawer Organizers',                            # N=44\n",
    "#     'Paper Cutters',                                     # N=42\n",
    "#     'Ink Pads',                                          # N=42\n",
    "#     'Dividers',                                          # N=41\n",
    "#     'Packages',                                          # N=39\n",
    "#     'Colour Pencils',                                    # N=38\n",
    "#     'Dry Erase Boards',                                  # N=36\n",
    "#     'Showcases',                                         # N=36\n",
    "#     'Erasers',                                           # N=34\n",
    "#     'Report Covers',                                     # N=34\n",
    "#     'Computer Furniture Parts',                          # N=33\n",
    "#     'Workspace Dividers',                                # N=32\n",
    "#     'Charging Station Organizers',                       # N=31\n",
    "#     'Rulers',                                            # N=31\n",
    "#     'Multimedia Cart Accessories',                       # N=30\n",
    "#     'Magnetic Boards',                                   # N=30\n",
    "#     'Easels',                                            # N=30\n",
    "#     'Fax Supplies',                                      # N=29\n",
    "#     'Crayons',                                           # N=27\n",
    "#     'Typewriters',                                       # N=24\n",
    "#     'Interactive Whiteboard Accessories',                # N=24\n",
    "#     'Paint Markers',                                     # N=22\n",
    "#     'Pen & Pencil Holders',                              # N=21\n",
    "#     'Graphite Pencils',                                  # N=21\n",
    "#     'Ballpoint Pens',                                    # N=21\n",
    "#     'Pen Refills',                                       # N=21\n",
    "]\n",
    "df_data = df_data[df_data.category_name.isin(top_categories)]\n",
    "print(f\"Number of categories: {len(df_data.category_name.unique())}\")"
   ]
  },
  {
   "cell_type": "code",
   "execution_count": 4,
   "id": "acaf41ce-0f25-4c35-8c9e-3126c2dd982a",
   "metadata": {},
   "outputs": [
    {
     "data": {
      "application/vnd.jupyter.widget-view+json": {
       "model_id": "b65e5954ce6146ffabebd475a9a4bfb7",
       "version_major": 2,
       "version_minor": 0
      },
      "text/plain": [
       "  0%|          | 0/3 [00:00<?, ?it/s]"
      ]
     },
     "metadata": {},
     "output_type": "display_data"
    }
   ],
   "source": [
    "n_repetitions = 1\n",
    "with warnings.catch_warnings():\n",
    "    warnings.filterwarnings(\"ignore\", module=\"sklearn.preprocessing._label\")\n",
    "    psx, label_encoder = compute_out_of_sample_predicted_probabilities(\n",
    "        df=df_data,\n",
    "        n_repetitions=n_repetitions,\n",
    "        fn_create_model=lambda: LogisticRegression(max_iter=1000),\n",
    "#         fn_create_model=lambda: GaussianProcessClassifier(kernel=1*RBF(1.0)),\n",
    "    )"
   ]
  },
  {
   "cell_type": "code",
   "execution_count": 5,
   "id": "539766e5-19d2-473b-a3a4-809ad28ef696",
   "metadata": {},
   "outputs": [],
   "source": [
    "y_given = label_encoder.transform(df_data[\"category_name\"])"
   ]
  },
  {
   "cell_type": "code",
   "execution_count": 6,
   "id": "3bbfccd2-d279-43b1-8722-4551b11d6817",
   "metadata": {},
   "outputs": [
    {
     "name": "stdout",
     "output_type": "stream",
     "text": [
      "Classification report for iteration 0\n",
      "                precision    recall  f1-score   support\n",
      "\n",
      "Binding Covers       0.93      0.92      0.92       190\n",
      "       Folders       0.98      0.98      0.98       645\n",
      "\n",
      "      accuracy                           0.97       835\n",
      "     macro avg       0.95      0.95      0.95       835\n",
      "  weighted avg       0.97      0.97      0.97       835\n",
      "\n"
     ]
    }
   ],
   "source": [
    "for i in range(psx.shape[0]):\n",
    "    y_pred = np.argmax(psx[i], axis=1) # Assign label based on largest predicted probability\n",
    "    \n",
    "    print(f\"Classification report for iteration {i}\")\n",
    "    print(classification_report(y_true=y_given, y_pred=y_pred, target_names=label_encoder.classes_))"
   ]
  },
  {
   "cell_type": "code",
   "execution_count": 7,
   "id": "f073e9a0-7266-4ba7-aaf7-4ec7748b9d9b",
   "metadata": {},
   "outputs": [
    {
     "data": {
      "image/png": "[encoded data removed]",
      "text/plain": [
       "<Figure size 792x504 with 2 Axes>"
      ]
     },
     "metadata": {
      "needs_background": "light"
     },
     "output_type": "display_data"
    }
   ],
   "source": [
    "cm = confusion_matrix(y_true=y_given, y_pred=y_pred)\n",
    "\n",
    "fig, ax = plt.subplots(figsize=(11, 7))\n",
    "disp = ConfusionMatrixDisplay(confusion_matrix=cm, display_labels=label_encoder.classes_)\n",
    "disp.plot(ax=ax)\n",
    "ax.set_title(\"Confusion Matrix\")\n",
    "ax.set_ylabel(\"Given label\")\n",
    "ax.set_xticklabels(label_encoder.classes_, rotation=90, ha='center');"
   ]
  },
  {
   "cell_type": "code",
   "execution_count": null,
   "id": "3bb2f266-645b-467a-b7ed-426ae7f4d3f2",
   "metadata": {},
   "outputs": [],
   "source": []
  },
  {
   "cell_type": "code",
   "execution_count": 8,
   "id": "f59a1f09-d21d-43dd-8f2f-98fbced0764f",
   "metadata": {},
   "outputs": [],
   "source": [
    "for i in range(psx.shape[0]):\n",
    "    confident_joint, likely_mislabelled_indices = compute_confident_joint(\n",
    "        s=y_given,\n",
    "        psx=psx[i,:],\n",
    "        calibrate=False,\n",
    "        return_indices_of_off_diagonals=True\n",
    "    )\n",
    "    off_diagonal_sum = np.sum(confident_joint) - np.trace(confident_joint)\n",
    "#     if off_diagonal_sum > 0:\n",
    "#         print(f\"Confident Joint for iteration {i}\")\n",
    "#         print(confident_joint)\n",
    "#         print(off_diagonal_sum)\n",
    "    "
   ]
  },
  {
   "cell_type": "code",
   "execution_count": 9,
   "id": "e65487d7-640e-4be4-90ef-862cd1c70ae9",
   "metadata": {},
   "outputs": [
    {
     "data": {
      "text/plain": [
       "array([232, 399, 467])"
      ]
     },
     "execution_count": 9,
     "metadata": {},
     "output_type": "execute_result"
    }
   ],
   "source": [
    "likely_mislabelled_indices"
   ]
  },
  {
   "cell_type": "code",
   "execution_count": 10,
   "id": "d7090637-34cb-4f8e-929f-4270b416cc8a",
   "metadata": {},
   "outputs": [],
   "source": [
    "for class_index, class_name in enumerate(label_encoder.classes_):\n",
    "    df_data[f\"Pred Proba {class_name}\"] = psx[0, :, class_index]\n",
    "df_data[\"Given Label\"] = df_data[\"category_name\"]\n",
    "y_pred = np.argmax(psx[0], axis=1)\n",
    "df_data[\"Pred Label\"] = [label_encoder.classes_[c] for c in y_pred]\n",
    "df_data[\"Mislabelled\"] = df_data[\"Given Label\"] != df_data[\"Pred Label\"]\n",
    "df_data[\"CL: Likely Mislabelled\"] = False\n",
    "df_data.loc[df_data.iloc[likely_mislabelled_indices].index.tolist(), \"CL: Likely Mislabelled\"] = True\n",
    "\n",
    "col_unique_counts = df_data.nunique(axis=0)\n",
    "nan_column_names = col_unique_counts[col_unique_counts == 0].index.tolist()\n",
    "valid_columns = [c for c in df_data.columns if c not in nan_column_names]\n",
    "df_data[valid_columns].to_excel('mislabelled.xlsx')"
   ]
  },
  {
   "cell_type": "code",
   "execution_count": 11,
   "id": "c4f8cccd-21e3-4b3a-80e6-884ca890bd81",
   "metadata": {},
   "outputs": [
    {
     "data": {
      "image/png": "[encoded data removed]",
      "text/plain": [
       "<Figure size 432x288 with 1 Axes>"
      ]
     },
     "metadata": {
      "needs_background": "light"
     },
     "output_type": "display_data"
    },
    {
     "data": {
      "image/png": "[encoded data removed]",
      "text/plain": [
       "<Figure size 432x288 with 1 Axes>"
      ]
     },
     "metadata": {
      "needs_background": "light"
     },
     "output_type": "display_data"
    }
   ],
   "source": [
    "for class_index in np.unique(y_given):\n",
    "    class_name = label_encoder.classes_[class_index]\n",
    "    \n",
    "    class_sample_indices = np.where(df_data.category_name == class_name)[0]\n",
    "    n_samples = len(class_sample_indices)\n",
    "    fig, ax = plt.subplots()\n",
    "    class_probas = psx[0, class_sample_indices, class_index]\n",
    "    mean_proba = class_probas.mean()\n",
    "    \n",
    "    ax.hist(psx[0, class_sample_indices, class_index], bins=50)\n",
    "    ax.axvline(x=mean_proba, color=\"red\", label=f\"Average {mean_proba:0.3f}\")\n",
    "    ax.set_yscale(\"log\")\n",
    "    ax.legend()\n",
    "    ax.set_title(f\"Predicted Probabilities for {class_name} ($n={n_samples}$)\");"
   ]
  },
  {
   "cell_type": "code",
   "execution_count": 12,
   "id": "8624e08f-fbd3-40d6-a724-1699ac04ad8e",
   "metadata": {},
   "outputs": [
    {
     "data": {
      "image/png": "[encoded data removed]",
      "text/plain": [
       "<Figure size 792x504 with 2 Axes>"
      ]
     },
     "metadata": {
      "needs_background": "light"
     },
     "output_type": "display_data"
    }
   ],
   "source": [
    "fig, ax = plt.subplots(figsize=(11, 7))\n",
    "disp = ConfusionMatrixDisplay(confusion_matrix=confident_joint, display_labels=label_encoder.classes_)\n",
    "disp.plot(ax=ax)\n",
    "ax.set_title(\"Confident Joint $C_{\\\\tilde{y}, y^*}$\")\n",
    "ax.set_ylabel(\"Given label $\\\\tilde{y}$\")\n",
    "ax.set_xlabel(\"Predicted label $\\\\hat{p}(\\\\mid \\\\theta)$\")\n",
    "ax.set_xticklabels(label_encoder.classes_, rotation=90, ha='center');\n"
   ]
  },
  {
   "cell_type": "code",
   "execution_count": 13,
   "id": "126fb359-df02-4df9-93b5-d07782c3d0fa",
   "metadata": {},
   "outputs": [],
   "source": [
    "py, noise_matrix, inv_noise_matrix = estimate_latent(\n",
    "    confident_joint=confident_joint,\n",
    "    s=y_given,\n",
    "    py_method='cnt',\n",
    "    converge_latent_estimates=False,\n",
    ")"
   ]
  },
  {
   "cell_type": "code",
   "execution_count": 14,
   "id": "484a2dde-b2e0-4842-b49d-32222da6e39a",
   "metadata": {},
   "outputs": [
    {
     "data": {
      "image/png": "[encoded data removed]",
      "text/plain": [
       "<Figure size 792x504 with 2 Axes>"
      ]
     },
     "metadata": {
      "needs_background": "light"
     },
     "output_type": "display_data"
    }
   ],
   "source": [
    "fig, ax = plt.subplots(figsize=(11, 7))\n",
    "disp = ConfusionMatrixDisplay(confusion_matrix=noise_matrix.T, display_labels=label_encoder.classes_)\n",
    "disp.plot(ax=ax)\n",
    "ax.set_title(\"Noise Matrix\")\n",
    "ax.set_ylabel(\"Given label\")\n",
    "ax.set_xticklabels(label_encoder.classes_, rotation=90, ha='center');\n"
   ]
  },
  {
   "cell_type": "code",
   "execution_count": 15,
   "id": "65ddcfb2-f847-400d-a8f1-f983cbb9dd85",
   "metadata": {},
   "outputs": [
    {
     "data": {
      "image/png": "[encoded data removed]",
      "text/plain": [
       "<Figure size 792x504 with 2 Axes>"
      ]
     },
     "metadata": {
      "needs_background": "light"
     },
     "output_type": "display_data"
    }
   ],
   "source": [
    "fig, ax = plt.subplots(figsize=(11, 7))\n",
    "disp = ConfusionMatrixDisplay(confusion_matrix=inv_noise_matrix.T, display_labels=label_encoder.classes_)\n",
    "disp.plot(ax=ax)\n",
    "ax.set_title(\"Inverse Noise Matrix$\")\n",
    "ax.set_ylabel(\"Given label\")\n",
    "ax.set_xticklabels(label_encoder.classes_, rotation=90, ha='center');\n"
   ]
  },
  {
   "cell_type": "code",
   "execution_count": null,
   "id": "d931dedb-0688-47b7-aceb-4d133adb3421",
   "metadata": {},
   "outputs": [],
   "source": []
  },
  {
   "cell_type": "code",
   "execution_count": null,
   "id": "b99cf063-9eb5-46ed-95db-3604cdb31d3a",
   "metadata": {},
   "outputs": [],
   "source": []
  }
 ],
 "metadata": {
  "kernelspec": {
   "display_name": "Python 3",
   "language": "python",
   "name": "python3"
  },
  "language_info": {
   "codemirror_mode": {
    "name": "ipython",
    "version": 3
   },
   "file_extension": ".py",
   "mimetype": "text/x-python",
   "name": "python",
   "nbconvert_exporter": "python",
   "pygments_lexer": "ipython3",
   "version": "3.8.8"
  }
 },
 "nbformat": 4,
 "nbformat_minor": 5
}
