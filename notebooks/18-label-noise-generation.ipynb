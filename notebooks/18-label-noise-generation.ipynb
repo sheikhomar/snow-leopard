{
 "cells": [
  {
   "cell_type": "code",
   "execution_count": 1,
   "id": "6b88fd8e-8354-40dc-af1f-d9973e99f7ee",
   "metadata": {},
   "outputs": [],
   "source": [
    "import warnings\n",
    "\n",
    "from itertools import chain\n",
    "\n",
    "import matplotlib.pyplot as plt\n",
    "import numpy as np\n",
    "import pandas as pd\n",
    "import plotly.express as px\n",
    "import plotly.graph_objects as go\n",
    "import seaborn as sns\n",
    "import cleanlab\n",
    "\n",
    "\n",
    "from cleanlab.latent_estimation import compute_confident_joint, estimate_latent\n",
    "from cleanlab.noise_generation import generate_noise_matrix_from_trace, noise_matrix_is_valid\n",
    "from sklearn.linear_model import LogisticRegression\n",
    "from sklearn.gaussian_process import GaussianProcessClassifier\n",
    "from sklearn.gaussian_process.kernels import RBF\n",
    "from sklearn.model_selection import StratifiedKFold, cross_val_score\n",
    "from sklearn.preprocessing import LabelEncoder\n",
    "from sklearn.metrics import roc_curve, auc, roc_auc_score, ConfusionMatrixDisplay, confusion_matrix, make_scorer, f1_score\n",
    "from sklearn.metrics import classification_report, pairwise_distances\n",
    "from sklearn.model_selection import train_test_split\n",
    "from tqdm.notebook import trange, tqdm\n",
    "\n",
    "import feature, utils"
   ]
  },
  {
   "cell_type": "code",
   "execution_count": 2,
   "id": "29c36657-985b-40c7-b69c-8e9ad6fc58e6",
   "metadata": {},
   "outputs": [
    {
     "name": "stdout",
     "output_type": "stream",
     "text": [
      "Number of categories: 69\n"
     ]
    }
   ],
   "source": [
    "# Load data\n",
    "df_data = pd.read_csv('../data/ice-cat-office-products.csv.gz', dtype=str, index_col=0)\n",
    "\n",
    "category_counts = df_data[\"category_name\"].value_counts()\n",
    "large_enough_categories = category_counts[category_counts > 20].index.tolist()\n",
    "\n",
    "df_data = df_data[df_data.category_name.isin(large_enough_categories)]\n",
    "\n",
    "# Filter out small product categories\n",
    "# top_categories = utils.find_top_n_categories(df_data, top_n=3)\n",
    "top_categories = [\n",
    "    'Folders',                                           # N=645\n",
    "#     'Self-Adhesive Labels',                              # N=324\n",
    "#     'Multimedia Carts & Stands',                         # N=317\n",
    "#     'Calculators',                                       # N=305\n",
    "#     'Writing Notebooks',                                 # N=300\n",
    "#     'Ring Binders',                                      # N=298\n",
    "#     'Printer Cabinets & Stands',                         # N=252\n",
    "#     'Whiteboards',                                       # N=232\n",
    "#     'Fax Machines',                                      # N=210\n",
    "#     'File Storage Boxes',                                # N=192\n",
    "    'Binding Covers',                                    # N=190\n",
    "#     'Self-Adhesive Note Paper',                          # N=172\n",
    "#     'Staplers',                                          # N=162\n",
    "#     'Desk Trays/Organizers',                             # N=159\n",
    "#     'Board Accessories',                                 # N=154\n",
    "#     'Seals',                                             # N=145\n",
    "#     'Computer Desks',                                    # N=144\n",
    "#     'Hole Punches',                                      # N=136\n",
    "#     'Hanging Folders',                                   # N=132\n",
    "#     'Interactive Whiteboards',                           # N=131\n",
    "#     'Laminator Pouches',                                 # N=128\n",
    "#     'Stationery Tapes',                                  # N=124\n",
    "#     'Bulletin Boards',                                   # N=123\n",
    "#     'Tab Indexes',                                       # N=114\n",
    "#     'Folder Binding Accessories',                        # N=109\n",
    "#     'Non-Adhesive Labels',                               # N=103\n",
    "#     'Office & Computer Chairs',                          # N=91\n",
    "#     'Pencil Cases',                                      # N=88\n",
    "#     'Staples',                                           # N=87\n",
    "#     'Document Holders',                                  # N=85\n",
    "#     'Markers',                                           # N=82\n",
    "#     'Planning Boards',                                   # N=77\n",
    "#     'Laminators',                                        # N=76\n",
    "#     'Smart Card Readers',                                # N=75\n",
    "#     'Stationery & Craft Scissors',                       # N=63\n",
    "#     'Foot Rests',                                        # N=60\n",
    "#     'Paper Shredders',                                   # N=60\n",
    "#     'Felt Pens',                                         # N=56\n",
    "#     'Lamination Films',                                  # N=55\n",
    "#     'Sheet Protectors',                                  # N=53\n",
    "#     'Lecterns',                                          # N=51\n",
    "#     'Tape Dispensers',                                   # N=50\n",
    "#     'Pencil Sharpeners',                                 # N=46\n",
    "#     'Desk Drawer Organizers',                            # N=44\n",
    "#     'Paper Cutters',                                     # N=42\n",
    "#     'Ink Pads',                                          # N=42\n",
    "#     'Dividers',                                          # N=41\n",
    "#     'Packages',                                          # N=39\n",
    "#     'Colour Pencils',                                    # N=38\n",
    "#     'Dry Erase Boards',                                  # N=36\n",
    "#     'Showcases',                                         # N=36\n",
    "#     'Erasers',                                           # N=34\n",
    "#     'Report Covers',                                     # N=34\n",
    "#     'Computer Furniture Parts',                          # N=33\n",
    "#     'Workspace Dividers',                                # N=32\n",
    "#     'Charging Station Organizers',                       # N=31\n",
    "#     'Rulers',                                            # N=31\n",
    "#     'Multimedia Cart Accessories',                       # N=30\n",
    "#     'Magnetic Boards',                                   # N=30\n",
    "#     'Easels',                                            # N=30\n",
    "#     'Fax Supplies',                                      # N=29\n",
    "#     'Crayons',                                           # N=27\n",
    "#     'Typewriters',                                       # N=24\n",
    "#     'Interactive Whiteboard Accessories',                # N=24\n",
    "#     'Paint Markers',                                     # N=22\n",
    "#     'Pen & Pencil Holders',                              # N=21\n",
    "#     'Graphite Pencils',                                  # N=21\n",
    "#     'Ballpoint Pens',                                    # N=21\n",
    "#     'Pen Refills',                                       # N=21\n",
    "]\n",
    "# df_data = df_data[df_data.category_name.isin(top_categories)]\n",
    "print(f\"Number of categories: {len(df_data.category_name.unique())}\")"
   ]
  },
  {
   "cell_type": "code",
   "execution_count": 3,
   "id": "95ad0fa5-c22e-4525-9647-da7ed7610b68",
   "metadata": {},
   "outputs": [],
   "source": [
    "label_encoder = LabelEncoder().fit(df_data[\"category_name\"])\n",
    "y_given = label_encoder.transform(df_data[\"category_name\"])"
   ]
  },
  {
   "cell_type": "code",
   "execution_count": 4,
   "id": "b38488e1-9231-4b47-be47-7688e96eab13",
   "metadata": {},
   "outputs": [],
   "source": [
    "n_classes = label_encoder.classes_.shape[0]"
   ]
  },
  {
   "cell_type": "code",
   "execution_count": 5,
   "id": "1efc208b-0174-408f-9ed3-1c1edbe819de",
   "metadata": {},
   "outputs": [],
   "source": [
    "class1_index = np.where(label_encoder.classes_ == 'Folders')[0][0]\n",
    "class2_index = np.where(label_encoder.classes_ == 'Binding Covers')[0][0]"
   ]
  },
  {
   "cell_type": "code",
   "execution_count": 6,
   "id": "dd7444a3-907b-4a79-8ec8-dd3e5e5740b0",
   "metadata": {},
   "outputs": [],
   "source": [
    "noise_matrix = np.zeros(shape=(n_classes,n_classes))"
   ]
  },
  {
   "cell_type": "code",
   "execution_count": 7,
   "id": "92a4e51a-649b-4ac8-8f32-2ed9f84ff0c9",
   "metadata": {},
   "outputs": [],
   "source": [
    "noise_matrix[class1_index, class2_index] = 0.6\n",
    "# noise_matrix[class2_index, class1_index] = 0.6"
   ]
  },
  {
   "cell_type": "code",
   "execution_count": 8,
   "id": "0fb88b41-f606-4c59-bfb6-f2267b8d9528",
   "metadata": {},
   "outputs": [],
   "source": [
    "noise_matrix = noise_matrix + np.diag(1 - noise_matrix.sum(axis=1))"
   ]
  },
  {
   "cell_type": "code",
   "execution_count": 9,
   "id": "6553d5f1-024f-4961-a03b-532a7fab1189",
   "metadata": {},
   "outputs": [
    {
     "data": {
      "text/plain": [
       "False"
      ]
     },
     "execution_count": 9,
     "metadata": {},
     "output_type": "execute_result"
    }
   ],
   "source": [
    "py = (df_data.category_name.value_counts() / df_data.shape[0]).to_numpy()\n",
    "noise_matrix_is_valid(noise_matrix, py)"
   ]
  },
  {
   "cell_type": "code",
   "execution_count": null,
   "id": "d5dd56c1-762a-40da-bf86-627c1ad5bd8e",
   "metadata": {},
   "outputs": [],
   "source": []
  }
 ],
 "metadata": {
  "kernelspec": {
   "display_name": "Python 3",
   "language": "python",
   "name": "python3"
  },
  "language_info": {
   "codemirror_mode": {
    "name": "ipython",
    "version": 3
   },
   "file_extension": ".py",
   "mimetype": "text/x-python",
   "name": "python",
   "nbconvert_exporter": "python",
   "pygments_lexer": "ipython3",
   "version": "3.8.8"
  }
 },
 "nbformat": 4,
 "nbformat_minor": 5
}
