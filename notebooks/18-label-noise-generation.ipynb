{
 "cells": [
  {
   "cell_type": "code",
   "execution_count": 1,
   "id": "6b88fd8e-8354-40dc-af1f-d9973e99f7ee",
   "metadata": {},
   "outputs": [],
   "source": [
    "import json, warnings\n",
    "from typing import List\n",
    "\n",
    "from itertools import chain\n",
    "\n",
    "import matplotlib.pyplot as plt\n",
    "import numpy as np\n",
    "import pandas as pd\n",
    "import plotly.express as px\n",
    "import plotly.graph_objects as go\n",
    "import seaborn as sns\n",
    "import cleanlab\n",
    "\n",
    "\n",
    "from cleanlab.latent_estimation import compute_confident_joint, estimate_latent\n",
    "from cleanlab.noise_generation import generate_noise_matrix_from_trace, noise_matrix_is_valid, generate_noisy_labels\n",
    "from sklearn.linear_model import LogisticRegression\n",
    "from sklearn.gaussian_process import GaussianProcessClassifier\n",
    "from sklearn.gaussian_process.kernels import RBF\n",
    "from sklearn.model_selection import StratifiedKFold, cross_val_score\n",
    "from sklearn.preprocessing import LabelEncoder\n",
    "from sklearn.metrics import roc_curve, auc, roc_auc_score, ConfusionMatrixDisplay, confusion_matrix, make_scorer, f1_score\n",
    "from sklearn.metrics import classification_report, pairwise_distances\n",
    "from sklearn.model_selection import train_test_split\n",
    "from tqdm.notebook import trange, tqdm\n",
    "\n",
    "import feature, utils"
   ]
  },
  {
   "cell_type": "code",
   "execution_count": 2,
   "id": "1a3cd2f8-e0b7-454f-9abe-4d02879c36da",
   "metadata": {},
   "outputs": [],
   "source": [
    "import sys\n",
    "from os import path\n",
    "\n",
    "project_dir = path.abspath(path.join(\"..\"))\n",
    "if project_dir not in sys.path:\n",
    "    sys.path.insert(0, project_dir)\n",
    "    \n",
    "from app.data.datasets import DataSet, get_dataset"
   ]
  },
  {
   "cell_type": "code",
   "execution_count": 3,
   "id": "a63a3b8f-649c-4c43-a67a-c4c8ab86b222",
   "metadata": {},
   "outputs": [],
   "source": [
    "   \n",
    "def load_noise_matrix_from_file(file_path: str, classes: List[str]):\n",
    "    classes = np.array(classes)\n",
    "    n_classes = classes.shape[0]\n",
    "    \n",
    "    with open(file_path, mode=\"r\") as fp:\n",
    "        noise_config = json.load(fp)\n",
    "        \n",
    "    noise_matrix = np.zeros(shape=(n_classes, n_classes))\n",
    "    \n",
    "    if noise_config[\"type\"] == \"fixed\":\n",
    "        for transition in noise_config[\"transitions\"]:\n",
    "            from_index = np.where(classes == transition[\"from\"])[0][0]\n",
    "            to_index = np.where(classes == transition[\"to\"])[0][0]\n",
    "            noise_matrix[from_index, to_index] = transition[\"rate\"]\n",
    "            if transition[\"symmetric\"]:\n",
    "                noise_matrix[to_index, from_index] = transition[\"rate\"]\n",
    "    else:\n",
    "        raise Exception(\"Unknown type: \" + str(noise_config[\"type\"]))\n",
    "    \n",
    "    # Ensure that the noise matrix is a column stochastic matrix i.e., column entries sum to 1.\n",
    "    noise_matrix = noise_matrix + np.diag(1 - noise_matrix.sum(axis=1))\n",
    "    \n",
    "    return noise_matrix\n"
   ]
  },
  {
   "cell_type": "code",
   "execution_count": 4,
   "id": "29c36657-985b-40c7-b69c-8e9ad6fc58e6",
   "metadata": {},
   "outputs": [
    {
     "name": "stdout",
     "output_type": "stream",
     "text": [
      "Number of categories: 72\n"
     ]
    }
   ],
   "source": [
    "# Load data\n",
    "df_data = pd.read_csv('../data/ice-cat-office-products.csv.gz', dtype=str, index_col=0)\n",
    "\n",
    "category_counts = df_data[\"category_name\"].value_counts()\n",
    "large_enough_categories = category_counts[category_counts >= 20].index.tolist()\n",
    "\n",
    "df_data = df_data[df_data.category_name.isin(large_enough_categories)]\n",
    "\n",
    "# Filter out small product categories\n",
    "# top_categories = utils.find_top_n_categories(df_data, top_n=3)\n",
    "top_categories = [\n",
    "    'Folders',                                           # N=645\n",
    "#     'Self-Adhesive Labels',                              # N=324\n",
    "#     'Multimedia Carts & Stands',                         # N=317\n",
    "#     'Calculators',                                       # N=305\n",
    "#     'Writing Notebooks',                                 # N=300\n",
    "#     'Ring Binders',                                      # N=298\n",
    "#     'Printer Cabinets & Stands',                         # N=252\n",
    "#     'Whiteboards',                                       # N=232\n",
    "#     'Fax Machines',                                      # N=210\n",
    "#     'File Storage Boxes',                                # N=192\n",
    "    'Binding Covers',                                    # N=190\n",
    "#     'Self-Adhesive Note Paper',                          # N=172\n",
    "#     'Staplers',                                          # N=162\n",
    "#     'Desk Trays/Organizers',                             # N=159\n",
    "#     'Board Accessories',                                 # N=154\n",
    "#     'Seals',                                             # N=145\n",
    "#     'Computer Desks',                                    # N=144\n",
    "#     'Hole Punches',                                      # N=136\n",
    "#     'Hanging Folders',                                   # N=132\n",
    "#     'Interactive Whiteboards',                           # N=131\n",
    "#     'Laminator Pouches',                                 # N=128\n",
    "#     'Stationery Tapes',                                  # N=124\n",
    "#     'Bulletin Boards',                                   # N=123\n",
    "#     'Tab Indexes',                                       # N=114\n",
    "#     'Folder Binding Accessories',                        # N=109\n",
    "#     'Non-Adhesive Labels',                               # N=103\n",
    "#     'Office & Computer Chairs',                          # N=91\n",
    "#     'Pencil Cases',                                      # N=88\n",
    "#     'Staples',                                           # N=87\n",
    "#     'Document Holders',                                  # N=85\n",
    "#     'Markers',                                           # N=82\n",
    "#     'Planning Boards',                                   # N=77\n",
    "#     'Laminators',                                        # N=76\n",
    "#     'Smart Card Readers',                                # N=75\n",
    "#     'Stationery & Craft Scissors',                       # N=63\n",
    "#     'Foot Rests',                                        # N=60\n",
    "#     'Paper Shredders',                                   # N=60\n",
    "#     'Felt Pens',                                         # N=56\n",
    "#     'Lamination Films',                                  # N=55\n",
    "#     'Sheet Protectors',                                  # N=53\n",
    "#     'Lecterns',                                          # N=51\n",
    "#     'Tape Dispensers',                                   # N=50\n",
    "#     'Pencil Sharpeners',                                 # N=46\n",
    "#     'Desk Drawer Organizers',                            # N=44\n",
    "#     'Paper Cutters',                                     # N=42\n",
    "#     'Ink Pads',                                          # N=42\n",
    "#     'Dividers',                                          # N=41\n",
    "#     'Packages',                                          # N=39\n",
    "#     'Colour Pencils',                                    # N=38\n",
    "#     'Dry Erase Boards',                                  # N=36\n",
    "#     'Showcases',                                         # N=36\n",
    "#     'Erasers',                                           # N=34\n",
    "#     'Report Covers',                                     # N=34\n",
    "#     'Computer Furniture Parts',                          # N=33\n",
    "#     'Workspace Dividers',                                # N=32\n",
    "#     'Charging Station Organizers',                       # N=31\n",
    "#     'Rulers',                                            # N=31\n",
    "#     'Multimedia Cart Accessories',                       # N=30\n",
    "#     'Magnetic Boards',                                   # N=30\n",
    "#     'Easels',                                            # N=30\n",
    "#     'Fax Supplies',                                      # N=29\n",
    "#     'Crayons',                                           # N=27\n",
    "#     'Typewriters',                                       # N=24\n",
    "#     'Interactive Whiteboard Accessories',                # N=24\n",
    "#     'Paint Markers',                                     # N=22\n",
    "#     'Pen & Pencil Holders',                              # N=21\n",
    "#     'Graphite Pencils',                                  # N=21\n",
    "#     'Ballpoint Pens',                                    # N=21\n",
    "#     'Pen Refills',                                       # N=21\n",
    "]\n",
    "# df_data = df_data[df_data.category_name.isin(top_categories)]\n",
    "print(f\"Number of categories: {len(df_data.category_name.unique())}\")"
   ]
  },
  {
   "cell_type": "markdown",
   "id": "c6b3020c-7da9-4000-8ea1-a81c76f7fdd7",
   "metadata": {},
   "source": [
    "## Load Noise Matrix from File"
   ]
  },
  {
   "cell_type": "code",
   "execution_count": 5,
   "id": "4e405f40-b75e-45d2-8a60-e9f155f167b3",
   "metadata": {},
   "outputs": [],
   "source": [
    "label_encoder = LabelEncoder().fit(df_data[\"category_name\"])"
   ]
  },
  {
   "cell_type": "code",
   "execution_count": 6,
   "id": "d9e986f1-572a-4e3a-82a9-b34dbfcb9d51",
   "metadata": {},
   "outputs": [],
   "source": [
    "y_given = label_encoder.transform(df_data[\"category_name\"])"
   ]
  },
  {
   "cell_type": "code",
   "execution_count": 7,
   "id": "f46a7a1b-17c9-45d9-90be-818abd0ba3ab",
   "metadata": {},
   "outputs": [
    {
     "name": "stdout",
     "output_type": "stream",
     "text": [
      "{\n",
      "    \"type\": \"fixed\",\n",
      "    \"transitions\": [\n",
      "        {\n",
      "            \"from\": \"Folders\",\n",
      "            \"to\": \"Binding Covers\",\n",
      "            \"symmetric\": true,\n",
      "            \"rate\": 0.1\n",
      "        }\n",
      "    ]\n",
      "}\n"
     ]
    }
   ],
   "source": [
    "!cat ../config/noise/ice-cat-office/folder-binding-covers-sym-0.1.json"
   ]
  },
  {
   "cell_type": "code",
   "execution_count": 8,
   "id": "5361b703-5492-4413-8b15-16942b829fdb",
   "metadata": {},
   "outputs": [],
   "source": [
    "noise_matrix = load_noise_matrix_from_file(file_path=\"../config/noise/ice-cat-office/folder-binding-covers-sym-0.1.json\", classes=label_encoder.classes_)"
   ]
  },
  {
   "cell_type": "code",
   "execution_count": 9,
   "id": "ef3a9323-e25a-48ad-9b98-10f4a969bca4",
   "metadata": {},
   "outputs": [
    {
     "data": {
      "text/plain": [
       "array([[1. , 0. , 0. , ..., 0. , 0. , 0. ],\n",
       "       [0. , 0.9, 0. , ..., 0. , 0. , 0. ],\n",
       "       [0. , 0. , 1. , ..., 0. , 0. , 0. ],\n",
       "       ...,\n",
       "       [0. , 0. , 0. , ..., 1. , 0. , 0. ],\n",
       "       [0. , 0. , 0. , ..., 0. , 1. , 0. ],\n",
       "       [0. , 0. , 0. , ..., 0. , 0. , 1. ]])"
      ]
     },
     "execution_count": 9,
     "metadata": {},
     "output_type": "execute_result"
    }
   ],
   "source": [
    "noise_matrix"
   ]
  },
  {
   "cell_type": "code",
   "execution_count": 10,
   "id": "b1020dc2-75a2-45ec-8af9-420237622378",
   "metadata": {},
   "outputs": [
    {
     "data": {
      "text/plain": [
       "True"
      ]
     },
     "execution_count": 10,
     "metadata": {},
     "output_type": "execute_result"
    }
   ],
   "source": [
    "unique, counts = np.unique(y_given, return_counts=True)\n",
    "py = counts / counts.sum()\n",
    "noise_matrix_is_valid(noise_matrix, py)"
   ]
  },
  {
   "cell_type": "markdown",
   "id": "e3a25e0d-8c3a-4f1c-836b-889a6962f283",
   "metadata": {},
   "source": [
    "## Generate Noise Matrix manually"
   ]
  },
  {
   "cell_type": "code",
   "execution_count": 11,
   "id": "b38488e1-9231-4b47-be47-7688e96eab13",
   "metadata": {},
   "outputs": [],
   "source": [
    "n_classes = label_encoder.classes_.shape[0]"
   ]
  },
  {
   "cell_type": "code",
   "execution_count": 12,
   "id": "1efc208b-0174-408f-9ed3-1c1edbe819de",
   "metadata": {},
   "outputs": [],
   "source": [
    "class1_index = np.where(label_encoder.classes_ == 'Folders')[0][0]\n",
    "class2_index = np.where(label_encoder.classes_ == 'Binding Covers')[0][0]"
   ]
  },
  {
   "cell_type": "code",
   "execution_count": null,
   "id": "dd7444a3-907b-4a79-8ec8-dd3e5e5740b0",
   "metadata": {},
   "outputs": [],
   "source": []
  },
  {
   "cell_type": "code",
   "execution_count": 13,
   "id": "92a4e51a-649b-4ac8-8f32-2ed9f84ff0c9",
   "metadata": {},
   "outputs": [],
   "source": [
    "noise_matrix = np.zeros(shape=(n_classes,n_classes))\n",
    "\n",
    "noise_matrix[class1_index, class2_index] = 0.1\n",
    "noise_matrix[class2_index, class1_index] = 0.1"
   ]
  },
  {
   "cell_type": "code",
   "execution_count": 14,
   "id": "0fb88b41-f606-4c59-bfb6-f2267b8d9528",
   "metadata": {},
   "outputs": [],
   "source": [
    "noise_matrix = noise_matrix + np.diag(1 - noise_matrix.sum(axis=1))"
   ]
  },
  {
   "cell_type": "code",
   "execution_count": 15,
   "id": "34bdde90-51ab-4603-a7ed-0c6607ecadd9",
   "metadata": {},
   "outputs": [
    {
     "data": {
      "text/plain": [
       "True"
      ]
     },
     "execution_count": 15,
     "metadata": {},
     "output_type": "execute_result"
    }
   ],
   "source": [
    "unique, counts = np.unique(y_given, return_counts=True)\n",
    "py = counts / counts.sum()\n",
    "noise_matrix_is_valid(noise_matrix, py)"
   ]
  },
  {
   "cell_type": "markdown",
   "id": "f09544f3-ba20-484b-a700-084d02e2c7de",
   "metadata": {},
   "source": [
    "## Generate Noisy Labels"
   ]
  },
  {
   "cell_type": "code",
   "execution_count": 16,
   "id": "984e90fc-b6de-4b7a-ba2a-e586b5b6e734",
   "metadata": {},
   "outputs": [],
   "source": [
    "y_modified = generate_noisy_labels(y=y_given, noise_matrix=noise_matrix)"
   ]
  },
  {
   "cell_type": "code",
   "execution_count": 17,
   "id": "5136508c-9215-4187-bc88-5cfc7ca1c51b",
   "metadata": {},
   "outputs": [
    {
     "data": {
      "text/plain": [
       "(7329,)"
      ]
     },
     "execution_count": 17,
     "metadata": {},
     "output_type": "execute_result"
    }
   ],
   "source": [
    "y_modified.shape"
   ]
  },
  {
   "cell_type": "code",
   "execution_count": 18,
   "id": "912baf35-2ffc-4013-9aba-7acff8668938",
   "metadata": {},
   "outputs": [],
   "source": [
    "d, = np.where(y_modified != y_given)"
   ]
  },
  {
   "cell_type": "code",
   "execution_count": 19,
   "id": "5e20261f-15c3-4d31-8a91-3e137e51cc5d",
   "metadata": {},
   "outputs": [
    {
     "data": {
      "text/plain": [
       "array([ 117,  168,  181,  210,  263,  496,  593,  630,  760,  805,  845,\n",
       "        891,  894,  919,  921,  927,  929,  960,  972,  976,  990, 1092,\n",
       "       1093, 1217, 1218, 1219, 1368, 1513, 1765, 1812, 1816, 1874, 2180,\n",
       "       2184, 2395, 2429, 2433, 2539, 2789, 2885, 3114, 3134, 3136, 3154,\n",
       "       3162, 3332, 3336, 3337, 3384, 3386, 3406, 3483, 3485, 3654, 3666,\n",
       "       3677, 3778, 4288, 4406, 4446, 4447, 4455, 4549, 4594, 4595, 4616,\n",
       "       4787, 5147, 5693, 5708, 5829, 5981, 6024, 6055, 6079, 6090, 6224,\n",
       "       6509, 6537, 7190, 7237, 7276, 7281])"
      ]
     },
     "execution_count": 19,
     "metadata": {},
     "output_type": "execute_result"
    }
   ],
   "source": [
    "d"
   ]
  },
  {
   "cell_type": "code",
   "execution_count": 20,
   "id": "f140f876-e092-4f52-8a70-590d3102d991",
   "metadata": {},
   "outputs": [
    {
     "data": {
      "text/plain": [
       "7329"
      ]
     },
     "execution_count": 20,
     "metadata": {},
     "output_type": "execute_result"
    }
   ],
   "source": [
    "len([label_encoder.classes_[l] for l in y_modified])"
   ]
  },
  {
   "cell_type": "code",
   "execution_count": 21,
   "id": "6a7fe259-9be6-4851-97fd-a19d5130b9c4",
   "metadata": {},
   "outputs": [
    {
     "name": "stdout",
     "output_type": "stream",
     "text": [
      "[117] Changed from 25 to 1\n",
      "[168] Changed from 25 to 1\n",
      "[181] Changed from 25 to 1\n",
      "[210] Changed from 25 to 1\n",
      "[263] Changed from 25 to 1\n",
      "[496] Changed from 25 to 1\n",
      "[593] Changed from 25 to 1\n",
      "[630] Changed from 25 to 1\n",
      "[760] Changed from 25 to 1\n",
      "[805] Changed from 1 to 25\n",
      "[845] Changed from 1 to 25\n",
      "[891] Changed from 1 to 25\n",
      "[894] Changed from 1 to 25\n",
      "[919] Changed from 1 to 25\n",
      "[921] Changed from 1 to 25\n",
      "[927] Changed from 1 to 25\n",
      "[929] Changed from 1 to 25\n",
      "[960] Changed from 1 to 25\n",
      "[972] Changed from 1 to 25\n",
      "[976] Changed from 1 to 25\n",
      "[990] Changed from 1 to 25\n",
      "[1092] Changed from 25 to 1\n",
      "[1093] Changed from 25 to 1\n",
      "[1217] Changed from 25 to 1\n",
      "[1218] Changed from 25 to 1\n",
      "[1219] Changed from 25 to 1\n",
      "[1368] Changed from 25 to 1\n",
      "[1513] Changed from 25 to 1\n",
      "[1765] Changed from 25 to 1\n",
      "[1812] Changed from 25 to 1\n",
      "[1816] Changed from 25 to 1\n",
      "[1874] Changed from 25 to 1\n",
      "[2180] Changed from 25 to 1\n",
      "[2184] Changed from 25 to 1\n",
      "[2395] Changed from 25 to 1\n",
      "[2429] Changed from 25 to 1\n",
      "[2433] Changed from 25 to 1\n",
      "[2539] Changed from 25 to 1\n",
      "[2789] Changed from 1 to 25\n",
      "[2885] Changed from 1 to 25\n",
      "[3114] Changed from 25 to 1\n",
      "[3134] Changed from 25 to 1\n",
      "[3136] Changed from 25 to 1\n",
      "[3154] Changed from 25 to 1\n",
      "[3162] Changed from 25 to 1\n",
      "[3332] Changed from 1 to 25\n",
      "[3336] Changed from 1 to 25\n",
      "[3337] Changed from 25 to 1\n",
      "[3384] Changed from 25 to 1\n",
      "[3386] Changed from 25 to 1\n",
      "[3406] Changed from 25 to 1\n",
      "[3483] Changed from 25 to 1\n",
      "[3485] Changed from 25 to 1\n",
      "[3654] Changed from 25 to 1\n",
      "[3666] Changed from 25 to 1\n",
      "[3677] Changed from 25 to 1\n",
      "[3778] Changed from 1 to 25\n",
      "[4288] Changed from 25 to 1\n",
      "[4406] Changed from 25 to 1\n",
      "[4446] Changed from 25 to 1\n",
      "[4447] Changed from 25 to 1\n",
      "[4455] Changed from 25 to 1\n",
      "[4549] Changed from 25 to 1\n",
      "[4594] Changed from 25 to 1\n",
      "[4595] Changed from 25 to 1\n",
      "[4616] Changed from 25 to 1\n",
      "[4787] Changed from 25 to 1\n",
      "[5147] Changed from 25 to 1\n",
      "[5693] Changed from 1 to 25\n",
      "[5708] Changed from 25 to 1\n",
      "[5829] Changed from 25 to 1\n",
      "[5981] Changed from 25 to 1\n",
      "[6024] Changed from 25 to 1\n",
      "[6055] Changed from 1 to 25\n",
      "[6079] Changed from 25 to 1\n",
      "[6090] Changed from 25 to 1\n",
      "[6224] Changed from 25 to 1\n",
      "[6509] Changed from 25 to 1\n",
      "[6537] Changed from 25 to 1\n",
      "[7190] Changed from 25 to 1\n",
      "[7237] Changed from 25 to 1\n",
      "[7276] Changed from 25 to 1\n",
      "[7281] Changed from 25 to 1\n"
     ]
    }
   ],
   "source": [
    "for i in range(y_modified.shape[0]):\n",
    "    if y_modified[i] != y_given[i]:\n",
    "        print(f\"[{i}] Changed from {y_given[i]} to {y_modified[i]}\")"
   ]
  }
 ],
 "metadata": {
  "kernelspec": {
   "display_name": "Python 3",
   "language": "python",
   "name": "python3"
  },
  "language_info": {
   "codemirror_mode": {
    "name": "ipython",
    "version": 3
   },
   "file_extension": ".py",
   "mimetype": "text/x-python",
   "name": "python",
   "nbconvert_exporter": "python",
   "pygments_lexer": "ipython3",
   "version": "3.8.8"
  }
 },
 "nbformat": 4,
 "nbformat_minor": 5
}
