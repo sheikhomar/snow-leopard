{
 "cells": [
  {
   "cell_type": "code",
   "execution_count": 1,
   "id": "22478ba8-0ac4-4dd2-a720-736021b5ae87",
   "metadata": {},
   "outputs": [],
   "source": [
    "import sys\n",
    "sys.path.append('../')"
   ]
  },
  {
   "cell_type": "code",
   "execution_count": 2,
   "id": "cf7eabb0-6721-49d0-86ef-83582e3ff377",
   "metadata": {},
   "outputs": [],
   "source": [
    "import json\n",
    "\n",
    "import pandas as pd\n",
    "\n",
    "from app.models import *"
   ]
  },
  {
   "cell_type": "code",
   "execution_count": 3,
   "id": "e362b12a-3982-46fb-9cdd-1a60c32da613",
   "metadata": {},
   "outputs": [],
   "source": [
    "def extract_feature_value(feature_name: str):\n",
    "    def mapper(features):\n",
    "        for f in features:\n",
    "            if f['name'] == feature_name:\n",
    "                return f['value']\n",
    "        return None\n",
    "    return mapper\n",
    "\n",
    "def extract_primary_ean(ean_list):\n",
    "    for obj in ean_list:\n",
    "        if obj['variant_id'] is None:\n",
    "            return obj['ean']\n",
    "    return len(ean_list)"
   ]
  },
  {
   "cell_type": "code",
   "execution_count": 4,
   "id": "48962b53-6a10-4b3a-a372-1a785177c218",
   "metadata": {},
   "outputs": [],
   "source": [
    "db_auth_path = '../config/secrets/arangodb.json'\n",
    "repo = Repository(db_auth_path=db_auth_path)"
   ]
  },
  {
   "cell_type": "code",
   "execution_count": 5,
   "id": "67820c0c-5022-47b8-aebf-070b22861bd8",
   "metadata": {},
   "outputs": [],
   "source": [
    "df_products = pd.DataFrame(repo.get_all_products())"
   ]
  },
  {
   "cell_type": "code",
   "execution_count": 6,
   "id": "37a1a1b8-8e09-4e2e-8a93-c449686f5acb",
   "metadata": {},
   "outputs": [
    {
     "data": {
      "text/plain": [
       "(7969, 31)"
      ]
     },
     "execution_count": 6,
     "metadata": {},
     "output_type": "execute_result"
    }
   ],
   "source": [
    "df_products.shape"
   ]
  },
  {
   "cell_type": "code",
   "execution_count": 7,
   "id": "fbef91db-2b0d-4f79-94b3-9b353d57e1e9",
   "metadata": {},
   "outputs": [],
   "source": [
    "# Create a new products DataFrame where JSON is flattened\n",
    "columns = [\n",
    "    'id', 'supplier_id', 'supplier_name', 'category_id', 'category_name', \n",
    "    'title', 'model_name', 'description_short', 'description_middle', 'description_long',\n",
    "    'summary_short', 'summary_long', 'warranty',\n",
    "    'is_limited', 'on_market', 'quality', \n",
    "    'url_details', 'url_manual', 'url_pdf', \n",
    "    'created_at', 'updated_at', 'released_on', 'end_of_life_on'\n",
    "]\n",
    "\n",
    "df_products_flattened = df_products[columns].copy()"
   ]
  },
  {
   "cell_type": "code",
   "execution_count": 8,
   "id": "e5446bd0-8609-4fac-917c-dd81967c1a9d",
   "metadata": {},
   "outputs": [],
   "source": [
    "# Flatten simple lists\n",
    "df_products_flattened['ean'] = df_products.ean.map(extract_primary_ean)\n",
    "df_products_flattened['n_variants'] = df_products.variants.map(lambda r: len(r))\n",
    "df_products_flattened['countries'] = df_products.country_markets.map(lambda r: '' if len(r) == 0 else ','.join(sorted(r)))"
   ]
  },
  {
   "cell_type": "code",
   "execution_count": 9,
   "id": "feffa5bb-a462-4388-969a-a36495ff8cd8",
   "metadata": {},
   "outputs": [],
   "source": [
    "# Flatten product features\n",
    "aql = \"FOR p IN products FOR f IN p.features COLLECT name = f.name  RETURN name\"\n",
    "result = repo._db.AQLQuery(aql, rawResults=True)\n",
    "feature_names = list(result)\n",
    "for feature_name in feature_names:\n",
    "    df_products_flattened[feature_name] = df_products.features.map(extract_feature_value(feature_name))"
   ]
  },
  {
   "cell_type": "code",
   "execution_count": 10,
   "id": "6f1dcf2b-1001-41bc-9cdb-1266443df52c",
   "metadata": {},
   "outputs": [
    {
     "data": {
      "text/plain": [
       "(7969, 1230)"
      ]
     },
     "execution_count": 10,
     "metadata": {},
     "output_type": "execute_result"
    }
   ],
   "source": [
    "df_products_flattened.shape"
   ]
  },
  {
   "cell_type": "code",
   "execution_count": 11,
   "id": "d7837cda-a702-4c84-9120-cd428afe1f88",
   "metadata": {},
   "outputs": [],
   "source": [
    "df_products_flattened.to_csv('../data/ice-cat-office-products.csv.gz',)"
   ]
  },
  {
   "cell_type": "code",
   "execution_count": null,
   "id": "38fe1c17-4188-4e9c-8415-5d4c9951ae4e",
   "metadata": {},
   "outputs": [],
   "source": []
  }
 ],
 "metadata": {
  "kernelspec": {
   "display_name": "Python 3",
   "language": "python",
   "name": "python3"
  },
  "language_info": {
   "codemirror_mode": {
    "name": "ipython",
    "version": 3
   },
   "file_extension": ".py",
   "mimetype": "text/x-python",
   "name": "python",
   "nbconvert_exporter": "python",
   "pygments_lexer": "ipython3",
   "version": "3.8.8"
  }
 },
 "nbformat": 4,
 "nbformat_minor": 5
}
