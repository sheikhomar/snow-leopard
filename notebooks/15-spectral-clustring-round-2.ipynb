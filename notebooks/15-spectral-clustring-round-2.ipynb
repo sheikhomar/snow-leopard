{
 "cells": [
  {
   "cell_type": "code",
   "execution_count": 1,
   "id": "ae12281d-0398-4863-a15c-a51cd8cb5663",
   "metadata": {},
   "outputs": [],
   "source": [
    "from itertools import chain\n",
    "\n",
    "import matplotlib.pyplot as plt\n",
    "import networkx as nx\n",
    "import numpy as np\n",
    "import pandas as pd\n",
    "import plotly.express as px\n",
    "import plotly.graph_objects as go\n",
    "import seaborn as sns\n",
    "import scipy\n",
    "\n",
    "\n",
    "from scipy.sparse.csgraph import laplacian\n",
    "\n",
    "from sklearn.cluster import SpectralClustering\n",
    "from sklearn.decomposition import TruncatedSVD, PCA\n",
    "from sklearn.manifold import TSNE\n",
    "from sklearn.metrics.pairwise import rbf_kernel, cosine_similarity\n",
    "from sklearn.cluster import SpectralClustering\n",
    "from sklearn.gaussian_process import GaussianProcessClassifier\n",
    "from sklearn.linear_model import LogisticRegression\n",
    "from sklearn.gaussian_process.kernels import RBF\n",
    "from sklearn.model_selection import RepeatedStratifiedKFold, cross_val_score\n",
    "from sklearn.preprocessing import LabelEncoder\n",
    "from sklearn.metrics import roc_curve, auc, roc_auc_score, ConfusionMatrixDisplay, confusion_matrix, make_scorer, f1_score\n",
    "from sklearn.metrics import classification_report\n",
    "from sklearn.metrics import pairwise_distances\n",
    "from sklearn.neighbors import KNeighborsClassifier\n",
    "\n",
    "from sklearn.metrics.pairwise import rbf_kernel, cosine_similarity, kernel_metrics\n",
    "from sklearn.metrics import pairwise_distances\n",
    "\n",
    "from sklearn.model_selection import train_test_split\n",
    "\n",
    "import feature, utils"
   ]
  },
  {
   "cell_type": "code",
   "execution_count": 2,
   "id": "6dfa4ec6-7564-4f82-aa28-b21e34731a48",
   "metadata": {},
   "outputs": [
    {
     "name": "stdout",
     "output_type": "stream",
     "text": [
      "Number of categories: 69\n"
     ]
    }
   ],
   "source": [
    "# Load data\n",
    "df_data = pd.read_csv('../data/ice-cat-office-products.csv.gz', dtype=str, index_col=0)\n",
    "\n",
    "category_counts = df_data[\"category_name\"].value_counts()\n",
    "large_enough_categories = category_counts[category_counts > 20].index.tolist()\n",
    "\n",
    "df_data = df_data[df_data.category_name.isin(large_enough_categories)]\n",
    "\n",
    "print(f\"Number of categories: {len(df_data.category_name.unique())}\")"
   ]
  },
  {
   "cell_type": "code",
   "execution_count": 3,
   "id": "e582a0cc-9519-4b63-b366-0dc7774a0595",
   "metadata": {},
   "outputs": [],
   "source": [
    "feateure_transformer = feature.BasicIceCatFeatureTransformer(output_size=128)"
   ]
  },
  {
   "cell_type": "code",
   "execution_count": 4,
   "id": "86c25ecd-0e86-4254-87a3-0ca92be696a3",
   "metadata": {},
   "outputs": [],
   "source": [
    "X = feateure_transformer.fit_transform(df_data)"
   ]
  },
  {
   "cell_type": "code",
   "execution_count": 5,
   "id": "dd7e08f1-d841-4d8e-b50b-f6b2a9e54124",
   "metadata": {},
   "outputs": [],
   "source": [
    "D = pairwise_distances(X, metric=\"euclidean\")\n",
    "D_normalized = D / np.max(D)\n",
    "K = 1 - D_normalized"
   ]
  },
  {
   "cell_type": "code",
   "execution_count": 6,
   "id": "ccff3982-bdd0-42fc-b753-c649d51495cf",
   "metadata": {},
   "outputs": [],
   "source": [
    "n_labels = len(df_data.category_name.unique())\n",
    "\n",
    "clustering = SpectralClustering(\n",
    "    n_clusters=2*n_labels,\n",
    "    assign_labels='discretize',\n",
    "    affinity='precomputed',\n",
    "    random_state=42,\n",
    "    verbose=10\n",
    ")"
   ]
  },
  {
   "cell_type": "code",
   "execution_count": 7,
   "id": "31e44d18-bade-45bf-98f3-c9d78dddef6e",
   "metadata": {},
   "outputs": [
    {
     "name": "stdout",
     "output_type": "stream",
     "text": [
      "Computing label assignment using discretize\n"
     ]
    },
    {
     "data": {
      "text/plain": [
       "SpectralClustering(affinity='precomputed', assign_labels='discretize',\n",
       "                   n_clusters=138, random_state=42, verbose=10)"
      ]
     },
     "execution_count": 7,
     "metadata": {},
     "output_type": "execute_result"
    }
   ],
   "source": [
    "clustering.fit(K)"
   ]
  },
  {
   "cell_type": "code",
   "execution_count": 8,
   "id": "6fa6edf8-5c2e-424d-803f-35da910f57c9",
   "metadata": {},
   "outputs": [],
   "source": [
    "df_data['cluster'] = clustering.labels_\n",
    "df_data['cluster'] = df_data['cluster'].astype(str)"
   ]
  },
  {
   "cell_type": "code",
   "execution_count": 9,
   "id": "782f3384-d807-4def-b614-978d05f56fcc",
   "metadata": {},
   "outputs": [],
   "source": [
    "df_data = utils.combined_similar_clusters(df_data)"
   ]
  },
  {
   "cell_type": "code",
   "execution_count": 10,
   "id": "e43b3785-2ab6-40a0-a39e-383fbf6debc7",
   "metadata": {},
   "outputs": [
    {
     "name": "stdout",
     "output_type": "stream",
     "text": [
      "                                    precision    recall  f1-score   support\n",
      "\n",
      "                    Ballpoint Pens       0.00      0.00      0.00        21\n",
      "                    Binding Covers       0.37      0.33      0.35       190\n",
      "                 Board Accessories       0.34      0.68      0.45       154\n",
      "                   Bulletin Boards       0.00      0.00      0.00       123\n",
      "                       Calculators       0.99      0.91      0.95       305\n",
      "       Charging Station Organizers       1.00      0.39      0.56        31\n",
      "                    Colour Pencils       0.51      0.47      0.49        38\n",
      "                    Computer Desks       0.19      0.69      0.30       144\n",
      "          Computer Furniture Parts       0.00      0.00      0.00        33\n",
      "                           Crayons       0.00      0.00      0.00        27\n",
      "            Desk Drawer Organizers       0.58      0.57      0.57        44\n",
      "             Desk Trays/Organizers       1.00      0.09      0.17       159\n",
      "                          Dividers       0.00      0.00      0.00        41\n",
      "                  Document Holders       1.00      0.25      0.40        85\n",
      "                  Dry Erase Boards       0.00      0.00      0.00        36\n",
      "                            Easels       0.77      0.33      0.47        30\n",
      "                           Erasers       0.00      0.00      0.00        34\n",
      "                      Fax Machines       1.00      0.91      0.95       210\n",
      "                      Fax Supplies       0.15      0.83      0.25        29\n",
      "                         Felt Pens       0.34      0.93      0.49        56\n",
      "                File Storage Boxes       0.64      0.45      0.53       192\n",
      "        Folder Binding Accessories       0.60      0.47      0.53       109\n",
      "                           Folders       0.56      0.84      0.67       645\n",
      "                        Foot Rests       0.00      0.00      0.00        60\n",
      "                  Graphite Pencils       0.00      0.00      0.00        21\n",
      "                   Hanging Folders       0.71      0.75      0.73       132\n",
      "                      Hole Punches       0.98      0.75      0.85       136\n",
      "                          Ink Pads       0.00      0.00      0.00        42\n",
      "Interactive Whiteboard Accessories       0.00      0.00      0.00        24\n",
      "           Interactive Whiteboards       0.93      0.80      0.86       131\n",
      "                  Lamination Films       0.00      0.00      0.00        55\n",
      "                 Laminator Pouches       0.60      0.91      0.72       128\n",
      "                        Laminators       0.97      0.86      0.91        76\n",
      "                          Lecterns       0.45      0.90      0.60        51\n",
      "                   Magnetic Boards       0.00      0.00      0.00        30\n",
      "                           Markers       0.92      0.41      0.57        82\n",
      "       Multimedia Cart Accessories       0.00      0.00      0.00        30\n",
      "         Multimedia Carts & Stands       0.97      0.79      0.87       317\n",
      "               Non-Adhesive Labels       0.48      0.62      0.54       103\n",
      "          Office & Computer Chairs       1.00      0.29      0.44        91\n",
      "                          Packages       0.00      0.00      0.00        39\n",
      "                     Paint Markers       0.00      0.00      0.00        22\n",
      "                     Paper Cutters       0.00      0.00      0.00        42\n",
      "                   Paper Shredders       0.95      0.92      0.93        60\n",
      "              Pen & Pencil Holders       0.00      0.00      0.00        21\n",
      "                       Pen Refills       0.00      0.00      0.00        21\n",
      "                      Pencil Cases       0.00      0.00      0.00        88\n",
      "                 Pencil Sharpeners       1.00      0.52      0.69        46\n",
      "                   Planning Boards       0.58      0.68      0.63        77\n",
      "         Printer Cabinets & Stands       0.18      0.64      0.28       252\n",
      "                     Report Covers       0.00      0.00      0.00        34\n",
      "                      Ring Binders       0.93      0.81      0.87       298\n",
      "                            Rulers       0.00      0.00      0.00        31\n",
      "                             Seals       0.45      0.98      0.62       145\n",
      "              Self-Adhesive Labels       0.71      0.84      0.77       324\n",
      "          Self-Adhesive Note Paper       1.00      0.85      0.92       172\n",
      "                  Sheet Protectors       0.00      0.00      0.00        53\n",
      "                         Showcases       0.00      0.00      0.00        36\n",
      "                Smart Card Readers       0.00      0.00      0.00        75\n",
      "                          Staplers       0.91      0.87      0.89       162\n",
      "                           Staples       1.00      0.30      0.46        87\n",
      "       Stationery & Craft Scissors       0.00      0.00      0.00        63\n",
      "                  Stationery Tapes       0.77      0.81      0.79       124\n",
      "                       Tab Indexes       0.86      0.69      0.77       114\n",
      "                   Tape Dispensers       0.00      0.00      0.00        50\n",
      "                       Typewriters       1.00      0.38      0.55        24\n",
      "                       Whiteboards       0.81      0.66      0.73       232\n",
      "                Workspace Dividers       0.00      0.00      0.00        32\n",
      "                 Writing Notebooks       0.99      0.64      0.78       300\n",
      "\n",
      "                          accuracy                           0.59      7269\n",
      "                         macro avg       0.44      0.39      0.38      7269\n",
      "                      weighted avg       0.62      0.59      0.57      7269\n",
      "\n"
     ]
    },
    {
     "name": "stderr",
     "output_type": "stream",
     "text": [
      "/home/omar/.cache/pypoetry/virtualenvs/snow-leopard-O1gqMmLm-py3.8/lib/python3.8/site-packages/sklearn/metrics/_classification.py:1248: UndefinedMetricWarning: Precision and F-score are ill-defined and being set to 0.0 in labels with no predicted samples. Use `zero_division` parameter to control this behavior.\n",
      "  _warn_prf(average, modifier, msg_start, len(result))\n",
      "/home/omar/.cache/pypoetry/virtualenvs/snow-leopard-O1gqMmLm-py3.8/lib/python3.8/site-packages/sklearn/metrics/_classification.py:1248: UndefinedMetricWarning: Precision and F-score are ill-defined and being set to 0.0 in labels with no predicted samples. Use `zero_division` parameter to control this behavior.\n",
      "  _warn_prf(average, modifier, msg_start, len(result))\n",
      "/home/omar/.cache/pypoetry/virtualenvs/snow-leopard-O1gqMmLm-py3.8/lib/python3.8/site-packages/sklearn/metrics/_classification.py:1248: UndefinedMetricWarning: Precision and F-score are ill-defined and being set to 0.0 in labels with no predicted samples. Use `zero_division` parameter to control this behavior.\n",
      "  _warn_prf(average, modifier, msg_start, len(result))\n"
     ]
    }
   ],
   "source": [
    "print(classification_report(y_true=df_data.category_name, y_pred=df_data.pred_category))"
   ]
  },
  {
   "cell_type": "code",
   "execution_count": 11,
   "id": "ede9095e-0e63-4c51-8ad6-d1a16064d46c",
   "metadata": {},
   "outputs": [
    {
     "data": {
      "text/html": [
       "<div>\n",
       "<style scoped>\n",
       "    .dataframe tbody tr th:only-of-type {\n",
       "        vertical-align: middle;\n",
       "    }\n",
       "\n",
       "    .dataframe tbody tr th {\n",
       "        vertical-align: top;\n",
       "    }\n",
       "\n",
       "    .dataframe thead th {\n",
       "        text-align: right;\n",
       "    }\n",
       "</style>\n",
       "<table border=\"1\" class=\"dataframe\">\n",
       "  <thead>\n",
       "    <tr style=\"text-align: right;\">\n",
       "      <th></th>\n",
       "      <th>cluster</th>\n",
       "      <th>pred_category</th>\n",
       "      <th>category_name</th>\n",
       "    </tr>\n",
       "  </thead>\n",
       "  <tbody>\n",
       "    <tr>\n",
       "      <th>2</th>\n",
       "      <td>65</td>\n",
       "      <td>Computer Desks</td>\n",
       "      <td>Fax Machines</td>\n",
       "    </tr>\n",
       "    <tr>\n",
       "      <th>4</th>\n",
       "      <td>65</td>\n",
       "      <td>Computer Desks</td>\n",
       "      <td>Staples</td>\n",
       "    </tr>\n",
       "    <tr>\n",
       "      <th>5</th>\n",
       "      <td>120</td>\n",
       "      <td>Printer Cabinets &amp; Stands</td>\n",
       "      <td>Paper Cutters</td>\n",
       "    </tr>\n",
       "    <tr>\n",
       "      <th>6</th>\n",
       "      <td>120</td>\n",
       "      <td>Printer Cabinets &amp; Stands</td>\n",
       "      <td>Paper Cutters</td>\n",
       "    </tr>\n",
       "    <tr>\n",
       "      <th>7</th>\n",
       "      <td>65</td>\n",
       "      <td>Computer Desks</td>\n",
       "      <td>Printer Cabinets &amp; Stands</td>\n",
       "    </tr>\n",
       "    <tr>\n",
       "      <th>...</th>\n",
       "      <td>...</td>\n",
       "      <td>...</td>\n",
       "      <td>...</td>\n",
       "    </tr>\n",
       "    <tr>\n",
       "      <th>7961</th>\n",
       "      <td>4</td>\n",
       "      <td>Board Accessories</td>\n",
       "      <td>Bulletin Boards</td>\n",
       "    </tr>\n",
       "    <tr>\n",
       "      <th>7962</th>\n",
       "      <td>4</td>\n",
       "      <td>Board Accessories</td>\n",
       "      <td>Bulletin Boards</td>\n",
       "    </tr>\n",
       "    <tr>\n",
       "      <th>7963</th>\n",
       "      <td>4</td>\n",
       "      <td>Board Accessories</td>\n",
       "      <td>Bulletin Boards</td>\n",
       "    </tr>\n",
       "    <tr>\n",
       "      <th>7964</th>\n",
       "      <td>4</td>\n",
       "      <td>Board Accessories</td>\n",
       "      <td>Bulletin Boards</td>\n",
       "    </tr>\n",
       "    <tr>\n",
       "      <th>7965</th>\n",
       "      <td>4</td>\n",
       "      <td>Board Accessories</td>\n",
       "      <td>Bulletin Boards</td>\n",
       "    </tr>\n",
       "  </tbody>\n",
       "</table>\n",
       "<p>2973 rows × 3 columns</p>\n",
       "</div>"
      ],
      "text/plain": [
       "     cluster              pred_category              category_name\n",
       "2         65             Computer Desks               Fax Machines\n",
       "4         65             Computer Desks                    Staples\n",
       "5        120  Printer Cabinets & Stands              Paper Cutters\n",
       "6        120  Printer Cabinets & Stands              Paper Cutters\n",
       "7         65             Computer Desks  Printer Cabinets & Stands\n",
       "...      ...                        ...                        ...\n",
       "7961       4          Board Accessories            Bulletin Boards\n",
       "7962       4          Board Accessories            Bulletin Boards\n",
       "7963       4          Board Accessories            Bulletin Boards\n",
       "7964       4          Board Accessories            Bulletin Boards\n",
       "7965       4          Board Accessories            Bulletin Boards\n",
       "\n",
       "[2973 rows x 3 columns]"
      ]
     },
     "execution_count": 11,
     "metadata": {},
     "output_type": "execute_result"
    }
   ],
   "source": [
    "cols = [\"cluster\", \"pred_category\", \"category_name\"] \n",
    "df_data[df_data.pred_category != df_data.category_name][cols]"
   ]
  },
  {
   "cell_type": "code",
   "execution_count": null,
   "id": "a3db6920-a2a8-4400-95cc-3a6b905aadad",
   "metadata": {},
   "outputs": [],
   "source": []
  }
 ],
 "metadata": {
  "kernelspec": {
   "display_name": "Python 3",
   "language": "python",
   "name": "python3"
  },
  "language_info": {
   "codemirror_mode": {
    "name": "ipython",
    "version": 3
   },
   "file_extension": ".py",
   "mimetype": "text/x-python",
   "name": "python",
   "nbconvert_exporter": "python",
   "pygments_lexer": "ipython3",
   "version": "3.8.8"
  }
 },
 "nbformat": 4,
 "nbformat_minor": 5
}
