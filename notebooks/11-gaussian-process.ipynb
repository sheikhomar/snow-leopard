{
 "cells": [
  {
   "cell_type": "code",
   "execution_count": 1,
   "id": "ae12281d-0398-4863-a15c-a51cd8cb5663",
   "metadata": {},
   "outputs": [],
   "source": [
    "from itertools import chain\n",
    "\n",
    "import matplotlib.pyplot as plt\n",
    "import networkx as nx\n",
    "import numpy as np\n",
    "import pandas as pd\n",
    "import plotly.express as px\n",
    "import plotly.graph_objects as go\n",
    "import seaborn as sns\n",
    "import scipy\n",
    "\n",
    "\n",
    "from scipy.sparse.csgraph import laplacian\n",
    "\n",
    "from sklearn.cluster import SpectralClustering\n",
    "from sklearn.decomposition import TruncatedSVD, PCA\n",
    "from sklearn.manifold import TSNE\n",
    "from sklearn.metrics.pairwise import rbf_kernel, cosine_similarity\n",
    "from sklearn.cluster import SpectralClustering\n",
    "from sklearn.gaussian_process import GaussianProcessClassifier\n",
    "from sklearn.linear_model import LogisticRegression\n",
    "from sklearn.gaussian_process.kernels import RBF\n",
    "from sklearn.model_selection import RepeatedStratifiedKFold, cross_val_score\n",
    "from sklearn.preprocessing import LabelEncoder\n",
    "from sklearn.metrics import roc_curve, auc, roc_auc_score\n",
    "\n",
    "import feature, utils"
   ]
  },
  {
   "cell_type": "code",
   "execution_count": 2,
   "id": "6dfa4ec6-7564-4f82-aa28-b21e34731a48",
   "metadata": {},
   "outputs": [],
   "source": [
    "# Load data\n",
    "df_data = pd.read_csv('../data/ice-cat-office-products.csv.gz', dtype=str, index_col=0)\n",
    "\n",
    "# Filter out small product categories\n",
    "# top_categories = utils.find_top_n_categories(df_data, top_n=3)\n",
    "top_categories = [\n",
    "#     'Folders',                     # N=645\n",
    "#     'Self-Adhesive Labels',        # N=324\n",
    "#     'Multimedia Carts & Stands',   # N=317\n",
    "#     'Calculators',                 # N=305\n",
    "#     'Writing Notebooks'            # N=300\n",
    "    'Ring Binders',                # N=298\n",
    "    'Printer Cabinets & Stands',   # N=252\n",
    "#     'Whiteboards',                 # N=232\n",
    "#     'Fax Machines',                # N=210\n",
    "#     'File Storage Boxes'           # N=192\n",
    "#     'Binding Covers',              # N=190\n",
    "#     'Self-Adhesive Note Paper',    # N=172\n",
    "#     'Staplers',                    # N=162\n",
    "#     'Desk Trays/Organizers',       # N=159\n",
    "#     'Board Accessories',           # N=154\n",
    "#     'Seals',                       # N=145\n",
    "#     'Computer Desks',              # N=144\n",
    "#     'Hole Punches',                # N=136\n",
    "#     'Hanging Folders',             # N=132\n",
    "#     'Interactive Whiteboards',     # N=131\n",
    "#     'Laminator Pouches',           # N=128\n",
    "#     'Stationery Tapes',            # N=124\n",
    "#     'Bulletin Boards',             # N=123\n",
    "#     'Tab Indexes',                 # N=114\n",
    "#     'Folder Binding Accessories',  # N=109\n",
    "#     'Non-Adhesive Labels',         # N=103\n",
    "]\n",
    "df_data = df_data[df_data.category_name.isin(top_categories)]\n"
   ]
  },
  {
   "cell_type": "code",
   "execution_count": 3,
   "id": "edbb766f-143c-4784-9621-a3d9419de3b8",
   "metadata": {},
   "outputs": [],
   "source": [
    "df_train, df_test = utils.split_train_test(df_data)"
   ]
  },
  {
   "cell_type": "code",
   "execution_count": 4,
   "id": "5185cb34-d74a-42f3-9ff9-55afad0fb522",
   "metadata": {},
   "outputs": [
    {
     "data": {
      "text/plain": [
       "(440, 1230)"
      ]
     },
     "execution_count": 4,
     "metadata": {},
     "output_type": "execute_result"
    }
   ],
   "source": [
    "df_train.shape"
   ]
  },
  {
   "cell_type": "code",
   "execution_count": 5,
   "id": "e582a0cc-9519-4b63-b366-0dc7774a0595",
   "metadata": {},
   "outputs": [],
   "source": [
    "feateure_transformer = feature.IceCatFeatureTransformer()"
   ]
  },
  {
   "cell_type": "code",
   "execution_count": 6,
   "id": "02f96fca-139d-40e6-84a5-e9d7ff5562f3",
   "metadata": {},
   "outputs": [
    {
     "data": {
      "text/plain": [
       "IceCatFeatureTransformer()"
      ]
     },
     "execution_count": 6,
     "metadata": {},
     "output_type": "execute_result"
    }
   ],
   "source": [
    "feateure_transformer.fit(df_train)"
   ]
  },
  {
   "cell_type": "code",
   "execution_count": 7,
   "id": "20f64e4b-8bb5-4907-9577-281fc2a3f4d4",
   "metadata": {},
   "outputs": [
    {
     "data": {
      "text/plain": [
       "(440, 1230)"
      ]
     },
     "execution_count": 7,
     "metadata": {},
     "output_type": "execute_result"
    }
   ],
   "source": [
    "df_train.shape"
   ]
  },
  {
   "cell_type": "code",
   "execution_count": 8,
   "id": "86c25ecd-0e86-4254-87a3-0ca92be696a3",
   "metadata": {},
   "outputs": [],
   "source": [
    "X_train = feateure_transformer.transform(df_train)"
   ]
  },
  {
   "cell_type": "code",
   "execution_count": 9,
   "id": "0e75aecf-93fc-47af-9b95-0a69c3a4c97b",
   "metadata": {},
   "outputs": [
    {
     "data": {
      "text/plain": [
       "(440, 128)"
      ]
     },
     "execution_count": 9,
     "metadata": {},
     "output_type": "execute_result"
    }
   ],
   "source": [
    "X_train.shape"
   ]
  },
  {
   "cell_type": "code",
   "execution_count": 10,
   "id": "151dd611-075d-4502-b1d6-b18ebf41ea6a",
   "metadata": {},
   "outputs": [
    {
     "name": "stderr",
     "output_type": "stream",
     "text": [
      "/home/omar/.cache/pypoetry/virtualenvs/snow-leopard-O1gqMmLm-py3.8/lib/python3.8/site-packages/sklearn/preprocessing/_label.py:860: UserWarning: unknown class(es) ['Leatherette', 'Polycarbonate'] will be ignored\n",
      "  warnings.warn('unknown class(es) {0} will be ignored'\n"
     ]
    }
   ],
   "source": [
    "X_test = feateure_transformer.transform(df_test)"
   ]
  },
  {
   "cell_type": "code",
   "execution_count": 11,
   "id": "a19ea634-6619-41c9-8afc-84ab8d7c3141",
   "metadata": {},
   "outputs": [
    {
     "data": {
      "text/plain": [
       "(110, 128)"
      ]
     },
     "execution_count": 11,
     "metadata": {},
     "output_type": "execute_result"
    }
   ],
   "source": [
    "X_test.shape"
   ]
  },
  {
   "cell_type": "code",
   "execution_count": 12,
   "id": "06099f5b-157a-4baa-b4c8-5284e00c9504",
   "metadata": {},
   "outputs": [],
   "source": [
    "train_labels = set(df_train.category_name.unique())"
   ]
  },
  {
   "cell_type": "code",
   "execution_count": 13,
   "id": "9771a83f-e140-4968-a979-28be70099425",
   "metadata": {},
   "outputs": [],
   "source": [
    "test_labels = set(df_test.category_name.unique())"
   ]
  },
  {
   "cell_type": "code",
   "execution_count": 14,
   "id": "756c26ab-04cf-4f84-96c7-2c2b5c09ac74",
   "metadata": {},
   "outputs": [],
   "source": [
    "label_encoder = LabelEncoder()"
   ]
  },
  {
   "cell_type": "code",
   "execution_count": 15,
   "id": "83e18fc8-9a55-4f2d-812d-4123ffc571e6",
   "metadata": {},
   "outputs": [
    {
     "data": {
      "text/plain": [
       "LabelEncoder()"
      ]
     },
     "execution_count": 15,
     "metadata": {},
     "output_type": "execute_result"
    }
   ],
   "source": [
    "label_encoder.fit(df_train.category_name)"
   ]
  },
  {
   "cell_type": "code",
   "execution_count": 16,
   "id": "3ae04e97-05ee-42ff-997d-fd42d2236ada",
   "metadata": {},
   "outputs": [],
   "source": [
    "y_train = label_encoder.transform(df_train.category_name)\n",
    "y_test = label_encoder.transform(df_test.category_name)"
   ]
  },
  {
   "cell_type": "code",
   "execution_count": 17,
   "id": "03326b40-e910-444d-a716-d1e55248dcff",
   "metadata": {},
   "outputs": [],
   "source": [
    "model = GaussianProcessClassifier(kernel=1*RBF(1.0))"
   ]
  },
  {
   "cell_type": "code",
   "execution_count": 18,
   "id": "2051a66a-5c92-4ad0-81c6-f5aa718ba0d0",
   "metadata": {},
   "outputs": [
    {
     "data": {
      "text/plain": [
       "GaussianProcessClassifier(kernel=1**2 * RBF(length_scale=1))"
      ]
     },
     "execution_count": 18,
     "metadata": {},
     "output_type": "execute_result"
    }
   ],
   "source": [
    "model.fit(X_train, y_train)"
   ]
  },
  {
   "cell_type": "code",
   "execution_count": 19,
   "id": "0d6f7ede-3f68-47db-af78-1d57e643479f",
   "metadata": {},
   "outputs": [],
   "source": [
    "y_test_preds = model.predict_proba(X_test)"
   ]
  },
  {
   "cell_type": "code",
   "execution_count": 20,
   "id": "c6dff0ab-b645-4883-847a-5c9613507065",
   "metadata": {},
   "outputs": [
    {
     "data": {
      "text/plain": [
       "(110, 2)"
      ]
     },
     "execution_count": 20,
     "metadata": {},
     "output_type": "execute_result"
    }
   ],
   "source": [
    "y_test_preds.shape"
   ]
  },
  {
   "cell_type": "code",
   "execution_count": null,
   "id": "6c2fcd78-11e5-4d4f-b8fd-aa7673942484",
   "metadata": {},
   "outputs": [],
   "source": [
    "\n"
   ]
  },
  {
   "cell_type": "code",
   "execution_count": 21,
   "id": "2d0c5336-3422-4660-ac40-c184532c7279",
   "metadata": {},
   "outputs": [],
   "source": [
    "fpr, tpr, thresholds = roc_curve(y_test, y_test_preds[:,1])"
   ]
  },
  {
   "cell_type": "code",
   "execution_count": 22,
   "id": "c20fd77e-d761-408b-9dc4-0c49ce954ece",
   "metadata": {},
   "outputs": [
    {
     "data": {
      "text/plain": [
       "array([1.8919913 , 0.8919913 , 0.86342819, 0.86263617, 0.66938802,\n",
       "       0.31314112, 0.27246889, 0.11945742, 0.11935766, 0.07278543,\n",
       "       0.07278543])"
      ]
     },
     "execution_count": 22,
     "metadata": {},
     "output_type": "execute_result"
    }
   ],
   "source": [
    "thresholds"
   ]
  },
  {
   "cell_type": "code",
   "execution_count": 23,
   "id": "07520446-4e2f-493c-b2b8-5240b9e86f6f",
   "metadata": {},
   "outputs": [
    {
     "data": {
      "text/plain": [
       "<matplotlib.legend.Legend at 0x7f5c26af6970>"
      ]
     },
     "execution_count": 23,
     "metadata": {},
     "output_type": "execute_result"
    },
    {
     "data": {
      "image/png": "[encoded data removed]",
      "text/plain": [
       "<Figure size 720x360 with 1 Axes>"
      ]
     },
     "metadata": {
      "needs_background": "light"
     },
     "output_type": "display_data"
    }
   ],
   "source": [
    "fig, ax = plt.subplots(figsize=(10, 5))\n",
    "ax.plot([0, 1], [0, 1], linestyle='--', label='No Skill')\n",
    "ax.plot(fpr, tpr, marker='.', label='Gaussian')\n",
    "ax.set_xlabel('False Positive Rate')\n",
    "ax.set_ylabel('True Positive Rate')\n",
    "\n",
    "ax.legend()"
   ]
  },
  {
   "cell_type": "code",
   "execution_count": 24,
   "id": "65e3808c-af80-40c2-8577-d693121a4daa",
   "metadata": {},
   "outputs": [
    {
     "data": {
      "text/plain": [
       "1.0"
      ]
     },
     "execution_count": 24,
     "metadata": {},
     "output_type": "execute_result"
    }
   ],
   "source": [
    "roc_auc = roc_auc_score(y_test, y_test_preds[:,1])\n",
    "roc_auc"
   ]
  },
  {
   "cell_type": "code",
   "execution_count": 25,
   "id": "a5ec4256-3270-4ab8-9095-7fc26d7bd256",
   "metadata": {},
   "outputs": [],
   "source": [
    "lr = LogisticRegression()"
   ]
  },
  {
   "cell_type": "code",
   "execution_count": 26,
   "id": "42a41774-7156-4963-8877-6a2890750d5c",
   "metadata": {},
   "outputs": [
    {
     "data": {
      "text/plain": [
       "LogisticRegression()"
      ]
     },
     "execution_count": 26,
     "metadata": {},
     "output_type": "execute_result"
    }
   ],
   "source": [
    "lr.fit(X_train, y_train)"
   ]
  },
  {
   "cell_type": "code",
   "execution_count": 27,
   "id": "750d2da7-5386-4d10-a435-19db0b466e51",
   "metadata": {},
   "outputs": [],
   "source": [
    "y_test_proba_lr = lr.predict_proba(X_test)"
   ]
  },
  {
   "cell_type": "code",
   "execution_count": 28,
   "id": "dc2f79eb-fcd7-4d5f-8835-d42e36dff739",
   "metadata": {},
   "outputs": [],
   "source": [
    "fpr, tpr, thresholds = roc_curve(y_test, y_test_proba_lr[:,1])"
   ]
  },
  {
   "cell_type": "code",
   "execution_count": 29,
   "id": "48f02006-bbcf-4b85-ae3f-f8bd7e3bbc8d",
   "metadata": {},
   "outputs": [
    {
     "data": {
      "text/plain": [
       "<matplotlib.legend.Legend at 0x7f5c26717370>"
      ]
     },
     "execution_count": 29,
     "metadata": {},
     "output_type": "execute_result"
    },
    {
     "data": {
      "image/png": "[encoded data removed]",
      "text/plain": [
       "<Figure size 720x360 with 1 Axes>"
      ]
     },
     "metadata": {
      "needs_background": "light"
     },
     "output_type": "display_data"
    }
   ],
   "source": [
    "fig, ax = plt.subplots(figsize=(10, 5))\n",
    "ax.plot([0, 1], [0, 1], linestyle='--', label='No Skill')\n",
    "ax.plot(fpr, tpr, marker='.', label='Logistic Regression')\n",
    "ax.set_xlabel('False Positive Rate')\n",
    "ax.set_ylabel('True Positive Rate')\n",
    "\n",
    "ax.legend()"
   ]
  },
  {
   "cell_type": "code",
   "execution_count": null,
   "id": "e0a9d5ee-8d1f-4439-91c5-efd82e338ec2",
   "metadata": {},
   "outputs": [],
   "source": []
  }
 ],
 "metadata": {
  "kernelspec": {
   "display_name": "Python 3",
   "language": "python",
   "name": "python3"
  },
  "language_info": {
   "codemirror_mode": {
    "name": "ipython",
    "version": 3
   },
   "file_extension": ".py",
   "mimetype": "text/x-python",
   "name": "python",
   "nbconvert_exporter": "python",
   "pygments_lexer": "ipython3",
   "version": "3.8.8"
  }
 },
 "nbformat": 4,
 "nbformat_minor": 5
}
