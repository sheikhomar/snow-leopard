{
 "cells": [
  {
   "cell_type": "code",
   "execution_count": 1,
   "id": "ae12281d-0398-4863-a15c-a51cd8cb5663",
   "metadata": {},
   "outputs": [],
   "source": [
    "from itertools import chain\n",
    "\n",
    "import matplotlib.pyplot as plt\n",
    "import networkx as nx\n",
    "import numpy as np\n",
    "import pandas as pd\n",
    "import plotly.express as px\n",
    "import plotly.graph_objects as go\n",
    "import seaborn as sns\n",
    "import scipy\n",
    "\n",
    "\n",
    "from scipy.sparse.csgraph import laplacian\n",
    "\n",
    "from sklearn.cluster import SpectralClustering\n",
    "from sklearn.decomposition import TruncatedSVD, PCA\n",
    "from sklearn.manifold import TSNE\n",
    "from sklearn.metrics.pairwise import rbf_kernel, cosine_similarity\n",
    "from sklearn.cluster import SpectralClustering\n",
    "from sklearn.gaussian_process import GaussianProcessClassifier\n",
    "from sklearn.linear_model import LogisticRegression\n",
    "from sklearn.gaussian_process.kernels import RBF\n",
    "from sklearn.model_selection import RepeatedStratifiedKFold, cross_val_score\n",
    "from sklearn.preprocessing import LabelEncoder\n",
    "from sklearn.metrics import roc_curve, auc, roc_auc_score, ConfusionMatrixDisplay, confusion_matrix, make_scorer, f1_score\n",
    "from sklearn.metrics import classification_report\n",
    "from sklearn.metrics import pairwise_distances\n",
    "from sklearn.neighbors import KNeighborsClassifier\n",
    "from sklearn.model_selection import StratifiedKFold\n",
    "\n",
    "\n",
    "from sklearn.model_selection import train_test_split\n",
    "\n",
    "import feature, utils"
   ]
  },
  {
   "cell_type": "code",
   "execution_count": 2,
   "id": "6dfa4ec6-7564-4f82-aa28-b21e34731a48",
   "metadata": {},
   "outputs": [
    {
     "name": "stdout",
     "output_type": "stream",
     "text": [
      "Number of categories: 69\n"
     ]
    }
   ],
   "source": [
    "# Load data\n",
    "df_data = pd.read_csv('../data/ice-cat-office-products.csv.gz', dtype=str, index_col=0)\n",
    "\n",
    "category_counts = df_data[\"category_name\"].value_counts()\n",
    "large_enough_categories = category_counts[category_counts > 20].index.tolist()\n",
    "\n",
    "df_data = df_data[df_data.category_name.isin(large_enough_categories)]\n",
    "\n",
    "print(f\"Number of categories: {len(df_data.category_name.unique())}\")"
   ]
  },
  {
   "cell_type": "code",
   "execution_count": 3,
   "id": "19908916-d418-4198-8d28-b348f1c880a1",
   "metadata": {},
   "outputs": [],
   "source": [
    "selected_category = 'Ballpoint Pens'"
   ]
  },
  {
   "cell_type": "code",
   "execution_count": 4,
   "id": "5343f76a-a7dc-42ea-b5cd-20a3de551578",
   "metadata": {},
   "outputs": [],
   "source": [
    "df = df_data.copy()\n",
    "df.loc[df.category_name != selected_category, \"category_name\"] = \"Other\"\n",
    "df.loc[df.category_name == selected_category, \"category_id\"] = 0\n",
    "df.loc[df.category_name != selected_category, \"category_id\"] = 1"
   ]
  },
  {
   "cell_type": "code",
   "execution_count": 5,
   "id": "a8fd02d6-0167-4647-96eb-6019ab8d492f",
   "metadata": {},
   "outputs": [
    {
     "data": {
      "text/plain": [
       "1    0.997111\n",
       "0    0.002889\n",
       "Name: category_id, dtype: float64"
      ]
     },
     "execution_count": 5,
     "metadata": {},
     "output_type": "execute_result"
    }
   ],
   "source": [
    "df.category_id.value_counts() / df.shape[0]"
   ]
  },
  {
   "cell_type": "code",
   "execution_count": 6,
   "id": "4bcf2bef-7577-44aa-813a-ec2944c97c81",
   "metadata": {},
   "outputs": [
    {
     "data": {
      "text/plain": [
       "Other             7248\n",
       "Ballpoint Pens      21\n",
       "Name: category_name, dtype: int64"
      ]
     },
     "execution_count": 6,
     "metadata": {},
     "output_type": "execute_result"
    }
   ],
   "source": [
    "df.category_name.value_counts()"
   ]
  },
  {
   "cell_type": "code",
   "execution_count": 7,
   "id": "dce51016-59f8-4723-90ed-ba137671a2e0",
   "metadata": {},
   "outputs": [],
   "source": [
    "sss = StratifiedKFold(n_splits=5, shuffle=True, random_state=42)"
   ]
  },
  {
   "cell_type": "code",
   "execution_count": 8,
   "id": "f49f0550-ef9a-4624-b7f2-22a079617737",
   "metadata": {
    "tags": []
   },
   "outputs": [
    {
     "name": "stdout",
     "output_type": "stream",
     "text": [
      "------------------\n",
      "Processing fold 1\n",
      "Generating features\n"
     ]
    },
    {
     "name": "stderr",
     "output_type": "stream",
     "text": [
      "/home/omar/.cache/pypoetry/virtualenvs/snow-leopard-O1gqMmLm-py3.8/lib/python3.8/site-packages/sklearn/preprocessing/_label.py:860: UserWarning: unknown class(es) ['11', '14', '256'] will be ignored\n",
      "  warnings.warn('unknown class(es) {0} will be ignored'\n",
      "/home/omar/.cache/pypoetry/virtualenvs/snow-leopard-O1gqMmLm-py3.8/lib/python3.8/site-packages/sklearn/preprocessing/_label.py:860: UserWarning: unknown class(es) ['Acid'] will be ignored\n",
      "  warnings.warn('unknown class(es) {0} will be ignored'\n",
      "/home/omar/.cache/pypoetry/virtualenvs/snow-leopard-O1gqMmLm-py3.8/lib/python3.8/site-packages/sklearn/preprocessing/_label.py:860: UserWarning: unknown class(es) ['Carbon fibre'] will be ignored\n",
      "  warnings.warn('unknown class(es) {0} will be ignored'\n",
      "/home/omar/.cache/pypoetry/virtualenvs/snow-leopard-O1gqMmLm-py3.8/lib/python3.8/site-packages/sklearn/preprocessing/_label.py:860: UserWarning: unknown class(es) ['Alkaline', 'LR441', 'Solar with Battery back-up'] will be ignored\n",
      "  warnings.warn('unknown class(es) {0} will be ignored'\n",
      "/home/omar/.cache/pypoetry/virtualenvs/snow-leopard-O1gqMmLm-py3.8/lib/python3.8/site-packages/sklearn/preprocessing/_label.py:860: UserWarning: unknown class(es) ['700 x 500'] will be ignored\n",
      "  warnings.warn('unknown class(es) {0} will be ignored'\n",
      "/home/omar/.cache/pypoetry/virtualenvs/snow-leopard-O1gqMmLm-py3.8/lib/python3.8/site-packages/sklearn/preprocessing/_label.py:860: UserWarning: unknown class(es) ['24/10', '24/6 (150 ST)', '24/6 - 26/6', '24/8 (150 ST)', '26/6 (210 ST)', 'P3 24/6', 'Standard', 'e2', '№10', '№8'] will be ignored\n",
      "  warnings.warn('unknown class(es) {0} will be ignored'\n",
      "/home/omar/.cache/pypoetry/virtualenvs/snow-leopard-O1gqMmLm-py3.8/lib/python3.8/site-packages/sklearn/preprocessing/_label.py:860: UserWarning: unknown class(es) ['Cappuccino', 'Olive'] will be ignored\n",
      "  warnings.warn('unknown class(es) {0} will be ignored'\n",
      "/home/omar/.cache/pypoetry/virtualenvs/snow-leopard-O1gqMmLm-py3.8/lib/python3.8/site-packages/sklearn/preprocessing/_label.py:860: UserWarning: unknown class(es) ['Glass', 'Leatherette', 'Mesh'] will be ignored\n",
      "  warnings.warn('unknown class(es) {0} will be ignored'\n",
      "/home/omar/.cache/pypoetry/virtualenvs/snow-leopard-O1gqMmLm-py3.8/lib/python3.8/site-packages/sklearn/preprocessing/_label.py:860: UserWarning: unknown class(es) ['Violet'] will be ignored\n",
      "  warnings.warn('unknown class(es) {0} will be ignored'\n",
      "/home/omar/.cache/pypoetry/virtualenvs/snow-leopard-O1gqMmLm-py3.8/lib/python3.8/site-packages/sklearn/preprocessing/_label.py:860: UserWarning: unknown class(es) ['2.43\" x 3.87\"', '210 x 297', '65 x 108mm', '70 x 36'] will be ignored\n",
      "  warnings.warn('unknown class(es) {0} will be ignored'\n",
      "/home/omar/.cache/pypoetry/virtualenvs/snow-leopard-O1gqMmLm-py3.8/lib/python3.8/site-packages/sklearn/preprocessing/_label.py:860: UserWarning: unknown class(es) ['Dark Grey', 'Turquoise'] will be ignored\n",
      "  warnings.warn('unknown class(es) {0} will be ignored'\n"
     ]
    },
    {
     "name": "stdout",
     "output_type": "stream",
     "text": [
      "Training model\n",
      "Generating predictions\n",
      "                precision    recall  f1-score   support\n",
      "\n",
      "Ballpoint Pens       0.00      0.00      0.00         4\n",
      "         Other       1.00      1.00      1.00      1450\n",
      "\n",
      "      accuracy                           1.00      1454\n",
      "     macro avg       0.50      0.50      0.50      1454\n",
      "  weighted avg       0.99      1.00      0.99      1454\n",
      "\n",
      "------------------\n",
      "Processing fold 2\n",
      "Generating features\n"
     ]
    },
    {
     "name": "stderr",
     "output_type": "stream",
     "text": [
      "/home/omar/.cache/pypoetry/virtualenvs/snow-leopard-O1gqMmLm-py3.8/lib/python3.8/site-packages/sklearn/preprocessing/_label.py:860: UserWarning: unknown class(es) ['200', '48'] will be ignored\n",
      "  warnings.warn('unknown class(es) {0} will be ignored'\n",
      "/home/omar/.cache/pypoetry/virtualenvs/snow-leopard-O1gqMmLm-py3.8/lib/python3.8/site-packages/sklearn/preprocessing/_label.py:860: UserWarning: unknown class(es) ['Vinyl'] will be ignored\n",
      "  warnings.warn('unknown class(es) {0} will be ignored'\n",
      "/home/omar/.cache/pypoetry/virtualenvs/snow-leopard-O1gqMmLm-py3.8/lib/python3.8/site-packages/sklearn/preprocessing/_label.py:860: UserWarning: unknown class(es) ['4 x AAA/1 x CR2032'] will be ignored\n",
      "  warnings.warn('unknown class(es) {0} will be ignored'\n",
      "/home/omar/.cache/pypoetry/virtualenvs/snow-leopard-O1gqMmLm-py3.8/lib/python3.8/site-packages/sklearn/preprocessing/_label.py:860: UserWarning: unknown class(es) ['IEEE 1284'] will be ignored\n",
      "  warnings.warn('unknown class(es) {0} will be ignored'\n",
      "/home/omar/.cache/pypoetry/virtualenvs/snow-leopard-O1gqMmLm-py3.8/lib/python3.8/site-packages/sklearn/preprocessing/_label.py:860: UserWarning: unknown class(es) ['100хP2 (№ 10)', '110 x 25/10', '26/12'] will be ignored\n",
      "  warnings.warn('unknown class(es) {0} will be ignored'\n",
      "/home/omar/.cache/pypoetry/virtualenvs/snow-leopard-O1gqMmLm-py3.8/lib/python3.8/site-packages/sklearn/preprocessing/_label.py:860: UserWarning: unknown class(es) ['Forest Stewardship Council (FSC) 100%'] will be ignored\n",
      "  warnings.warn('unknown class(es) {0} will be ignored'\n",
      "/home/omar/.cache/pypoetry/virtualenvs/snow-leopard-O1gqMmLm-py3.8/lib/python3.8/site-packages/sklearn/preprocessing/_label.py:860: UserWarning: unknown class(es) ['Lavender', 'Pine'] will be ignored\n",
      "  warnings.warn('unknown class(es) {0} will be ignored'\n",
      "/home/omar/.cache/pypoetry/virtualenvs/snow-leopard-O1gqMmLm-py3.8/lib/python3.8/site-packages/sklearn/preprocessing/_label.py:860: UserWarning: unknown class(es) ['HIPS', 'Polyresin'] will be ignored\n",
      "  warnings.warn('unknown class(es) {0} will be ignored'\n",
      "/home/omar/.cache/pypoetry/virtualenvs/snow-leopard-O1gqMmLm-py3.8/lib/python3.8/site-packages/sklearn/preprocessing/_label.py:860: UserWarning: unknown class(es) ['100 x 70', '105 x 148', '106 x 156 mm', '2-15/16\" x 4-1/16\"', '210 x 148', '48 x 16.9', '5\" x 7\"', '70 x 42.3', 'legal'] will be ignored\n",
      "  warnings.warn('unknown class(es) {0} will be ignored'\n"
     ]
    },
    {
     "name": "stdout",
     "output_type": "stream",
     "text": [
      "Training model\n",
      "Generating predictions\n",
      "                precision    recall  f1-score   support\n",
      "\n",
      "Ballpoint Pens       1.00      0.75      0.86         4\n",
      "         Other       1.00      1.00      1.00      1450\n",
      "\n",
      "      accuracy                           1.00      1454\n",
      "     macro avg       1.00      0.88      0.93      1454\n",
      "  weighted avg       1.00      1.00      1.00      1454\n",
      "\n",
      "------------------\n",
      "Processing fold 3\n",
      "Generating features\n"
     ]
    },
    {
     "name": "stderr",
     "output_type": "stream",
     "text": [
      "/home/omar/.cache/pypoetry/virtualenvs/snow-leopard-O1gqMmLm-py3.8/lib/python3.8/site-packages/sklearn/preprocessing/_label.py:860: UserWarning: unknown class(es) ['150', '250', '288', '40', '60'] will be ignored\n",
      "  warnings.warn('unknown class(es) {0} will be ignored'\n",
      "/home/omar/.cache/pypoetry/virtualenvs/snow-leopard-O1gqMmLm-py3.8/lib/python3.8/site-packages/sklearn/preprocessing/_label.py:860: UserWarning: unknown class(es) ['Leather'] will be ignored\n",
      "  warnings.warn('unknown class(es) {0} will be ignored'\n",
      "/home/omar/.cache/pypoetry/virtualenvs/snow-leopard-O1gqMmLm-py3.8/lib/python3.8/site-packages/sklearn/preprocessing/_label.py:860: UserWarning: unknown class(es) ['AA (LR6)'] will be ignored\n",
      "  warnings.warn('unknown class(es) {0} will be ignored'\n",
      "/home/omar/.cache/pypoetry/virtualenvs/snow-leopard-O1gqMmLm-py3.8/lib/python3.8/site-packages/sklearn/preprocessing/_label.py:860: UserWarning: unknown class(es) ['300 x 200', '400 x 300', '400 x 700', '400 x 800'] will be ignored\n",
      "  warnings.warn('unknown class(es) {0} will be ignored'\n",
      "/home/omar/.cache/pypoetry/virtualenvs/snow-leopard-O1gqMmLm-py3.8/lib/python3.8/site-packages/sklearn/preprocessing/_label.py:860: UserWarning: unknown class(es) ['USB & Parallel'] will be ignored\n",
      "  warnings.warn('unknown class(es) {0} will be ignored'\n",
      "/home/omar/.cache/pypoetry/virtualenvs/snow-leopard-O1gqMmLm-py3.8/lib/python3.8/site-packages/sklearn/preprocessing/_label.py:860: UserWarning: unknown class(es) ['23/10', '25/10', '26/8', '8'] will be ignored\n",
      "  warnings.warn('unknown class(es) {0} will be ignored'\n",
      "/home/omar/.cache/pypoetry/virtualenvs/snow-leopard-O1gqMmLm-py3.8/lib/python3.8/site-packages/sklearn/preprocessing/_label.py:860: UserWarning: unknown class(es) ['CE', 'REACH'] will be ignored\n",
      "  warnings.warn('unknown class(es) {0} will be ignored'\n",
      "/home/omar/.cache/pypoetry/virtualenvs/snow-leopard-O1gqMmLm-py3.8/lib/python3.8/site-packages/sklearn/preprocessing/_label.py:860: UserWarning: unknown class(es) ['Small medium business'] will be ignored\n",
      "  warnings.warn('unknown class(es) {0} will be ignored'\n",
      "/home/omar/.cache/pypoetry/virtualenvs/snow-leopard-O1gqMmLm-py3.8/lib/python3.8/site-packages/sklearn/preprocessing/_label.py:860: UserWarning: unknown class(es) ['Aqua colour', 'Charcoal', 'Magenta', 'Natural'] will be ignored\n",
      "  warnings.warn('unknown class(es) {0} will be ignored'\n",
      "/home/omar/.cache/pypoetry/virtualenvs/snow-leopard-O1gqMmLm-py3.8/lib/python3.8/site-packages/sklearn/preprocessing/_label.py:860: UserWarning: unknown class(es) ['ABS', 'Foam', 'Thermoplastic Rubber (TPR)'] will be ignored\n",
      "  warnings.warn('unknown class(es) {0} will be ignored'\n",
      "/home/omar/.cache/pypoetry/virtualenvs/snow-leopard-O1gqMmLm-py3.8/lib/python3.8/site-packages/sklearn/preprocessing/_label.py:860: UserWarning: unknown class(es) ['Grey', 'N', 'Pink', 'Purple'] will be ignored\n",
      "  warnings.warn('unknown class(es) {0} will be ignored'\n",
      "/home/omar/.cache/pypoetry/virtualenvs/snow-leopard-O1gqMmLm-py3.8/lib/python3.8/site-packages/sklearn/preprocessing/_label.py:860: UserWarning: unknown class(es) ['', '105 x 57', '4\" x 6\"', '420 x 300 (A3 album)', '60 x 90 mm', '74 x 105 mm (A7)', 'Credit Card (54x86mm)', 'Foolscap', 'Photo (10x15cm)', 'А4'] will be ignored\n",
      "  warnings.warn('unknown class(es) {0} will be ignored'\n",
      "/home/omar/.cache/pypoetry/virtualenvs/snow-leopard-O1gqMmLm-py3.8/lib/python3.8/site-packages/sklearn/preprocessing/_label.py:860: UserWarning: unknown class(es) ['Pastel'] will be ignored\n",
      "  warnings.warn('unknown class(es) {0} will be ignored'\n",
      "/home/omar/.cache/pypoetry/virtualenvs/snow-leopard-O1gqMmLm-py3.8/lib/python3.8/site-packages/sklearn/preprocessing/_label.py:860: UserWarning: unknown class(es) ['Bordeaux'] will be ignored\n",
      "  warnings.warn('unknown class(es) {0} will be ignored'\n"
     ]
    },
    {
     "name": "stdout",
     "output_type": "stream",
     "text": [
      "Training model\n",
      "Generating predictions\n",
      "                precision    recall  f1-score   support\n",
      "\n",
      "Ballpoint Pens       1.00      0.50      0.67         4\n",
      "         Other       1.00      1.00      1.00      1450\n",
      "\n",
      "      accuracy                           1.00      1454\n",
      "     macro avg       1.00      0.75      0.83      1454\n",
      "  weighted avg       1.00      1.00      1.00      1454\n",
      "\n",
      "------------------\n",
      "Processing fold 4\n",
      "Generating features\n"
     ]
    },
    {
     "name": "stderr",
     "output_type": "stream",
     "text": [
      "/home/omar/.cache/pypoetry/virtualenvs/snow-leopard-O1gqMmLm-py3.8/lib/python3.8/site-packages/sklearn/preprocessing/_label.py:860: UserWarning: unknown class(es) ['Wood'] will be ignored\n",
      "  warnings.warn('unknown class(es) {0} will be ignored'\n",
      "/home/omar/.cache/pypoetry/virtualenvs/snow-leopard-O1gqMmLm-py3.8/lib/python3.8/site-packages/sklearn/preprocessing/_label.py:860: UserWarning: unknown class(es) ['240', '462', '65'] will be ignored\n",
      "  warnings.warn('unknown class(es) {0} will be ignored'\n",
      "/home/omar/.cache/pypoetry/virtualenvs/snow-leopard-O1gqMmLm-py3.8/lib/python3.8/site-packages/sklearn/preprocessing/_label.py:860: UserWarning: unknown class(es) ['Plywood', 'Wood'] will be ignored\n",
      "  warnings.warn('unknown class(es) {0} will be ignored'\n",
      "/home/omar/.cache/pypoetry/virtualenvs/snow-leopard-O1gqMmLm-py3.8/lib/python3.8/site-packages/sklearn/preprocessing/_label.py:860: UserWarning: unknown class(es) ['NiMH AAA'] will be ignored\n",
      "  warnings.warn('unknown class(es) {0} will be ignored'\n",
      "/home/omar/.cache/pypoetry/virtualenvs/snow-leopard-O1gqMmLm-py3.8/lib/python3.8/site-packages/sklearn/preprocessing/_label.py:860: UserWarning: unknown class(es) ['N'] will be ignored\n",
      "  warnings.warn('unknown class(es) {0} will be ignored'\n",
      "/home/omar/.cache/pypoetry/virtualenvs/snow-leopard-O1gqMmLm-py3.8/lib/python3.8/site-packages/sklearn/preprocessing/_label.py:860: UserWarning: unknown class(es) ['CardBus+USB 2.0', 'ExpressCard', 'External TAD', 'Parallel & Ethernet'] will be ignored\n",
      "  warnings.warn('unknown class(es) {0} will be ignored'\n",
      "/home/omar/.cache/pypoetry/virtualenvs/snow-leopard-O1gqMmLm-py3.8/lib/python3.8/site-packages/sklearn/preprocessing/_label.py:860: UserWarning: unknown class(es) ['PVC'] will be ignored\n",
      "  warnings.warn('unknown class(es) {0} will be ignored'\n",
      "/home/omar/.cache/pypoetry/virtualenvs/snow-leopard-O1gqMmLm-py3.8/lib/python3.8/site-packages/sklearn/preprocessing/_label.py:860: UserWarning: unknown class(es) ['Orange', 'White'] will be ignored\n",
      "  warnings.warn('unknown class(es) {0} will be ignored'\n",
      "/home/omar/.cache/pypoetry/virtualenvs/snow-leopard-O1gqMmLm-py3.8/lib/python3.8/site-packages/sklearn/preprocessing/_label.py:860: UserWarning: unknown class(es) ['26/10'] will be ignored\n",
      "  warnings.warn('unknown class(es) {0} will be ignored'\n",
      "/home/omar/.cache/pypoetry/virtualenvs/snow-leopard-O1gqMmLm-py3.8/lib/python3.8/site-packages/sklearn/preprocessing/_label.py:860: UserWarning: unknown class(es) ['Bronze', 'Cream', 'Fuchsia', 'Tan'] will be ignored\n",
      "  warnings.warn('unknown class(es) {0} will be ignored'\n",
      "/home/omar/.cache/pypoetry/virtualenvs/snow-leopard-O1gqMmLm-py3.8/lib/python3.8/site-packages/sklearn/preprocessing/_label.py:860: UserWarning: unknown class(es) ['USB Type-C to USB Type-C'] will be ignored\n",
      "  warnings.warn('unknown class(es) {0} will be ignored'\n",
      "/home/omar/.cache/pypoetry/virtualenvs/snow-leopard-O1gqMmLm-py3.8/lib/python3.8/site-packages/sklearn/preprocessing/_label.py:860: UserWarning: unknown class(es) ['10 x 15', '10 x 15cm', '105 x 48', '10x15cm', '300 x 420 (A3)', 'Key Card (64x99mm)', 'business cards', 'clear loops', 'luggage tags'] will be ignored\n",
      "  warnings.warn('unknown class(es) {0} will be ignored'\n",
      "/home/omar/.cache/pypoetry/virtualenvs/snow-leopard-O1gqMmLm-py3.8/lib/python3.8/site-packages/sklearn/preprocessing/_label.py:860: UserWarning: unknown class(es) ['Bordeaux', 'Gold', 'Navy', 'Rose', 'Silver'] will be ignored\n",
      "  warnings.warn('unknown class(es) {0} will be ignored'\n"
     ]
    },
    {
     "name": "stdout",
     "output_type": "stream",
     "text": [
      "Training model\n",
      "Generating predictions\n",
      "                precision    recall  f1-score   support\n",
      "\n",
      "Ballpoint Pens       1.00      0.60      0.75         5\n",
      "         Other       1.00      1.00      1.00      1449\n",
      "\n",
      "      accuracy                           1.00      1454\n",
      "     macro avg       1.00      0.80      0.87      1454\n",
      "  weighted avg       1.00      1.00      1.00      1454\n",
      "\n",
      "------------------\n",
      "Processing fold 5\n",
      "Generating features\n",
      "Training model\n",
      "Generating predictions\n",
      "                precision    recall  f1-score   support\n",
      "\n",
      "Ballpoint Pens       1.00      0.50      0.67         4\n",
      "         Other       1.00      1.00      1.00      1449\n",
      "\n",
      "      accuracy                           1.00      1453\n",
      "     macro avg       1.00      0.75      0.83      1453\n",
      "  weighted avg       1.00      1.00      1.00      1453\n",
      "\n"
     ]
    },
    {
     "name": "stderr",
     "output_type": "stream",
     "text": [
      "/home/omar/.cache/pypoetry/virtualenvs/snow-leopard-O1gqMmLm-py3.8/lib/python3.8/site-packages/sklearn/preprocessing/_label.py:860: UserWarning: unknown class(es) ['Fabric'] will be ignored\n",
      "  warnings.warn('unknown class(es) {0} will be ignored'\n",
      "/home/omar/.cache/pypoetry/virtualenvs/snow-leopard-O1gqMmLm-py3.8/lib/python3.8/site-packages/sklearn/preprocessing/_label.py:860: UserWarning: unknown class(es) ['120', '152', '7', '84', '96'] will be ignored\n",
      "  warnings.warn('unknown class(es) {0} will be ignored'\n",
      "/home/omar/.cache/pypoetry/virtualenvs/snow-leopard-O1gqMmLm-py3.8/lib/python3.8/site-packages/sklearn/preprocessing/_label.py:860: UserWarning: unknown class(es) ['Plasteramic', 'Steel', 'Wax'] will be ignored\n",
      "  warnings.warn('unknown class(es) {0} will be ignored'\n",
      "/home/omar/.cache/pypoetry/virtualenvs/snow-leopard-O1gqMmLm-py3.8/lib/python3.8/site-packages/sklearn/preprocessing/_label.py:860: UserWarning: unknown class(es) ['4 x AAA + CR2032'] will be ignored\n",
      "  warnings.warn('unknown class(es) {0} will be ignored'\n",
      "/home/omar/.cache/pypoetry/virtualenvs/snow-leopard-O1gqMmLm-py3.8/lib/python3.8/site-packages/sklearn/preprocessing/_label.py:860: UserWarning: unknown class(es) ['2.0', 'USB 1.1'] will be ignored\n",
      "  warnings.warn('unknown class(es) {0} will be ignored'\n",
      "/home/omar/.cache/pypoetry/virtualenvs/snow-leopard-O1gqMmLm-py3.8/lib/python3.8/site-packages/sklearn/preprocessing/_label.py:860: UserWarning: unknown class(es) ['10', '100x P3 24/6 or 140x P3 26/6', '100xP2 (No. 10)', '5592', '5593', '5594', 'Leitz 5591'] will be ignored\n",
      "  warnings.warn('unknown class(es) {0} will be ignored'\n",
      "/home/omar/.cache/pypoetry/virtualenvs/snow-leopard-O1gqMmLm-py3.8/lib/python3.8/site-packages/sklearn/preprocessing/_label.py:860: UserWarning: unknown class(es) ['Brochure'] will be ignored\n",
      "  warnings.warn('unknown class(es) {0} will be ignored'\n",
      "/home/omar/.cache/pypoetry/virtualenvs/snow-leopard-O1gqMmLm-py3.8/lib/python3.8/site-packages/sklearn/preprocessing/_label.py:860: UserWarning: unknown class(es) ['Foil', 'Polymethylmethacrylate (PMMA)', 'Textile'] will be ignored\n",
      "  warnings.warn('unknown class(es) {0} will be ignored'\n",
      "/home/omar/.cache/pypoetry/virtualenvs/snow-leopard-O1gqMmLm-py3.8/lib/python3.8/site-packages/sklearn/preprocessing/_label.py:860: UserWarning: unknown class(es) ['Green', 'Yellow'] will be ignored\n",
      "  warnings.warn('unknown class(es) {0} will be ignored'\n",
      "/home/omar/.cache/pypoetry/virtualenvs/snow-leopard-O1gqMmLm-py3.8/lib/python3.8/site-packages/sklearn/preprocessing/_label.py:860: UserWarning: unknown class(es) ['10 x 15 cm', '38.1 x 21.2', '70 x 37', '8.5\" x 11\" (Letter)', '97 x 42.3', 'A4 - Legal'] will be ignored\n",
      "  warnings.warn('unknown class(es) {0} will be ignored'\n",
      "/home/omar/.cache/pypoetry/virtualenvs/snow-leopard-O1gqMmLm-py3.8/lib/python3.8/site-packages/sklearn/preprocessing/_label.py:860: UserWarning: unknown class(es) ['Light magenta', 'Metallic'] will be ignored\n",
      "  warnings.warn('unknown class(es) {0} will be ignored'\n"
     ]
    }
   ],
   "source": [
    "X = list(df.index)\n",
    "y = list(df.category_id)\n",
    "fold_no = 0\n",
    "predicted_proba = []\n",
    "predicted_label = []\n",
    "for train_index, test_index in sss.split(X, y):\n",
    "    fold_no += 1\n",
    "    print(f\"------------------\\nProcessing fold {fold_no}\")\n",
    "    df_train = df.iloc[train_index]\n",
    "    df_test = df.iloc[test_index]\n",
    "    \n",
    "    feateure_transformer = feature.BasicIceCatFeatureTransformer(output_size=0.99)\n",
    "    label_encoder = LabelEncoder()\n",
    "    \n",
    "    print(\"Generating features\")\n",
    "    feateure_transformer.fit(df_train)\n",
    "    label_encoder.fit(df_train.category_name)\n",
    "    \n",
    "    X_train = feateure_transformer.transform(df_train)\n",
    "    X_test = feateure_transformer.transform(df_test)\n",
    "    y_train = label_encoder.transform(df_train.category_name)\n",
    "    y_test = label_encoder.transform(df_test.category_name)\n",
    "    \n",
    "    print(\"Training model\")\n",
    "    lr = LogisticRegression(max_iter=1000)\n",
    "    lr.fit(X_train, y_train)\n",
    "    \n",
    "    print(\"Generating predictions\")\n",
    "    y_pred_proba = lr.predict_proba(X_test)\n",
    "    y_pred = lr.predict(X_test)\n",
    "    \n",
    "    print(classification_report(y_true=y_test, y_pred=y_pred, target_names=label_encoder.classes_))\n",
    "    \n",
    "    df_test.index, y_pred_proba[:,0]\n",
    "    \n",
    "    predicted_proba += list(zip(df_test.index, y_pred_proba[:,0]))\n",
    "    predicted_label += list(zip(df_test.index, y_pred))"
   ]
  },
  {
   "cell_type": "code",
   "execution_count": 9,
   "id": "7ed93c0d-5d42-47e8-b0e1-fe25faf8015a",
   "metadata": {},
   "outputs": [],
   "source": [
    "indices, proba = zip(*predicted_proba)\n",
    "df.loc[list(indices), f\"PredProba_{selected_category}\"] = list(proba)"
   ]
  },
  {
   "cell_type": "code",
   "execution_count": 10,
   "id": "3f0c6948-2edd-4843-b2ad-592077496a6d",
   "metadata": {},
   "outputs": [
    {
     "data": {
      "text/plain": [
       "<matplotlib.legend.Legend at 0x7f13f6a962b0>"
      ]
     },
     "execution_count": 10,
     "metadata": {},
     "output_type": "execute_result"
    },
    {
     "data": {
      "image/png": "[encoded data removed]",
      "text/plain": [
       "<Figure size 720x360 with 1 Axes>"
      ]
     },
     "metadata": {
      "needs_background": "light"
     },
     "output_type": "display_data"
    }
   ],
   "source": [
    "y_test_proba_lr = 1 - df[f\"PredProba_{selected_category}\"]\n",
    "y_test = np.array(df[\"category_id\"] == 1, dtype=int)\n",
    "fpr, tpr, thresholds = roc_curve(y_test, y_test_proba_lr)\n",
    "fig, ax = plt.subplots(figsize=(10, 5))\n",
    "ax.plot([0, 1], [0, 1], linestyle='--', label='No Skill')\n",
    "ax.plot(fpr, tpr, marker='.', label='Logistic Regression')\n",
    "ax.set_xlabel('False Positive Rate')\n",
    "ax.set_ylabel('True Positive Rate')\n",
    "\n",
    "ax.legend()"
   ]
  },
  {
   "cell_type": "code",
   "execution_count": 11,
   "id": "56cacac1-1fa3-4efc-b1ad-1556059a688e",
   "metadata": {},
   "outputs": [],
   "source": [
    "indices, labels = zip(*predicted_label)\n",
    "df.loc[list(indices), f\"PredLabel_{selected_category}\"] = list(labels)"
   ]
  },
  {
   "cell_type": "code",
   "execution_count": 12,
   "id": "5c3b1e7d-2b00-43b2-8e1a-e53f25191b52",
   "metadata": {},
   "outputs": [],
   "source": [
    "y_pred = df[f\"PredLabel_{selected_category}\"] \n",
    "y_test = np.array(df[\"category_id\"] == 1, dtype=int)"
   ]
  },
  {
   "cell_type": "code",
   "execution_count": 13,
   "id": "86ddb2ec-60a1-41a5-b39b-96e9364c2149",
   "metadata": {},
   "outputs": [
    {
     "name": "stdout",
     "output_type": "stream",
     "text": [
      "                precision    recall  f1-score   support\n",
      "\n",
      "Ballpoint Pens       0.77      0.48      0.59        21\n",
      "         Other       1.00      1.00      1.00      7248\n",
      "\n",
      "      accuracy                           1.00      7269\n",
      "     macro avg       0.88      0.74      0.79      7269\n",
      "  weighted avg       1.00      1.00      1.00      7269\n",
      "\n"
     ]
    }
   ],
   "source": [
    "print(classification_report(y_true=y_test, y_pred=y_pred, target_names=label_encoder.classes_))"
   ]
  },
  {
   "cell_type": "code",
   "execution_count": null,
   "id": "233b5c59-afd9-44b1-9239-649fce6d49b2",
   "metadata": {},
   "outputs": [],
   "source": []
  },
  {
   "cell_type": "code",
   "execution_count": null,
   "id": "2dbf1162-b280-4d7e-9dfa-560b6eb6497c",
   "metadata": {},
   "outputs": [],
   "source": []
  }
 ],
 "metadata": {
  "kernelspec": {
   "display_name": "Python 3",
   "language": "python",
   "name": "python3"
  },
  "language_info": {
   "codemirror_mode": {
    "name": "ipython",
    "version": 3
   },
   "file_extension": ".py",
   "mimetype": "text/x-python",
   "name": "python",
   "nbconvert_exporter": "python",
   "pygments_lexer": "ipython3",
   "version": "3.8.8"
  }
 },
 "nbformat": 4,
 "nbformat_minor": 5
}
