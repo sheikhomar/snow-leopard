{
 "cells": [
  {
   "cell_type": "code",
   "execution_count": 1,
   "id": "ae12281d-0398-4863-a15c-a51cd8cb5663",
   "metadata": {},
   "outputs": [],
   "source": [
    "from itertools import chain\n",
    "\n",
    "import matplotlib.pyplot as plt\n",
    "import networkx as nx\n",
    "import numpy as np\n",
    "import pandas as pd\n",
    "import plotly.express as px\n",
    "import plotly.graph_objects as go\n",
    "import seaborn as sns\n",
    "import scipy\n",
    "\n",
    "\n",
    "from scipy.sparse.csgraph import laplacian\n",
    "\n",
    "from sklearn.cluster import SpectralClustering\n",
    "from sklearn.decomposition import TruncatedSVD, PCA\n",
    "from sklearn.manifold import TSNE\n",
    "from sklearn.metrics.pairwise import rbf_kernel, cosine_similarity\n",
    "from sklearn.cluster import SpectralClustering\n",
    "from sklearn.gaussian_process import GaussianProcessClassifier\n",
    "from sklearn.linear_model import LogisticRegression\n",
    "from sklearn.gaussian_process.kernels import RBF\n",
    "from sklearn.model_selection import RepeatedStratifiedKFold, cross_val_score\n",
    "from sklearn.preprocessing import LabelEncoder\n",
    "from sklearn.metrics import roc_curve, auc, roc_auc_score, ConfusionMatrixDisplay, confusion_matrix, make_scorer, f1_score\n",
    "from sklearn.metrics import classification_report\n",
    "\n",
    "from sklearn.model_selection import train_test_split\n",
    "\n",
    "import feature, utils"
   ]
  },
  {
   "cell_type": "code",
   "execution_count": 2,
   "id": "6dfa4ec6-7564-4f82-aa28-b21e34731a48",
   "metadata": {},
   "outputs": [
    {
     "name": "stdout",
     "output_type": "stream",
     "text": [
      "Number of categories: 2\n"
     ]
    }
   ],
   "source": [
    "# Load data\n",
    "df_data = pd.read_csv('../data/ice-cat-office-products.csv.gz', dtype=str, index_col=0)\n",
    "\n",
    "category_counts = df_data[\"category_name\"].value_counts()\n",
    "large_enough_categories = category_counts[category_counts > 20].index.tolist()\n",
    "\n",
    "df_data = df_data[df_data.category_name.isin(large_enough_categories)]\n",
    "\n",
    "# Filter out small product categories\n",
    "# top_categories = utils.find_top_n_categories(df_data, top_n=3)\n",
    "top_categories = [\n",
    "    'Folders',                     # N=645\n",
    "#     'Self-Adhesive Labels',        # N=324\n",
    "#     'Multimedia Carts & Stands',   # N=317\n",
    "#     'Calculators',                 # N=305\n",
    "#     'Writing Notebooks'            # N=300\n",
    "#     'Ring Binders',                # N=298\n",
    "#     'Printer Cabinets & Stands',   # N=252\n",
    "#     'Whiteboards',                 # N=232\n",
    "#     'Fax Machines',                # N=210\n",
    "#     'File Storage Boxes'           # N=192\n",
    "#     'Binding Covers',              # N=190\n",
    "    'Self-Adhesive Note Paper',    # N=172\n",
    "#     'Staplers',                    # N=162\n",
    "#     'Desk Trays/Organizers',       # N=159\n",
    "#     'Board Accessories',           # N=154\n",
    "#     'Seals',                       # N=145\n",
    "#     'Computer Desks',              # N=144\n",
    "#     'Hole Punches',                # N=136\n",
    "#     'Hanging Folders',             # N=132\n",
    "#     'Interactive Whiteboards',     # N=131\n",
    "#     'Laminator Pouches',           # N=128\n",
    "#     'Stationery Tapes',            # N=124\n",
    "#     'Bulletin Boards',             # N=123\n",
    "#     'Tab Indexes',                 # N=114\n",
    "#     'Folder Binding Accessories',  # N=109\n",
    "#     'Non-Adhesive Labels',         # N=103\n",
    "]\n",
    "df_data = df_data[df_data.category_name.isin(top_categories)]\n",
    "print(f\"Number of categories: {len(df_data.category_name.unique())}\")"
   ]
  },
  {
   "cell_type": "code",
   "execution_count": 3,
   "id": "edbb766f-143c-4784-9621-a3d9419de3b8",
   "metadata": {},
   "outputs": [],
   "source": [
    "df_train, df_test = utils.split_train_test(df_data)"
   ]
  },
  {
   "cell_type": "code",
   "execution_count": 4,
   "id": "5218e07a-4267-43cf-acd1-20c8560f1dc5",
   "metadata": {},
   "outputs": [],
   "source": [
    "train_labels = set(df_train.category_name.unique())\n",
    "test_labels = set(df_test.category_name.unique())"
   ]
  },
  {
   "cell_type": "code",
   "execution_count": 5,
   "id": "31ce0681-90e3-4224-83f6-034268ddcab5",
   "metadata": {},
   "outputs": [
    {
     "data": {
      "text/plain": [
       "True"
      ]
     },
     "execution_count": 5,
     "metadata": {},
     "output_type": "execute_result"
    }
   ],
   "source": [
    "len(train_labels) == len(test_labels)"
   ]
  },
  {
   "cell_type": "code",
   "execution_count": 6,
   "id": "a1279f83-a921-4c01-aae9-83273ab6dd44",
   "metadata": {},
   "outputs": [
    {
     "data": {
      "text/plain": [
       "set()"
      ]
     },
     "execution_count": 6,
     "metadata": {},
     "output_type": "execute_result"
    }
   ],
   "source": [
    "test_labels - train_labels"
   ]
  },
  {
   "cell_type": "code",
   "execution_count": 7,
   "id": "04b9b2c4-e66c-4b40-818f-4a177a96eb19",
   "metadata": {},
   "outputs": [
    {
     "data": {
      "text/plain": [
       "set()"
      ]
     },
     "execution_count": 7,
     "metadata": {},
     "output_type": "execute_result"
    }
   ],
   "source": [
    "train_labels - test_labels"
   ]
  },
  {
   "cell_type": "code",
   "execution_count": 8,
   "id": "5185cb34-d74a-42f3-9ff9-55afad0fb522",
   "metadata": {},
   "outputs": [
    {
     "data": {
      "text/plain": [
       "(653, 1230)"
      ]
     },
     "execution_count": 8,
     "metadata": {},
     "output_type": "execute_result"
    }
   ],
   "source": [
    "df_train.shape"
   ]
  },
  {
   "cell_type": "code",
   "execution_count": 9,
   "id": "35a7ef59-0f7b-4537-8e25-f1a7dd1a6d83",
   "metadata": {},
   "outputs": [
    {
     "data": {
      "text/plain": [
       "(164, 1230)"
      ]
     },
     "execution_count": 9,
     "metadata": {},
     "output_type": "execute_result"
    }
   ],
   "source": [
    "df_test.shape"
   ]
  },
  {
   "cell_type": "code",
   "execution_count": 10,
   "id": "e582a0cc-9519-4b63-b366-0dc7774a0595",
   "metadata": {},
   "outputs": [],
   "source": [
    "feateure_transformer = feature.BasicIceCatFeatureTransformer(output_size=64)\n",
    "# feateure_transformer = feature.IceCatFeatureTransformer(output_size=64)"
   ]
  },
  {
   "cell_type": "code",
   "execution_count": 11,
   "id": "02f96fca-139d-40e6-84a5-e9d7ff5562f3",
   "metadata": {},
   "outputs": [
    {
     "name": "stdout",
     "output_type": "stream",
     "text": [
      "Number of sparsely populated columns: 1146\n",
      "Pseudo-key Columns: \n",
      "set()\n",
      "Number of valid columns: 40\n",
      "Number of columns: 1248\n"
     ]
    },
    {
     "data": {
      "text/plain": [
       "BasicIceCatFeatureTransformer(output_size=64)"
      ]
     },
     "execution_count": 11,
     "metadata": {},
     "output_type": "execute_result"
    }
   ],
   "source": [
    "feateure_transformer.fit(df_train)"
   ]
  },
  {
   "cell_type": "code",
   "execution_count": 12,
   "id": "86c25ecd-0e86-4254-87a3-0ca92be696a3",
   "metadata": {},
   "outputs": [],
   "source": [
    "X_train = feateure_transformer.transform(df_train)"
   ]
  },
  {
   "cell_type": "code",
   "execution_count": 13,
   "id": "0e75aecf-93fc-47af-9b95-0a69c3a4c97b",
   "metadata": {},
   "outputs": [
    {
     "data": {
      "text/plain": [
       "(653, 64)"
      ]
     },
     "execution_count": 13,
     "metadata": {},
     "output_type": "execute_result"
    }
   ],
   "source": [
    "X_train.shape"
   ]
  },
  {
   "cell_type": "code",
   "execution_count": 14,
   "id": "151dd611-075d-4502-b1d6-b18ebf41ea6a",
   "metadata": {},
   "outputs": [
    {
     "name": "stderr",
     "output_type": "stream",
     "text": [
      "/home/omar/.cache/pypoetry/virtualenvs/snow-leopard-O1gqMmLm-py3.8/lib/python3.8/site-packages/sklearn/preprocessing/_label.py:860: UserWarning: unknown class(es) ['Cream', 'Fuchsia'] will be ignored\n",
      "  warnings.warn('unknown class(es) {0} will be ignored'\n",
      "/home/omar/.cache/pypoetry/virtualenvs/snow-leopard-O1gqMmLm-py3.8/lib/python3.8/site-packages/sklearn/preprocessing/_label.py:860: UserWarning: unknown class(es) ['Hardboard'] will be ignored\n",
      "  warnings.warn('unknown class(es) {0} will be ignored'\n"
     ]
    }
   ],
   "source": [
    "X_test = feateure_transformer.transform(df_test)"
   ]
  },
  {
   "cell_type": "code",
   "execution_count": 15,
   "id": "a19ea634-6619-41c9-8afc-84ab8d7c3141",
   "metadata": {},
   "outputs": [
    {
     "data": {
      "text/plain": [
       "(164, 64)"
      ]
     },
     "execution_count": 15,
     "metadata": {},
     "output_type": "execute_result"
    }
   ],
   "source": [
    "X_test.shape"
   ]
  },
  {
   "cell_type": "code",
   "execution_count": 16,
   "id": "06099f5b-157a-4baa-b4c8-5284e00c9504",
   "metadata": {},
   "outputs": [],
   "source": [
    "train_labels = set(df_train.category_name.unique())"
   ]
  },
  {
   "cell_type": "code",
   "execution_count": 17,
   "id": "9771a83f-e140-4968-a979-28be70099425",
   "metadata": {},
   "outputs": [],
   "source": [
    "test_labels = set(df_test.category_name.unique())"
   ]
  },
  {
   "cell_type": "code",
   "execution_count": 18,
   "id": "756c26ab-04cf-4f84-96c7-2c2b5c09ac74",
   "metadata": {},
   "outputs": [],
   "source": [
    "label_encoder = LabelEncoder()"
   ]
  },
  {
   "cell_type": "code",
   "execution_count": 19,
   "id": "83e18fc8-9a55-4f2d-812d-4123ffc571e6",
   "metadata": {},
   "outputs": [
    {
     "data": {
      "text/plain": [
       "LabelEncoder()"
      ]
     },
     "execution_count": 19,
     "metadata": {},
     "output_type": "execute_result"
    }
   ],
   "source": [
    "label_encoder.fit(df_train.category_name)"
   ]
  },
  {
   "cell_type": "code",
   "execution_count": null,
   "id": "7195693a-b60a-4fdd-b496-ea71cdf71490",
   "metadata": {},
   "outputs": [],
   "source": []
  },
  {
   "cell_type": "code",
   "execution_count": 20,
   "id": "3ae04e97-05ee-42ff-997d-fd42d2236ada",
   "metadata": {},
   "outputs": [],
   "source": [
    "y_train = label_encoder.transform(df_train.category_name)\n",
    "y_test = label_encoder.transform(df_test.category_name)"
   ]
  },
  {
   "cell_type": "code",
   "execution_count": 21,
   "id": "44c74008-f42d-4e35-b4d6-e1b11c1f174c",
   "metadata": {},
   "outputs": [],
   "source": [
    "lr = LogisticRegression(max_iter=1000)"
   ]
  },
  {
   "cell_type": "code",
   "execution_count": 22,
   "id": "8dd26709-4361-4714-932c-beb6f37de2e8",
   "metadata": {},
   "outputs": [
    {
     "data": {
      "text/plain": [
       "LogisticRegression(max_iter=1000)"
      ]
     },
     "execution_count": 22,
     "metadata": {},
     "output_type": "execute_result"
    }
   ],
   "source": [
    "lr.fit(X_train, y_train)"
   ]
  },
  {
   "cell_type": "code",
   "execution_count": 23,
   "id": "42146b92-991c-4041-8885-ce4fd3bf1f4e",
   "metadata": {},
   "outputs": [],
   "source": [
    "y_pred = lr.predict(X_test)"
   ]
  },
  {
   "cell_type": "code",
   "execution_count": 24,
   "id": "f371772c-74ed-401a-97d4-9b17b30a9456",
   "metadata": {},
   "outputs": [
    {
     "name": "stdout",
     "output_type": "stream",
     "text": [
      "                          precision    recall  f1-score   support\n",
      "\n",
      "                 Folders       0.99      1.00      1.00       129\n",
      "Self-Adhesive Note Paper       1.00      0.97      0.99        35\n",
      "\n",
      "                accuracy                           0.99       164\n",
      "               macro avg       1.00      0.99      0.99       164\n",
      "            weighted avg       0.99      0.99      0.99       164\n",
      "\n"
     ]
    }
   ],
   "source": [
    "print(classification_report(y_true=y_test, y_pred=y_pred, target_names=label_encoder.classes_))"
   ]
  },
  {
   "cell_type": "code",
   "execution_count": 25,
   "id": "7bdeae63-01f8-4d58-9a23-237376c1a817",
   "metadata": {},
   "outputs": [
    {
     "data": {
      "text/html": [
       "<div>\n",
       "<style scoped>\n",
       "    .dataframe tbody tr th:only-of-type {\n",
       "        vertical-align: middle;\n",
       "    }\n",
       "\n",
       "    .dataframe tbody tr th {\n",
       "        vertical-align: top;\n",
       "    }\n",
       "\n",
       "    .dataframe thead th {\n",
       "        text-align: right;\n",
       "    }\n",
       "</style>\n",
       "<table border=\"1\" class=\"dataframe\">\n",
       "  <thead>\n",
       "    <tr style=\"text-align: right;\">\n",
       "      <th></th>\n",
       "      <th>id</th>\n",
       "      <th>supplier_id</th>\n",
       "      <th>supplier_name</th>\n",
       "      <th>category_id</th>\n",
       "      <th>category_name</th>\n",
       "      <th>title</th>\n",
       "      <th>model_name</th>\n",
       "      <th>description_short</th>\n",
       "      <th>description_middle</th>\n",
       "      <th>description_long</th>\n",
       "      <th>...</th>\n",
       "      <th>Window</th>\n",
       "      <th>Windows operating systems supported</th>\n",
       "      <th>Wiper included</th>\n",
       "      <th>Working area</th>\n",
       "      <th>Working width</th>\n",
       "      <th>Wrist rest</th>\n",
       "      <th>Writing colours</th>\n",
       "      <th>Writing line length</th>\n",
       "      <th>x10n key</th>\n",
       "      <th>Zoom capability</th>\n",
       "    </tr>\n",
       "  </thead>\n",
       "  <tbody>\n",
       "    <tr>\n",
       "      <th>2749</th>\n",
       "      <td>15051343</td>\n",
       "      <td>206</td>\n",
       "      <td>3M</td>\n",
       "      <td>1813</td>\n",
       "      <td>Self-Adhesive Note Paper</td>\n",
       "      <td>3M FT510102336 self-adhesive note paper Multic...</td>\n",
       "      <td>FT510102336</td>\n",
       "      <td>NaN</td>\n",
       "      <td>NaN</td>\n",
       "      <td>NaN</td>\n",
       "      <td>...</td>\n",
       "      <td>NaN</td>\n",
       "      <td>NaN</td>\n",
       "      <td>NaN</td>\n",
       "      <td>NaN</td>\n",
       "      <td>NaN</td>\n",
       "      <td>NaN</td>\n",
       "      <td>NaN</td>\n",
       "      <td>NaN</td>\n",
       "      <td>NaN</td>\n",
       "      <td>NaN</td>\n",
       "    </tr>\n",
       "  </tbody>\n",
       "</table>\n",
       "<p>1 rows × 1230 columns</p>\n",
       "</div>"
      ],
      "text/plain": [
       "            id supplier_id supplier_name category_id  \\\n",
       "2749  15051343         206            3M        1813   \n",
       "\n",
       "                 category_name  \\\n",
       "2749  Self-Adhesive Note Paper   \n",
       "\n",
       "                                                  title   model_name  \\\n",
       "2749  3M FT510102336 self-adhesive note paper Multic...  FT510102336   \n",
       "\n",
       "     description_short description_middle description_long  ... Window  \\\n",
       "2749               NaN                NaN              NaN  ...    NaN   \n",
       "\n",
       "     Windows operating systems supported Wiper included Working area  \\\n",
       "2749                                 NaN            NaN          NaN   \n",
       "\n",
       "     Working width Wrist rest Writing colours Writing line length x10n key  \\\n",
       "2749           NaN        NaN             NaN                 NaN      NaN   \n",
       "\n",
       "     Zoom capability  \n",
       "2749             NaN  \n",
       "\n",
       "[1 rows x 1230 columns]"
      ]
     },
     "execution_count": 25,
     "metadata": {},
     "output_type": "execute_result"
    }
   ],
   "source": [
    "df_test[y_pred != y_test]"
   ]
  },
  {
   "cell_type": "code",
   "execution_count": 26,
   "id": "0caca930-8828-482f-9bef-a1775693ed90",
   "metadata": {},
   "outputs": [
    {
     "data": {
      "text/plain": [
       "array([[129,   0],\n",
       "       [  1,  34]])"
      ]
     },
     "execution_count": 26,
     "metadata": {},
     "output_type": "execute_result"
    }
   ],
   "source": [
    "cm = confusion_matrix(y_true=y_test, y_pred=y_pred)\n",
    "cm"
   ]
  },
  {
   "cell_type": "code",
   "execution_count": null,
   "id": "a9b3b5aa-4958-45e4-a0c9-4fe5b7c2d89f",
   "metadata": {},
   "outputs": [],
   "source": []
  },
  {
   "cell_type": "code",
   "execution_count": null,
   "id": "e0a9d5ee-8d1f-4439-91c5-efd82e338ec2",
   "metadata": {},
   "outputs": [],
   "source": []
  },
  {
   "cell_type": "code",
   "execution_count": 27,
   "id": "9fbe6f7d-b93d-4da8-9174-cede4bf57c58",
   "metadata": {},
   "outputs": [],
   "source": [
    "y_test_proba_lr = lr.predict_proba(X_test)"
   ]
  },
  {
   "cell_type": "code",
   "execution_count": 28,
   "id": "7b6f44b0-7bb9-473e-84c6-6d94ed9db799",
   "metadata": {},
   "outputs": [],
   "source": [
    "fpr, tpr, thresholds = roc_curve(y_test, y_test_proba_lr[:,1])"
   ]
  },
  {
   "cell_type": "code",
   "execution_count": 29,
   "id": "6896efd4-8aa9-40f6-afc3-b65ec6c7265d",
   "metadata": {},
   "outputs": [
    {
     "data": {
      "text/plain": [
       "<matplotlib.legend.Legend at 0x7f47060af130>"
      ]
     },
     "execution_count": 29,
     "metadata": {},
     "output_type": "execute_result"
    },
    {
     "data": {
      "image/png": "[encoded data removed]",
      "text/plain": [
       "<Figure size 720x360 with 1 Axes>"
      ]
     },
     "metadata": {
      "needs_background": "light"
     },
     "output_type": "display_data"
    }
   ],
   "source": [
    "fig, ax = plt.subplots(figsize=(10, 5))\n",
    "ax.plot([0, 1], [0, 1], linestyle='--', label='No Skill')\n",
    "ax.plot(fpr, tpr, marker='.', label='Logistic Regression')\n",
    "ax.set_xlabel('False Positive Rate')\n",
    "ax.set_ylabel('True Positive Rate')\n",
    "\n",
    "ax.legend()"
   ]
  },
  {
   "cell_type": "code",
   "execution_count": null,
   "id": "61c23bc5-6c3b-4e1c-99f6-3fb368d83977",
   "metadata": {},
   "outputs": [],
   "source": []
  }
 ],
 "metadata": {
  "kernelspec": {
   "display_name": "Python 3",
   "language": "python",
   "name": "python3"
  },
  "language_info": {
   "codemirror_mode": {
    "name": "ipython",
    "version": 3
   },
   "file_extension": ".py",
   "mimetype": "text/x-python",
   "name": "python",
   "nbconvert_exporter": "python",
   "pygments_lexer": "ipython3",
   "version": "3.8.8"
  }
 },
 "nbformat": 4,
 "nbformat_minor": 5
}
